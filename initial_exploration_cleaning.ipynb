{
 "cells": [
  {
   "cell_type": "code",
   "execution_count": 319,
   "metadata": {},
   "outputs": [],
   "source": [
    "import pandas as pd\n",
    "import spacy\n",
    "from tqdm import tqdm\n",
    "from pandas import DataFrame\n",
    "import glob\n",
    "import spacy\n",
    "from collections import Counter\n",
    "import numpy as np\n",
    "import matplotlib.pyplot as plt\n",
    "import seaborn as sns\n",
    "import datetime"
   ]
  },
  {
   "cell_type": "code",
   "execution_count": null,
   "metadata": {},
   "outputs": [],
   "source": [
    "nlp = spacy.load('en_core_web_md')"
   ]
  },
  {
   "cell_type": "code",
   "execution_count": null,
   "metadata": {},
   "outputs": [],
   "source": []
  },
  {
   "cell_type": "code",
   "execution_count": null,
   "metadata": {},
   "outputs": [],
   "source": [
    "tweets = pd.read_csv('data/full_dataset.tsv', chunksize = 1000)"
   ]
  },
  {
   "cell_type": "code",
   "execution_count": null,
   "metadata": {},
   "outputs": [],
   "source": [
    "next(tweets)"
   ]
  },
  {
   "cell_type": "code",
   "execution_count": null,
   "metadata": {},
   "outputs": [],
   "source": []
  },
  {
   "cell_type": "markdown",
   "metadata": {},
   "source": [
    "## Importing and cleaning the small tweet dataset from December and January"
   ]
  },
  {
   "cell_type": "code",
   "execution_count": 404,
   "metadata": {},
   "outputs": [],
   "source": [
    "small_tweet_set = pd.read_csv('data/COVID-19/COVID.csv')"
   ]
  },
  {
   "cell_type": "code",
   "execution_count": 405,
   "metadata": {},
   "outputs": [
    {
     "data": {
      "text/html": [
       "<div>\n",
       "<style scoped>\n",
       "    .dataframe tbody tr th:only-of-type {\n",
       "        vertical-align: middle;\n",
       "    }\n",
       "\n",
       "    .dataframe tbody tr th {\n",
       "        vertical-align: top;\n",
       "    }\n",
       "\n",
       "    .dataframe thead th {\n",
       "        text-align: right;\n",
       "    }\n",
       "</style>\n",
       "<table border=\"1\" class=\"dataframe\">\n",
       "  <thead>\n",
       "    <tr style=\"text-align: right;\">\n",
       "      <th></th>\n",
       "      <th>Tweet Id</th>\n",
       "      <th>Tweet URL</th>\n",
       "      <th>Tweet Posted Time (UTC)</th>\n",
       "      <th>Tweet Content</th>\n",
       "      <th>Tweet Type</th>\n",
       "      <th>Client</th>\n",
       "      <th>Retweets Received</th>\n",
       "      <th>Likes Received</th>\n",
       "      <th>Tweet Location</th>\n",
       "      <th>Lat</th>\n",
       "      <th>...</th>\n",
       "      <th>User Id</th>\n",
       "      <th>Name</th>\n",
       "      <th>Screen Name</th>\n",
       "      <th>User Bio</th>\n",
       "      <th>Verified or Non-Verified</th>\n",
       "      <th>Profile URL</th>\n",
       "      <th>Protected or Non-protected</th>\n",
       "      <th>User Followers</th>\n",
       "      <th>User Following</th>\n",
       "      <th>User Account Creation Date</th>\n",
       "    </tr>\n",
       "  </thead>\n",
       "  <tbody>\n",
       "    <tr>\n",
       "      <th>0</th>\n",
       "      <td>\"1233417783175778304\"</td>\n",
       "      <td>https://twitter.com/Giussi92/status/1233417783...</td>\n",
       "      <td>28 Feb 2020 15:44:49</td>\n",
       "      <td>Also the entire Swiss Football League is on ho...</td>\n",
       "      <td>Tweet</td>\n",
       "      <td>Twitter for iPhone</td>\n",
       "      <td>0</td>\n",
       "      <td>0</td>\n",
       "      <td>NaN</td>\n",
       "      <td>NaN</td>\n",
       "      <td>...</td>\n",
       "      <td>\"1556856595\"</td>\n",
       "      <td>Giuseppe Gentile</td>\n",
       "      <td>Giussi92</td>\n",
       "      <td>NaN</td>\n",
       "      <td>Verified</td>\n",
       "      <td>https://twitter.com/Giussi92</td>\n",
       "      <td>Non-Protected</td>\n",
       "      <td>3071</td>\n",
       "      <td>100</td>\n",
       "      <td>30 Jun 2013 00:27:50</td>\n",
       "    </tr>\n",
       "    <tr>\n",
       "      <th>1</th>\n",
       "      <td>\"1233417742520332290\"</td>\n",
       "      <td>https://twitter.com/LAMofficial/status/1233417...</td>\n",
       "      <td>28 Feb 2020 15:44:40</td>\n",
       "      <td>World Health Org Official: Trump’s press confe...</td>\n",
       "      <td>Tweet</td>\n",
       "      <td>Twitter Web App</td>\n",
       "      <td>0</td>\n",
       "      <td>0</td>\n",
       "      <td>Los Angeles CA USA</td>\n",
       "      <td>NaN</td>\n",
       "      <td>...</td>\n",
       "      <td>\"113738369\"</td>\n",
       "      <td>London After Midnight</td>\n",
       "      <td>LAMofficial</td>\n",
       "      <td>London After Midnight is a music project by wr...</td>\n",
       "      <td>Verified</td>\n",
       "      <td>https://twitter.com/LAMofficial</td>\n",
       "      <td>Non-Protected</td>\n",
       "      <td>4189</td>\n",
       "      <td>84</td>\n",
       "      <td>12 Feb 2010 21:43:17</td>\n",
       "    </tr>\n",
       "    <tr>\n",
       "      <th>2</th>\n",
       "      <td>\"1233417741027225602\"</td>\n",
       "      <td>https://twitter.com/mitchellvii/status/1233417...</td>\n",
       "      <td>28 Feb 2020 15:44:39</td>\n",
       "      <td>I mean, Liberals are cheer-leading this #Coron...</td>\n",
       "      <td>Tweet</td>\n",
       "      <td>Twitter Web App</td>\n",
       "      <td>23</td>\n",
       "      <td>64</td>\n",
       "      <td>Miami, FL</td>\n",
       "      <td>NaN</td>\n",
       "      <td>...</td>\n",
       "      <td>\"17980523\"</td>\n",
       "      <td>Bill Mitchell</td>\n",
       "      <td>mitchellvii</td>\n",
       "      <td>Host of YourVoice™ America at http://yourvoice...</td>\n",
       "      <td>Verified</td>\n",
       "      <td>https://twitter.com/mitchellvii</td>\n",
       "      <td>Non-Protected</td>\n",
       "      <td>534045</td>\n",
       "      <td>10037</td>\n",
       "      <td>09 Dec 2008 01:54:21</td>\n",
       "    </tr>\n",
       "    <tr>\n",
       "      <th>3</th>\n",
       "      <td>\"1233417699264356357\"</td>\n",
       "      <td>https://twitter.com/HelenKennedy/status/123341...</td>\n",
       "      <td>28 Feb 2020 15:44:29</td>\n",
       "      <td>Under repeated questioning, Pompeo refuses to ...</td>\n",
       "      <td>Tweet</td>\n",
       "      <td>Twitter for iPhone</td>\n",
       "      <td>4</td>\n",
       "      <td>11</td>\n",
       "      <td>NYC and the North Fork</td>\n",
       "      <td>NaN</td>\n",
       "      <td>...</td>\n",
       "      <td>\"2199541\"</td>\n",
       "      <td>Helen Kennedy</td>\n",
       "      <td>HelenKennedy</td>\n",
       "      <td>Newspaperman (ex NY Daily News &amp;amp; Boston He...</td>\n",
       "      <td>Verified</td>\n",
       "      <td>https://twitter.com/HelenKennedy</td>\n",
       "      <td>Non-Protected</td>\n",
       "      <td>27704</td>\n",
       "      <td>1060</td>\n",
       "      <td>25 Mar 2007 19:14:46</td>\n",
       "    </tr>\n",
       "    <tr>\n",
       "      <th>4</th>\n",
       "      <td>\"1233417674274807808\"</td>\n",
       "      <td>https://twitter.com/W7VOA/status/1233417674274...</td>\n",
       "      <td>28 Feb 2020 15:44:23</td>\n",
       "      <td>#coronavirus comments now from @larry_kudlow h...</td>\n",
       "      <td>Tweet</td>\n",
       "      <td>Twitter for iPhone</td>\n",
       "      <td>0</td>\n",
       "      <td>0</td>\n",
       "      <td>James S. Brady Press Briefing Room</td>\n",
       "      <td>NaN</td>\n",
       "      <td>...</td>\n",
       "      <td>\"17919393\"</td>\n",
       "      <td>Steve Herman</td>\n",
       "      <td>W7VOA</td>\n",
       "      <td>@WhiteHouse bureau chief @VOANews. Member: @aa...</td>\n",
       "      <td>Verified</td>\n",
       "      <td>https://twitter.com/W7VOA</td>\n",
       "      <td>Non-Protected</td>\n",
       "      <td>94269</td>\n",
       "      <td>1999</td>\n",
       "      <td>06 Dec 2008 08:56:45</td>\n",
       "    </tr>\n",
       "  </tbody>\n",
       "</table>\n",
       "<p>5 rows × 22 columns</p>\n",
       "</div>"
      ],
      "text/plain": [
       "                Tweet Id                                          Tweet URL  \\\n",
       "0  \"1233417783175778304\"  https://twitter.com/Giussi92/status/1233417783...   \n",
       "1  \"1233417742520332290\"  https://twitter.com/LAMofficial/status/1233417...   \n",
       "2  \"1233417741027225602\"  https://twitter.com/mitchellvii/status/1233417...   \n",
       "3  \"1233417699264356357\"  https://twitter.com/HelenKennedy/status/123341...   \n",
       "4  \"1233417674274807808\"  https://twitter.com/W7VOA/status/1233417674274...   \n",
       "\n",
       "  Tweet Posted Time (UTC)                                      Tweet Content  \\\n",
       "0    28 Feb 2020 15:44:49  Also the entire Swiss Football League is on ho...   \n",
       "1    28 Feb 2020 15:44:40  World Health Org Official: Trump’s press confe...   \n",
       "2    28 Feb 2020 15:44:39  I mean, Liberals are cheer-leading this #Coron...   \n",
       "3    28 Feb 2020 15:44:29  Under repeated questioning, Pompeo refuses to ...   \n",
       "4    28 Feb 2020 15:44:23  #coronavirus comments now from @larry_kudlow h...   \n",
       "\n",
       "  Tweet Type              Client  Retweets Received  Likes Received  \\\n",
       "0      Tweet  Twitter for iPhone                  0               0   \n",
       "1      Tweet     Twitter Web App                  0               0   \n",
       "2      Tweet     Twitter Web App                 23              64   \n",
       "3      Tweet  Twitter for iPhone                  4              11   \n",
       "4      Tweet  Twitter for iPhone                  0               0   \n",
       "\n",
       "                       Tweet Location  Lat  ...       User Id  \\\n",
       "0                                 NaN  NaN  ...  \"1556856595\"   \n",
       "1                  Los Angeles CA USA  NaN  ...   \"113738369\"   \n",
       "2                           Miami, FL  NaN  ...    \"17980523\"   \n",
       "3              NYC and the North Fork  NaN  ...     \"2199541\"   \n",
       "4  James S. Brady Press Briefing Room  NaN  ...    \"17919393\"   \n",
       "\n",
       "                    Name   Screen Name  \\\n",
       "0       Giuseppe Gentile      Giussi92   \n",
       "1  London After Midnight   LAMofficial   \n",
       "2          Bill Mitchell   mitchellvii   \n",
       "3          Helen Kennedy  HelenKennedy   \n",
       "4           Steve Herman         W7VOA   \n",
       "\n",
       "                                            User Bio Verified or Non-Verified  \\\n",
       "0                                                NaN                 Verified   \n",
       "1  London After Midnight is a music project by wr...                 Verified   \n",
       "2  Host of YourVoice™ America at http://yourvoice...                 Verified   \n",
       "3  Newspaperman (ex NY Daily News &amp; Boston He...                 Verified   \n",
       "4  @WhiteHouse bureau chief @VOANews. Member: @aa...                 Verified   \n",
       "\n",
       "                        Profile URL Protected or Non-protected User Followers  \\\n",
       "0      https://twitter.com/Giussi92              Non-Protected           3071   \n",
       "1   https://twitter.com/LAMofficial              Non-Protected           4189   \n",
       "2   https://twitter.com/mitchellvii              Non-Protected         534045   \n",
       "3  https://twitter.com/HelenKennedy              Non-Protected          27704   \n",
       "4         https://twitter.com/W7VOA              Non-Protected          94269   \n",
       "\n",
       "  User Following  User Account Creation Date  \n",
       "0            100        30 Jun 2013 00:27:50  \n",
       "1             84        12 Feb 2010 21:43:17  \n",
       "2          10037        09 Dec 2008 01:54:21  \n",
       "3           1060        25 Mar 2007 19:14:46  \n",
       "4           1999        06 Dec 2008 08:56:45  \n",
       "\n",
       "[5 rows x 22 columns]"
      ]
     },
     "execution_count": 405,
     "metadata": {},
     "output_type": "execute_result"
    }
   ],
   "source": [
    "small_tweet_set.head()"
   ]
  },
  {
   "cell_type": "code",
   "execution_count": 406,
   "metadata": {
    "scrolled": true
   },
   "outputs": [
    {
     "name": "stdout",
     "output_type": "stream",
     "text": [
      "<class 'pandas.core.frame.DataFrame'>\n",
      "RangeIndex: 60160 entries, 0 to 60159\n",
      "Data columns (total 22 columns):\n",
      " #   Column                      Non-Null Count  Dtype  \n",
      "---  ------                      --------------  -----  \n",
      " 0   Tweet Id                    60160 non-null  object \n",
      " 1   Tweet URL                   60160 non-null  object \n",
      " 2   Tweet Posted Time (UTC)     60160 non-null  object \n",
      " 3   Tweet Content               60160 non-null  object \n",
      " 4   Tweet Type                  60160 non-null  object \n",
      " 5   Client                      60160 non-null  object \n",
      " 6   Retweets Received           60160 non-null  int64  \n",
      " 7   Likes Received              60160 non-null  int64  \n",
      " 8   Tweet Location              40620 non-null  object \n",
      " 9   Lat                         19 non-null     float64\n",
      " 10  Long                        19 non-null     float64\n",
      " 11  Tweet Language              59012 non-null  object \n",
      " 12  User Id                     60160 non-null  object \n",
      " 13  Name                        60159 non-null  object \n",
      " 14  Screen Name                 60160 non-null  object \n",
      " 15  User Bio                    49718 non-null  object \n",
      " 16  Verified or Non-Verified    60160 non-null  object \n",
      " 17  Profile URL                 60160 non-null  object \n",
      " 18  Protected or Non-protected  60160 non-null  object \n",
      " 19  User Followers              60160 non-null  int64  \n",
      " 20  User Following              60160 non-null  int64  \n",
      " 21  User Account Creation Date  60160 non-null  object \n",
      "dtypes: float64(2), int64(4), object(16)\n",
      "memory usage: 10.1+ MB\n"
     ]
    }
   ],
   "source": [
    "small_tweet_set.info()"
   ]
  },
  {
   "cell_type": "code",
   "execution_count": 407,
   "metadata": {},
   "outputs": [],
   "source": [
    "small_tweet_set = small_tweet_set[['Tweet Posted Time (UTC)', 'Tweet Id', 'Tweet Content', 'Tweet Location', 'Tweet Language']]"
   ]
  },
  {
   "cell_type": "code",
   "execution_count": 408,
   "metadata": {
    "scrolled": false
   },
   "outputs": [
    {
     "data": {
      "text/html": [
       "<div>\n",
       "<style scoped>\n",
       "    .dataframe tbody tr th:only-of-type {\n",
       "        vertical-align: middle;\n",
       "    }\n",
       "\n",
       "    .dataframe tbody tr th {\n",
       "        vertical-align: top;\n",
       "    }\n",
       "\n",
       "    .dataframe thead th {\n",
       "        text-align: right;\n",
       "    }\n",
       "</style>\n",
       "<table border=\"1\" class=\"dataframe\">\n",
       "  <thead>\n",
       "    <tr style=\"text-align: right;\">\n",
       "      <th></th>\n",
       "      <th>Tweet Posted Time (UTC)</th>\n",
       "      <th>Tweet Id</th>\n",
       "      <th>Tweet Content</th>\n",
       "      <th>Tweet Location</th>\n",
       "      <th>Tweet Language</th>\n",
       "    </tr>\n",
       "  </thead>\n",
       "  <tbody>\n",
       "    <tr>\n",
       "      <th>0</th>\n",
       "      <td>28 Feb 2020 15:44:49</td>\n",
       "      <td>\"1233417783175778304\"</td>\n",
       "      <td>Also the entire Swiss Football League is on ho...</td>\n",
       "      <td>NaN</td>\n",
       "      <td>English</td>\n",
       "    </tr>\n",
       "    <tr>\n",
       "      <th>1</th>\n",
       "      <td>28 Feb 2020 15:44:40</td>\n",
       "      <td>\"1233417742520332290\"</td>\n",
       "      <td>World Health Org Official: Trump’s press confe...</td>\n",
       "      <td>Los Angeles CA USA</td>\n",
       "      <td>English</td>\n",
       "    </tr>\n",
       "    <tr>\n",
       "      <th>2</th>\n",
       "      <td>28 Feb 2020 15:44:39</td>\n",
       "      <td>\"1233417741027225602\"</td>\n",
       "      <td>I mean, Liberals are cheer-leading this #Coron...</td>\n",
       "      <td>Miami, FL</td>\n",
       "      <td>English</td>\n",
       "    </tr>\n",
       "    <tr>\n",
       "      <th>3</th>\n",
       "      <td>28 Feb 2020 15:44:29</td>\n",
       "      <td>\"1233417699264356357\"</td>\n",
       "      <td>Under repeated questioning, Pompeo refuses to ...</td>\n",
       "      <td>NYC and the North Fork</td>\n",
       "      <td>English</td>\n",
       "    </tr>\n",
       "    <tr>\n",
       "      <th>4</th>\n",
       "      <td>28 Feb 2020 15:44:23</td>\n",
       "      <td>\"1233417674274807808\"</td>\n",
       "      <td>#coronavirus comments now from @larry_kudlow h...</td>\n",
       "      <td>James S. Brady Press Briefing Room</td>\n",
       "      <td>English</td>\n",
       "    </tr>\n",
       "  </tbody>\n",
       "</table>\n",
       "</div>"
      ],
      "text/plain": [
       "  Tweet Posted Time (UTC)               Tweet Id  \\\n",
       "0    28 Feb 2020 15:44:49  \"1233417783175778304\"   \n",
       "1    28 Feb 2020 15:44:40  \"1233417742520332290\"   \n",
       "2    28 Feb 2020 15:44:39  \"1233417741027225602\"   \n",
       "3    28 Feb 2020 15:44:29  \"1233417699264356357\"   \n",
       "4    28 Feb 2020 15:44:23  \"1233417674274807808\"   \n",
       "\n",
       "                                       Tweet Content  \\\n",
       "0  Also the entire Swiss Football League is on ho...   \n",
       "1  World Health Org Official: Trump’s press confe...   \n",
       "2  I mean, Liberals are cheer-leading this #Coron...   \n",
       "3  Under repeated questioning, Pompeo refuses to ...   \n",
       "4  #coronavirus comments now from @larry_kudlow h...   \n",
       "\n",
       "                       Tweet Location Tweet Language  \n",
       "0                                 NaN        English  \n",
       "1                  Los Angeles CA USA        English  \n",
       "2                           Miami, FL        English  \n",
       "3              NYC and the North Fork        English  \n",
       "4  James S. Brady Press Briefing Room        English  "
      ]
     },
     "execution_count": 408,
     "metadata": {},
     "output_type": "execute_result"
    }
   ],
   "source": [
    "small_tweet_set.head()"
   ]
  },
  {
   "cell_type": "code",
   "execution_count": 416,
   "metadata": {},
   "outputs": [],
   "source": [
    "small_tweet_set.columns = ['created_at', 'id', 'full_text', 'place', 'lang']\n",
    "\n",
    "small_tweet_set.created_at = pd.to_datetime(small_tweet_set.created_at)\n",
    "\n",
    "small_tweet_set.id = small_tweet_set.id.str.replace('\"','')\n",
    "\n",
    "small_tweet_set.full_text = small_tweet_set.full_text.str.lower()"
   ]
  },
  {
   "cell_type": "code",
   "execution_count": 421,
   "metadata": {},
   "outputs": [],
   "source": [
    "small_tweet_set = small_tweet_set[small_tweet_set['lang']=='English'].drop(columns='lang')"
   ]
  },
  {
   "cell_type": "code",
   "execution_count": 422,
   "metadata": {
    "scrolled": false
   },
   "outputs": [
    {
     "data": {
      "text/html": [
       "<div>\n",
       "<style scoped>\n",
       "    .dataframe tbody tr th:only-of-type {\n",
       "        vertical-align: middle;\n",
       "    }\n",
       "\n",
       "    .dataframe tbody tr th {\n",
       "        vertical-align: top;\n",
       "    }\n",
       "\n",
       "    .dataframe thead th {\n",
       "        text-align: right;\n",
       "    }\n",
       "</style>\n",
       "<table border=\"1\" class=\"dataframe\">\n",
       "  <thead>\n",
       "    <tr style=\"text-align: right;\">\n",
       "      <th></th>\n",
       "      <th>created_at</th>\n",
       "      <th>id</th>\n",
       "      <th>full_text</th>\n",
       "      <th>place</th>\n",
       "    </tr>\n",
       "  </thead>\n",
       "  <tbody>\n",
       "    <tr>\n",
       "      <th>0</th>\n",
       "      <td>2020-02-28 15:44:49</td>\n",
       "      <td>1233417783175778304</td>\n",
       "      <td>also the entire swiss football league is on ho...</td>\n",
       "      <td>NaN</td>\n",
       "    </tr>\n",
       "    <tr>\n",
       "      <th>1</th>\n",
       "      <td>2020-02-28 15:44:40</td>\n",
       "      <td>1233417742520332290</td>\n",
       "      <td>world health org official: trump’s press confe...</td>\n",
       "      <td>Los Angeles CA USA</td>\n",
       "    </tr>\n",
       "    <tr>\n",
       "      <th>2</th>\n",
       "      <td>2020-02-28 15:44:39</td>\n",
       "      <td>1233417741027225602</td>\n",
       "      <td>i mean, liberals are cheer-leading this #coron...</td>\n",
       "      <td>Miami, FL</td>\n",
       "    </tr>\n",
       "    <tr>\n",
       "      <th>3</th>\n",
       "      <td>2020-02-28 15:44:29</td>\n",
       "      <td>1233417699264356357</td>\n",
       "      <td>under repeated questioning, pompeo refuses to ...</td>\n",
       "      <td>NYC and the North Fork</td>\n",
       "    </tr>\n",
       "    <tr>\n",
       "      <th>4</th>\n",
       "      <td>2020-02-28 15:44:23</td>\n",
       "      <td>1233417674274807808</td>\n",
       "      <td>#coronavirus comments now from @larry_kudlow h...</td>\n",
       "      <td>James S. Brady Press Briefing Room</td>\n",
       "    </tr>\n",
       "  </tbody>\n",
       "</table>\n",
       "</div>"
      ],
      "text/plain": [
       "           created_at                   id  \\\n",
       "0 2020-02-28 15:44:49  1233417783175778304   \n",
       "1 2020-02-28 15:44:40  1233417742520332290   \n",
       "2 2020-02-28 15:44:39  1233417741027225602   \n",
       "3 2020-02-28 15:44:29  1233417699264356357   \n",
       "4 2020-02-28 15:44:23  1233417674274807808   \n",
       "\n",
       "                                           full_text  \\\n",
       "0  also the entire swiss football league is on ho...   \n",
       "1  world health org official: trump’s press confe...   \n",
       "2  i mean, liberals are cheer-leading this #coron...   \n",
       "3  under repeated questioning, pompeo refuses to ...   \n",
       "4  #coronavirus comments now from @larry_kudlow h...   \n",
       "\n",
       "                                place  \n",
       "0                                 NaN  \n",
       "1                  Los Angeles CA USA  \n",
       "2                           Miami, FL  \n",
       "3              NYC and the North Fork  \n",
       "4  James S. Brady Press Briefing Room  "
      ]
     },
     "execution_count": 422,
     "metadata": {},
     "output_type": "execute_result"
    }
   ],
   "source": [
    "small_tweet_set.head()"
   ]
  },
  {
   "cell_type": "code",
   "execution_count": 465,
   "metadata": {},
   "outputs": [],
   "source": [
    "small_tweet_set.to_csv('data/cleaned_tweet_df/small_tweet_set_cleaned.csv')"
   ]
  },
  {
   "cell_type": "markdown",
   "metadata": {},
   "source": [
    "## Importing and cleaning the Tweet Datasets posted to Kaggle spanning March and April"
   ]
  },
  {
   "cell_type": "code",
   "execution_count": 481,
   "metadata": {},
   "outputs": [],
   "source": [
    "def kaggle_cleaner(file_list):\n",
    "    df = pd.concat(file_list, ignore_index=True)\n",
    "    df = df[['created_at', 'status_id', 'text', 'place_full_name', 'lang']]\n",
    "    df = df[df['lang']=='en'].drop(columns='lang')\n",
    "    df.columns = ['created_at', 'id', 'full_text', 'place']\n",
    "    df.created_at = pd.to_datetime(df.created_at)\n",
    "    df.full_text = df.full_text.str.lower()\n",
    "    return df"
   ]
  },
  {
   "cell_type": "code",
   "execution_count": 482,
   "metadata": {},
   "outputs": [],
   "source": [
    "clean_kaggle_tweets1 = []\n",
    "bad_kaggle_files_list1 = []\n",
    "for file in glob.glob('data/kaggle_tweet_sets/coronavirus-covid19-tweets/*'):\n",
    "    try:\n",
    "        clean_kaggle_tweets1.append(pd.read_csv(file))\n",
    "    except:\n",
    "        bad_kaggle_files_list1.append(file)"
   ]
  },
  {
   "cell_type": "code",
   "execution_count": 483,
   "metadata": {
    "scrolled": true
   },
   "outputs": [
    {
     "data": {
      "text/plain": [
       "[]"
      ]
     },
     "execution_count": 483,
     "metadata": {},
     "output_type": "execute_result"
    }
   ],
   "source": [
    "bad_kaggle_files_list1"
   ]
  },
  {
   "cell_type": "code",
   "execution_count": 484,
   "metadata": {},
   "outputs": [],
   "source": [
    "clean_kaggle_tweets1 = kaggle_cleaner(clean_kaggle_tweets1)"
   ]
  },
  {
   "cell_type": "code",
   "execution_count": 485,
   "metadata": {},
   "outputs": [],
   "source": [
    "clean_kaggle_tweets1.to_csv('data/cleaned_tweet_df/clean_kaggle1.csv')"
   ]
  },
  {
   "cell_type": "code",
   "execution_count": 486,
   "metadata": {},
   "outputs": [
    {
     "data": {
      "text/html": [
       "<div>\n",
       "<style scoped>\n",
       "    .dataframe tbody tr th:only-of-type {\n",
       "        vertical-align: middle;\n",
       "    }\n",
       "\n",
       "    .dataframe tbody tr th {\n",
       "        vertical-align: top;\n",
       "    }\n",
       "\n",
       "    .dataframe thead th {\n",
       "        text-align: right;\n",
       "    }\n",
       "</style>\n",
       "<table border=\"1\" class=\"dataframe\">\n",
       "  <thead>\n",
       "    <tr style=\"text-align: right;\">\n",
       "      <th></th>\n",
       "      <th>created_at</th>\n",
       "      <th>id</th>\n",
       "      <th>full_text</th>\n",
       "      <th>place</th>\n",
       "    </tr>\n",
       "  </thead>\n",
       "  <tbody>\n",
       "    <tr>\n",
       "      <th>2</th>\n",
       "      <td>2020-03-09 00:00:00+00:00</td>\n",
       "      <td>1236803889497886720</td>\n",
       "      <td>during a health scare like the #coronavirusout...</td>\n",
       "      <td>NaN</td>\n",
       "    </tr>\n",
       "    <tr>\n",
       "      <th>3</th>\n",
       "      <td>2020-03-09 00:00:14+00:00</td>\n",
       "      <td>1236803946619875328</td>\n",
       "      <td>@twitter please update reporting to include fa...</td>\n",
       "      <td>NaN</td>\n",
       "    </tr>\n",
       "    <tr>\n",
       "      <th>4</th>\n",
       "      <td>2020-03-09 00:00:28+00:00</td>\n",
       "      <td>1236804006380482566</td>\n",
       "      <td>germ guardian pluggable air purifier &amp;amp; san...</td>\n",
       "      <td>NaN</td>\n",
       "    </tr>\n",
       "    <tr>\n",
       "      <th>5</th>\n",
       "      <td>2020-03-09 00:00:36+00:00</td>\n",
       "      <td>1236804038147993600</td>\n",
       "      <td>simple math proves the chinese government is l...</td>\n",
       "      <td>NaN</td>\n",
       "    </tr>\n",
       "    <tr>\n",
       "      <th>8</th>\n",
       "      <td>2020-03-09 00:00:42+00:00</td>\n",
       "      <td>1236804066304352257</td>\n",
       "      <td>classes were suspended in the following cities...</td>\n",
       "      <td>NaN</td>\n",
       "    </tr>\n",
       "  </tbody>\n",
       "</table>\n",
       "</div>"
      ],
      "text/plain": [
       "                 created_at                   id  \\\n",
       "2 2020-03-09 00:00:00+00:00  1236803889497886720   \n",
       "3 2020-03-09 00:00:14+00:00  1236803946619875328   \n",
       "4 2020-03-09 00:00:28+00:00  1236804006380482566   \n",
       "5 2020-03-09 00:00:36+00:00  1236804038147993600   \n",
       "8 2020-03-09 00:00:42+00:00  1236804066304352257   \n",
       "\n",
       "                                           full_text place  \n",
       "2  during a health scare like the #coronavirusout...   NaN  \n",
       "3  @twitter please update reporting to include fa...   NaN  \n",
       "4  germ guardian pluggable air purifier &amp; san...   NaN  \n",
       "5  simple math proves the chinese government is l...   NaN  \n",
       "8  classes were suspended in the following cities...   NaN  "
      ]
     },
     "execution_count": 486,
     "metadata": {},
     "output_type": "execute_result"
    }
   ],
   "source": [
    "clean_kaggle_tweets1.head()"
   ]
  },
  {
   "cell_type": "code",
   "execution_count": 487,
   "metadata": {
    "scrolled": true
   },
   "outputs": [
    {
     "data": {
      "text/plain": [
       "(6788604, 4)"
      ]
     },
     "execution_count": 487,
     "metadata": {},
     "output_type": "execute_result"
    }
   ],
   "source": [
    "clean_kaggle_tweets1.shape"
   ]
  },
  {
   "cell_type": "code",
   "execution_count": null,
   "metadata": {},
   "outputs": [],
   "source": []
  },
  {
   "cell_type": "code",
   "execution_count": 488,
   "metadata": {},
   "outputs": [],
   "source": [
    "clean_kaggle_tweets2 = []\n",
    "bad_kaggle_files_list2 = []\n",
    "for file in glob.glob('data/kaggle_tweet_sets/coronavirus-covid19-tweets-early-april/*'):\n",
    "    try:\n",
    "        clean_kaggle_tweets2.append(pd.read_csv(file))\n",
    "    except:\n",
    "        bad_kaggle_files_list2.append(file)"
   ]
  },
  {
   "cell_type": "code",
   "execution_count": 489,
   "metadata": {},
   "outputs": [
    {
     "data": {
      "text/plain": [
       "[]"
      ]
     },
     "execution_count": 489,
     "metadata": {},
     "output_type": "execute_result"
    }
   ],
   "source": [
    "bad_kaggle_files_list2"
   ]
  },
  {
   "cell_type": "code",
   "execution_count": 490,
   "metadata": {},
   "outputs": [],
   "source": [
    "clean_kaggle_tweets2 = kaggle_cleaner(clean_kaggle_tweets2)"
   ]
  },
  {
   "cell_type": "code",
   "execution_count": 491,
   "metadata": {},
   "outputs": [],
   "source": [
    "clean_kaggle_tweets2.to_csv('data/cleaned_tweet_df/clean_kaggle2.csv')"
   ]
  },
  {
   "cell_type": "code",
   "execution_count": 492,
   "metadata": {},
   "outputs": [
    {
     "data": {
      "text/html": [
       "<div>\n",
       "<style scoped>\n",
       "    .dataframe tbody tr th:only-of-type {\n",
       "        vertical-align: middle;\n",
       "    }\n",
       "\n",
       "    .dataframe tbody tr th {\n",
       "        vertical-align: top;\n",
       "    }\n",
       "\n",
       "    .dataframe thead th {\n",
       "        text-align: right;\n",
       "    }\n",
       "</style>\n",
       "<table border=\"1\" class=\"dataframe\">\n",
       "  <thead>\n",
       "    <tr style=\"text-align: right;\">\n",
       "      <th></th>\n",
       "      <th>created_at</th>\n",
       "      <th>id</th>\n",
       "      <th>full_text</th>\n",
       "      <th>place</th>\n",
       "    </tr>\n",
       "  </thead>\n",
       "  <tbody>\n",
       "    <tr>\n",
       "      <th>1</th>\n",
       "      <td>2020-04-05 00:00:00+00:00</td>\n",
       "      <td>1246588359688019970</td>\n",
       "      <td>has anyone tried playing nickleback  at the vi...</td>\n",
       "      <td>West Palm Beach, FL</td>\n",
       "    </tr>\n",
       "    <tr>\n",
       "      <th>2</th>\n",
       "      <td>2020-04-05 00:00:00+00:00</td>\n",
       "      <td>1246588360035991552</td>\n",
       "      <td>global superstar @pink and her son jameson are...</td>\n",
       "      <td>NaN</td>\n",
       "    </tr>\n",
       "    <tr>\n",
       "      <th>5</th>\n",
       "      <td>2020-04-05 00:00:00+00:00</td>\n",
       "      <td>1246588360069529601</td>\n",
       "      <td>community kitchens supply hot meals to the poo...</td>\n",
       "      <td>NaN</td>\n",
       "    </tr>\n",
       "    <tr>\n",
       "      <th>9</th>\n",
       "      <td>2020-04-05 00:00:00+00:00</td>\n",
       "      <td>1246588360115679233</td>\n",
       "      <td>“take care of your mental health just like you...</td>\n",
       "      <td>NaN</td>\n",
       "    </tr>\n",
       "    <tr>\n",
       "      <th>11</th>\n",
       "      <td>2020-04-05 00:00:00+00:00</td>\n",
       "      <td>1246588360115851267</td>\n",
       "      <td>@bowergroupasia has an update regarding latest...</td>\n",
       "      <td>NaN</td>\n",
       "    </tr>\n",
       "  </tbody>\n",
       "</table>\n",
       "</div>"
      ],
      "text/plain": [
       "                  created_at                   id  \\\n",
       "1  2020-04-05 00:00:00+00:00  1246588359688019970   \n",
       "2  2020-04-05 00:00:00+00:00  1246588360035991552   \n",
       "5  2020-04-05 00:00:00+00:00  1246588360069529601   \n",
       "9  2020-04-05 00:00:00+00:00  1246588360115679233   \n",
       "11 2020-04-05 00:00:00+00:00  1246588360115851267   \n",
       "\n",
       "                                            full_text                place  \n",
       "1   has anyone tried playing nickleback  at the vi...  West Palm Beach, FL  \n",
       "2   global superstar @pink and her son jameson are...                  NaN  \n",
       "5   community kitchens supply hot meals to the poo...                  NaN  \n",
       "9   “take care of your mental health just like you...                  NaN  \n",
       "11  @bowergroupasia has an update regarding latest...                  NaN  "
      ]
     },
     "execution_count": 492,
     "metadata": {},
     "output_type": "execute_result"
    }
   ],
   "source": [
    "clean_kaggle_tweets2.head()"
   ]
  },
  {
   "cell_type": "code",
   "execution_count": 493,
   "metadata": {},
   "outputs": [
    {
     "data": {
      "text/plain": [
       "(4827372, 4)"
      ]
     },
     "execution_count": 493,
     "metadata": {},
     "output_type": "execute_result"
    }
   ],
   "source": [
    "clean_kaggle_tweets2.shape"
   ]
  },
  {
   "cell_type": "code",
   "execution_count": null,
   "metadata": {},
   "outputs": [],
   "source": []
  },
  {
   "cell_type": "code",
   "execution_count": 494,
   "metadata": {},
   "outputs": [],
   "source": [
    "clean_kaggle_tweets3 = []\n",
    "bad_kaggle_files_list3 = []\n",
    "for file in glob.glob('data/kaggle_tweet_sets/coronavirus-covid19-tweets-late-april/*'):\n",
    "    try:\n",
    "        clean_kaggle_tweets3.append(pd.read_csv(file))\n",
    "    except:\n",
    "        bad_kaggle_files_list3.append(file)"
   ]
  },
  {
   "cell_type": "code",
   "execution_count": 495,
   "metadata": {},
   "outputs": [
    {
     "data": {
      "text/plain": [
       "[]"
      ]
     },
     "execution_count": 495,
     "metadata": {},
     "output_type": "execute_result"
    }
   ],
   "source": [
    "bad_kaggle_files_list3"
   ]
  },
  {
   "cell_type": "code",
   "execution_count": 496,
   "metadata": {},
   "outputs": [],
   "source": [
    "clean_kaggle_tweets3 = kaggle_cleaner(clean_kaggle_tweets3)\n",
    "clean_kaggle_tweets3.to_csv('data/cleaned_tweet_df/clean_kaggle3.csv')"
   ]
  },
  {
   "cell_type": "code",
   "execution_count": 497,
   "metadata": {},
   "outputs": [
    {
     "data": {
      "text/html": [
       "<div>\n",
       "<style scoped>\n",
       "    .dataframe tbody tr th:only-of-type {\n",
       "        vertical-align: middle;\n",
       "    }\n",
       "\n",
       "    .dataframe tbody tr th {\n",
       "        vertical-align: top;\n",
       "    }\n",
       "\n",
       "    .dataframe thead th {\n",
       "        text-align: right;\n",
       "    }\n",
       "</style>\n",
       "<table border=\"1\" class=\"dataframe\">\n",
       "  <thead>\n",
       "    <tr style=\"text-align: right;\">\n",
       "      <th></th>\n",
       "      <th>created_at</th>\n",
       "      <th>id</th>\n",
       "      <th>full_text</th>\n",
       "      <th>place</th>\n",
       "    </tr>\n",
       "  </thead>\n",
       "  <tbody>\n",
       "    <tr>\n",
       "      <th>5</th>\n",
       "      <td>2020-04-30 00:00:00+00:00</td>\n",
       "      <td>1255648059154812928</td>\n",
       "      <td>attention seattle shoppers! grocery stores are...</td>\n",
       "      <td>NaN</td>\n",
       "    </tr>\n",
       "    <tr>\n",
       "      <th>8</th>\n",
       "      <td>2020-04-30 00:00:00+00:00</td>\n",
       "      <td>1255648057296748546</td>\n",
       "      <td>microsoft sees digital reboot from pandemic, p...</td>\n",
       "      <td>NaN</td>\n",
       "    </tr>\n",
       "    <tr>\n",
       "      <th>10</th>\n",
       "      <td>2020-04-30 00:00:00+00:00</td>\n",
       "      <td>1255648057670041600</td>\n",
       "      <td>despite #covid19 impacts, the victoria street ...</td>\n",
       "      <td>NaN</td>\n",
       "    </tr>\n",
       "    <tr>\n",
       "      <th>22</th>\n",
       "      <td>2020-04-30 00:00:00+00:00</td>\n",
       "      <td>1255648057846366209</td>\n",
       "      <td>right now on nightside - china expert bu prof....</td>\n",
       "      <td>NaN</td>\n",
       "    </tr>\n",
       "    <tr>\n",
       "      <th>25</th>\n",
       "      <td>2020-04-30 00:00:00+00:00</td>\n",
       "      <td>1255648057917661187</td>\n",
       "      <td>if there’s an ideal person to provide insight ...</td>\n",
       "      <td>NaN</td>\n",
       "    </tr>\n",
       "  </tbody>\n",
       "</table>\n",
       "</div>"
      ],
      "text/plain": [
       "                  created_at                   id  \\\n",
       "5  2020-04-30 00:00:00+00:00  1255648059154812928   \n",
       "8  2020-04-30 00:00:00+00:00  1255648057296748546   \n",
       "10 2020-04-30 00:00:00+00:00  1255648057670041600   \n",
       "22 2020-04-30 00:00:00+00:00  1255648057846366209   \n",
       "25 2020-04-30 00:00:00+00:00  1255648057917661187   \n",
       "\n",
       "                                            full_text place  \n",
       "5   attention seattle shoppers! grocery stores are...   NaN  \n",
       "8   microsoft sees digital reboot from pandemic, p...   NaN  \n",
       "10  despite #covid19 impacts, the victoria street ...   NaN  \n",
       "22  right now on nightside - china expert bu prof....   NaN  \n",
       "25  if there’s an ideal person to provide insight ...   NaN  "
      ]
     },
     "execution_count": 497,
     "metadata": {},
     "output_type": "execute_result"
    }
   ],
   "source": [
    "clean_kaggle_tweets3.head()"
   ]
  },
  {
   "cell_type": "code",
   "execution_count": 498,
   "metadata": {},
   "outputs": [
    {
     "data": {
      "text/plain": [
       "(3306413, 4)"
      ]
     },
     "execution_count": 498,
     "metadata": {},
     "output_type": "execute_result"
    }
   ],
   "source": [
    "clean_kaggle_tweets3.shape"
   ]
  },
  {
   "cell_type": "markdown",
   "metadata": {},
   "source": [
    "## Importing Tweet ID's from a dataset that will need to be hydrated using a Twitter API"
   ]
  },
  {
   "cell_type": "code",
   "execution_count": null,
   "metadata": {},
   "outputs": [],
   "source": [
    "tweet_ids = pd.read_csv('data/full_dataset.tsv', sep='\\t')"
   ]
  },
  {
   "cell_type": "code",
   "execution_count": null,
   "metadata": {},
   "outputs": [],
   "source": [
    "tweet_ids.head()"
   ]
  },
  {
   "cell_type": "code",
   "execution_count": null,
   "metadata": {},
   "outputs": [],
   "source": [
    "tweet_ids = tweet_ids.iloc[:,0]"
   ]
  },
  {
   "cell_type": "code",
   "execution_count": null,
   "metadata": {
    "scrolled": true
   },
   "outputs": [],
   "source": [
    "tweet_ids.head()"
   ]
  },
  {
   "cell_type": "code",
   "execution_count": null,
   "metadata": {},
   "outputs": [],
   "source": [
    "tweet_ids.shape"
   ]
  },
  {
   "cell_type": "code",
   "execution_count": null,
   "metadata": {},
   "outputs": [],
   "source": [
    "tweet_ids = tweet_ids.sample(frac=1)"
   ]
  },
  {
   "cell_type": "code",
   "execution_count": null,
   "metadata": {
    "scrolled": true
   },
   "outputs": [],
   "source": [
    "tweet_ids.head()"
   ]
  },
  {
   "cell_type": "code",
   "execution_count": null,
   "metadata": {},
   "outputs": [],
   "source": [
    "tweet_ids.shape"
   ]
  },
  {
   "cell_type": "code",
   "execution_count": null,
   "metadata": {},
   "outputs": [],
   "source": [
    "tweet_ids.to_csv('data/full_dataset_tweet_ids.csv', index=False)"
   ]
  },
  {
   "cell_type": "code",
   "execution_count": null,
   "metadata": {},
   "outputs": [],
   "source": [
    "i = 0\n",
    "filename = 'chunk_'\n",
    "chunks = pd.read_csv('data/full_dataset_tweet_ids.csv', chunksize = 7000000)\n",
    "for chunk in chunks:\n",
    "    ## processing steps here\n",
    "    chunk.to_csv('data/id_chunks/' + filename + str(i) + '.csv', index = False)\n",
    "    i += 1"
   ]
  },
  {
   "cell_type": "code",
   "execution_count": null,
   "metadata": {},
   "outputs": [],
   "source": []
  },
  {
   "cell_type": "code",
   "execution_count": null,
   "metadata": {},
   "outputs": [],
   "source": [
    "tweet_ids_small = tweet_ids.iloc[:50,]"
   ]
  },
  {
   "cell_type": "code",
   "execution_count": null,
   "metadata": {},
   "outputs": [],
   "source": [
    "tweet_ids_small.to_csv('data/small_dataset_tweet_ids.txt', index=False)"
   ]
  },
  {
   "cell_type": "code",
   "execution_count": null,
   "metadata": {},
   "outputs": [],
   "source": []
  },
  {
   "cell_type": "code",
   "execution_count": 2,
   "metadata": {},
   "outputs": [],
   "source": [
    "small_tweets = pd.read_json('data/hydrate_test.jsonl', lines=True)"
   ]
  },
  {
   "cell_type": "code",
   "execution_count": 3,
   "metadata": {},
   "outputs": [
    {
     "data": {
      "text/html": [
       "<div>\n",
       "<style scoped>\n",
       "    .dataframe tbody tr th:only-of-type {\n",
       "        vertical-align: middle;\n",
       "    }\n",
       "\n",
       "    .dataframe tbody tr th {\n",
       "        vertical-align: top;\n",
       "    }\n",
       "\n",
       "    .dataframe thead th {\n",
       "        text-align: right;\n",
       "    }\n",
       "</style>\n",
       "<table border=\"1\" class=\"dataframe\">\n",
       "  <thead>\n",
       "    <tr style=\"text-align: right;\">\n",
       "      <th></th>\n",
       "      <th>created_at</th>\n",
       "      <th>id</th>\n",
       "      <th>id_str</th>\n",
       "      <th>full_text</th>\n",
       "      <th>truncated</th>\n",
       "      <th>display_text_range</th>\n",
       "      <th>entities</th>\n",
       "      <th>source</th>\n",
       "      <th>in_reply_to_status_id</th>\n",
       "      <th>in_reply_to_status_id_str</th>\n",
       "      <th>...</th>\n",
       "      <th>quoted_status_permalink</th>\n",
       "      <th>quoted_status</th>\n",
       "      <th>retweet_count</th>\n",
       "      <th>favorite_count</th>\n",
       "      <th>favorited</th>\n",
       "      <th>retweeted</th>\n",
       "      <th>possibly_sensitive</th>\n",
       "      <th>lang</th>\n",
       "      <th>retweeted_status</th>\n",
       "      <th>extended_entities</th>\n",
       "    </tr>\n",
       "  </thead>\n",
       "  <tbody>\n",
       "    <tr>\n",
       "      <th>0</th>\n",
       "      <td>2020-01-09 02:56:17+00:00</td>\n",
       "      <td>1215104980908236800</td>\n",
       "      <td>1215104980908236800</td>\n",
       "      <td>Se las traen los  Coronavirus https://t.co/thz...</td>\n",
       "      <td>False</td>\n",
       "      <td>[0, 29]</td>\n",
       "      <td>{'hashtags': [], 'symbols': [], 'user_mentions...</td>\n",
       "      <td>&lt;a href=\"http://twitter.com/download/iphone\" r...</td>\n",
       "      <td>NaN</td>\n",
       "      <td>NaN</td>\n",
       "      <td>...</td>\n",
       "      <td>{'url': 'https://t.co/thzfxg3aWh', 'expanded':...</td>\n",
       "      <td>{'created_at': 'Thu Jan 09 02:24:51 +0000 2020...</td>\n",
       "      <td>4</td>\n",
       "      <td>10</td>\n",
       "      <td>False</td>\n",
       "      <td>False</td>\n",
       "      <td>0.0</td>\n",
       "      <td>es</td>\n",
       "      <td>NaN</td>\n",
       "      <td>NaN</td>\n",
       "    </tr>\n",
       "    <tr>\n",
       "      <th>1</th>\n",
       "      <td>2020-01-09 04:48:42+00:00</td>\n",
       "      <td>1215133271475908608</td>\n",
       "      <td>1215133271475908608</td>\n",
       "      <td>RT @business: An alarming pneumonia outbreak i...</td>\n",
       "      <td>False</td>\n",
       "      <td>[0, 140]</td>\n",
       "      <td>{'hashtags': [], 'symbols': [], 'user_mentions...</td>\n",
       "      <td>&lt;a href=\"http://twitter.com/download/android\" ...</td>\n",
       "      <td>NaN</td>\n",
       "      <td>NaN</td>\n",
       "      <td>...</td>\n",
       "      <td>NaN</td>\n",
       "      <td>NaN</td>\n",
       "      <td>35</td>\n",
       "      <td>0</td>\n",
       "      <td>False</td>\n",
       "      <td>False</td>\n",
       "      <td>NaN</td>\n",
       "      <td>en</td>\n",
       "      <td>{'created_at': 'Thu Jan 09 04:48:03 +0000 2020...</td>\n",
       "      <td>NaN</td>\n",
       "    </tr>\n",
       "    <tr>\n",
       "      <th>2</th>\n",
       "      <td>2020-01-04 05:23:50+00:00</td>\n",
       "      <td>1213330173736738817</td>\n",
       "      <td>1213330173736738816</td>\n",
       "      <td>@shehryar_taseer That’s 💯 true , \\nCorona viru...</td>\n",
       "      <td>False</td>\n",
       "      <td>[17, 206]</td>\n",
       "      <td>{'hashtags': [], 'symbols': [], 'user_mentions...</td>\n",
       "      <td>&lt;a href=\"http://twitter.com/download/iphone\" r...</td>\n",
       "      <td>1.212680e+18</td>\n",
       "      <td>1.212680e+18</td>\n",
       "      <td>...</td>\n",
       "      <td>NaN</td>\n",
       "      <td>NaN</td>\n",
       "      <td>0</td>\n",
       "      <td>0</td>\n",
       "      <td>False</td>\n",
       "      <td>False</td>\n",
       "      <td>NaN</td>\n",
       "      <td>en</td>\n",
       "      <td>NaN</td>\n",
       "      <td>NaN</td>\n",
       "    </tr>\n",
       "    <tr>\n",
       "      <th>3</th>\n",
       "      <td>2020-01-09 10:38:40+00:00</td>\n",
       "      <td>1215221343479726081</td>\n",
       "      <td>1215221343479726080</td>\n",
       "      <td>@tezuma75 Why #CCP keep on saying unknown caus...</td>\n",
       "      <td>False</td>\n",
       "      <td>[10, 252]</td>\n",
       "      <td>{'hashtags': [{'text': 'CCP', 'indices': [14, ...</td>\n",
       "      <td>&lt;a href=\"http://twitter.com/download/android\" ...</td>\n",
       "      <td>1.213382e+18</td>\n",
       "      <td>1.213382e+18</td>\n",
       "      <td>...</td>\n",
       "      <td>NaN</td>\n",
       "      <td>NaN</td>\n",
       "      <td>0</td>\n",
       "      <td>0</td>\n",
       "      <td>False</td>\n",
       "      <td>False</td>\n",
       "      <td>NaN</td>\n",
       "      <td>en</td>\n",
       "      <td>NaN</td>\n",
       "      <td>NaN</td>\n",
       "    </tr>\n",
       "    <tr>\n",
       "      <th>4</th>\n",
       "      <td>2020-01-09 00:53:24+00:00</td>\n",
       "      <td>1215074056313028608</td>\n",
       "      <td>1215074056313028608</td>\n",
       "      <td>RT @Echinanews: #BREAKING: The unidentified pn...</td>\n",
       "      <td>False</td>\n",
       "      <td>[0, 140]</td>\n",
       "      <td>{'hashtags': [{'text': 'BREAKING', 'indices': ...</td>\n",
       "      <td>&lt;a href=\"http://twitter.com/download/android\" ...</td>\n",
       "      <td>NaN</td>\n",
       "      <td>NaN</td>\n",
       "      <td>...</td>\n",
       "      <td>NaN</td>\n",
       "      <td>NaN</td>\n",
       "      <td>17</td>\n",
       "      <td>0</td>\n",
       "      <td>False</td>\n",
       "      <td>False</td>\n",
       "      <td>NaN</td>\n",
       "      <td>en</td>\n",
       "      <td>{'created_at': 'Thu Jan 09 00:51:04 +0000 2020...</td>\n",
       "      <td>NaN</td>\n",
       "    </tr>\n",
       "  </tbody>\n",
       "</table>\n",
       "<p>5 rows × 31 columns</p>\n",
       "</div>"
      ],
      "text/plain": [
       "                 created_at                   id               id_str  \\\n",
       "0 2020-01-09 02:56:17+00:00  1215104980908236800  1215104980908236800   \n",
       "1 2020-01-09 04:48:42+00:00  1215133271475908608  1215133271475908608   \n",
       "2 2020-01-04 05:23:50+00:00  1213330173736738817  1213330173736738816   \n",
       "3 2020-01-09 10:38:40+00:00  1215221343479726081  1215221343479726080   \n",
       "4 2020-01-09 00:53:24+00:00  1215074056313028608  1215074056313028608   \n",
       "\n",
       "                                           full_text  truncated  \\\n",
       "0  Se las traen los  Coronavirus https://t.co/thz...      False   \n",
       "1  RT @business: An alarming pneumonia outbreak i...      False   \n",
       "2  @shehryar_taseer That’s 💯 true , \\nCorona viru...      False   \n",
       "3  @tezuma75 Why #CCP keep on saying unknown caus...      False   \n",
       "4  RT @Echinanews: #BREAKING: The unidentified pn...      False   \n",
       "\n",
       "  display_text_range                                           entities  \\\n",
       "0            [0, 29]  {'hashtags': [], 'symbols': [], 'user_mentions...   \n",
       "1           [0, 140]  {'hashtags': [], 'symbols': [], 'user_mentions...   \n",
       "2          [17, 206]  {'hashtags': [], 'symbols': [], 'user_mentions...   \n",
       "3          [10, 252]  {'hashtags': [{'text': 'CCP', 'indices': [14, ...   \n",
       "4           [0, 140]  {'hashtags': [{'text': 'BREAKING', 'indices': ...   \n",
       "\n",
       "                                              source  in_reply_to_status_id  \\\n",
       "0  <a href=\"http://twitter.com/download/iphone\" r...                    NaN   \n",
       "1  <a href=\"http://twitter.com/download/android\" ...                    NaN   \n",
       "2  <a href=\"http://twitter.com/download/iphone\" r...           1.212680e+18   \n",
       "3  <a href=\"http://twitter.com/download/android\" ...           1.213382e+18   \n",
       "4  <a href=\"http://twitter.com/download/android\" ...                    NaN   \n",
       "\n",
       "   in_reply_to_status_id_str  ...  \\\n",
       "0                        NaN  ...   \n",
       "1                        NaN  ...   \n",
       "2               1.212680e+18  ...   \n",
       "3               1.213382e+18  ...   \n",
       "4                        NaN  ...   \n",
       "\n",
       "                             quoted_status_permalink  \\\n",
       "0  {'url': 'https://t.co/thzfxg3aWh', 'expanded':...   \n",
       "1                                                NaN   \n",
       "2                                                NaN   \n",
       "3                                                NaN   \n",
       "4                                                NaN   \n",
       "\n",
       "                                       quoted_status retweet_count  \\\n",
       "0  {'created_at': 'Thu Jan 09 02:24:51 +0000 2020...             4   \n",
       "1                                                NaN            35   \n",
       "2                                                NaN             0   \n",
       "3                                                NaN             0   \n",
       "4                                                NaN            17   \n",
       "\n",
       "  favorite_count  favorited  retweeted  possibly_sensitive  lang  \\\n",
       "0             10      False      False                 0.0    es   \n",
       "1              0      False      False                 NaN    en   \n",
       "2              0      False      False                 NaN    en   \n",
       "3              0      False      False                 NaN    en   \n",
       "4              0      False      False                 NaN    en   \n",
       "\n",
       "                                    retweeted_status  extended_entities  \n",
       "0                                                NaN                NaN  \n",
       "1  {'created_at': 'Thu Jan 09 04:48:03 +0000 2020...                NaN  \n",
       "2                                                NaN                NaN  \n",
       "3                                                NaN                NaN  \n",
       "4  {'created_at': 'Thu Jan 09 00:51:04 +0000 2020...                NaN  \n",
       "\n",
       "[5 rows x 31 columns]"
      ]
     },
     "execution_count": 3,
     "metadata": {},
     "output_type": "execute_result"
    }
   ],
   "source": [
    "small_tweets.head()"
   ]
  },
  {
   "cell_type": "code",
   "execution_count": 4,
   "metadata": {},
   "outputs": [
    {
     "name": "stdout",
     "output_type": "stream",
     "text": [
      "<class 'pandas.core.frame.DataFrame'>\n",
      "RangeIndex: 38 entries, 0 to 37\n",
      "Data columns (total 31 columns):\n",
      " #   Column                     Non-Null Count  Dtype              \n",
      "---  ------                     --------------  -----              \n",
      " 0   created_at                 38 non-null     datetime64[ns, UTC]\n",
      " 1   id                         38 non-null     int64              \n",
      " 2   id_str                     38 non-null     int64              \n",
      " 3   full_text                  38 non-null     object             \n",
      " 4   truncated                  38 non-null     bool               \n",
      " 5   display_text_range         38 non-null     object             \n",
      " 6   entities                   38 non-null     object             \n",
      " 7   source                     38 non-null     object             \n",
      " 8   in_reply_to_status_id      3 non-null      float64            \n",
      " 9   in_reply_to_status_id_str  3 non-null      float64            \n",
      " 10  in_reply_to_user_id        3 non-null      float64            \n",
      " 11  in_reply_to_user_id_str    3 non-null      float64            \n",
      " 12  in_reply_to_screen_name    3 non-null      object             \n",
      " 13  user                       38 non-null     object             \n",
      " 14  geo                        0 non-null      float64            \n",
      " 15  coordinates                0 non-null      float64            \n",
      " 16  place                      0 non-null      float64            \n",
      " 17  contributors               0 non-null      float64            \n",
      " 18  is_quote_status            38 non-null     bool               \n",
      " 19  quoted_status_id           3 non-null      float64            \n",
      " 20  quoted_status_id_str       3 non-null      float64            \n",
      " 21  quoted_status_permalink    3 non-null      object             \n",
      " 22  quoted_status              1 non-null      object             \n",
      " 23  retweet_count              38 non-null     int64              \n",
      " 24  favorite_count             38 non-null     int64              \n",
      " 25  favorited                  38 non-null     bool               \n",
      " 26  retweeted                  38 non-null     bool               \n",
      " 27  possibly_sensitive         15 non-null     float64            \n",
      " 28  lang                       38 non-null     object             \n",
      " 29  retweeted_status           25 non-null     object             \n",
      " 30  extended_entities          1 non-null      object             \n",
      "dtypes: bool(4), datetime64[ns, UTC](1), float64(11), int64(4), object(11)\n",
      "memory usage: 8.3+ KB\n"
     ]
    }
   ],
   "source": [
    "small_tweets.info()"
   ]
  },
  {
   "cell_type": "code",
   "execution_count": 5,
   "metadata": {},
   "outputs": [
    {
     "data": {
      "text/plain": [
       "en    26\n",
       "es     6\n",
       "th     2\n",
       "ca     2\n",
       "fr     1\n",
       "nl     1\n",
       "Name: lang, dtype: int64"
      ]
     },
     "execution_count": 5,
     "metadata": {},
     "output_type": "execute_result"
    }
   ],
   "source": [
    "small_tweets.lang.value_counts(ascending=False)"
   ]
  },
  {
   "cell_type": "code",
   "execution_count": 6,
   "metadata": {
    "scrolled": true
   },
   "outputs": [
    {
     "data": {
      "text/plain": [
       "Series([], Name: geo, dtype: int64)"
      ]
     },
     "execution_count": 6,
     "metadata": {},
     "output_type": "execute_result"
    }
   ],
   "source": [
    "small_tweets.geo.value_counts(ascending=False)"
   ]
  },
  {
   "cell_type": "code",
   "execution_count": 7,
   "metadata": {},
   "outputs": [],
   "source": [
    "small_tweets = small_tweets[['created_at', 'id', 'full_text', 'geo', 'place', 'lang']]"
   ]
  },
  {
   "cell_type": "code",
   "execution_count": 8,
   "metadata": {},
   "outputs": [
    {
     "data": {
      "text/html": [
       "<div>\n",
       "<style scoped>\n",
       "    .dataframe tbody tr th:only-of-type {\n",
       "        vertical-align: middle;\n",
       "    }\n",
       "\n",
       "    .dataframe tbody tr th {\n",
       "        vertical-align: top;\n",
       "    }\n",
       "\n",
       "    .dataframe thead th {\n",
       "        text-align: right;\n",
       "    }\n",
       "</style>\n",
       "<table border=\"1\" class=\"dataframe\">\n",
       "  <thead>\n",
       "    <tr style=\"text-align: right;\">\n",
       "      <th></th>\n",
       "      <th>created_at</th>\n",
       "      <th>id</th>\n",
       "      <th>full_text</th>\n",
       "      <th>geo</th>\n",
       "      <th>place</th>\n",
       "      <th>lang</th>\n",
       "    </tr>\n",
       "  </thead>\n",
       "  <tbody>\n",
       "    <tr>\n",
       "      <th>0</th>\n",
       "      <td>2020-01-09 02:56:17+00:00</td>\n",
       "      <td>1215104980908236800</td>\n",
       "      <td>Se las traen los  Coronavirus https://t.co/thz...</td>\n",
       "      <td>NaN</td>\n",
       "      <td>NaN</td>\n",
       "      <td>es</td>\n",
       "    </tr>\n",
       "    <tr>\n",
       "      <th>1</th>\n",
       "      <td>2020-01-09 04:48:42+00:00</td>\n",
       "      <td>1215133271475908608</td>\n",
       "      <td>RT @business: An alarming pneumonia outbreak i...</td>\n",
       "      <td>NaN</td>\n",
       "      <td>NaN</td>\n",
       "      <td>en</td>\n",
       "    </tr>\n",
       "    <tr>\n",
       "      <th>2</th>\n",
       "      <td>2020-01-04 05:23:50+00:00</td>\n",
       "      <td>1213330173736738817</td>\n",
       "      <td>@shehryar_taseer That’s 💯 true , \\nCorona viru...</td>\n",
       "      <td>NaN</td>\n",
       "      <td>NaN</td>\n",
       "      <td>en</td>\n",
       "    </tr>\n",
       "    <tr>\n",
       "      <th>3</th>\n",
       "      <td>2020-01-09 10:38:40+00:00</td>\n",
       "      <td>1215221343479726081</td>\n",
       "      <td>@tezuma75 Why #CCP keep on saying unknown caus...</td>\n",
       "      <td>NaN</td>\n",
       "      <td>NaN</td>\n",
       "      <td>en</td>\n",
       "    </tr>\n",
       "    <tr>\n",
       "      <th>4</th>\n",
       "      <td>2020-01-09 00:53:24+00:00</td>\n",
       "      <td>1215074056313028608</td>\n",
       "      <td>RT @Echinanews: #BREAKING: The unidentified pn...</td>\n",
       "      <td>NaN</td>\n",
       "      <td>NaN</td>\n",
       "      <td>en</td>\n",
       "    </tr>\n",
       "  </tbody>\n",
       "</table>\n",
       "</div>"
      ],
      "text/plain": [
       "                 created_at                   id  \\\n",
       "0 2020-01-09 02:56:17+00:00  1215104980908236800   \n",
       "1 2020-01-09 04:48:42+00:00  1215133271475908608   \n",
       "2 2020-01-04 05:23:50+00:00  1213330173736738817   \n",
       "3 2020-01-09 10:38:40+00:00  1215221343479726081   \n",
       "4 2020-01-09 00:53:24+00:00  1215074056313028608   \n",
       "\n",
       "                                           full_text  geo  place lang  \n",
       "0  Se las traen los  Coronavirus https://t.co/thz...  NaN    NaN   es  \n",
       "1  RT @business: An alarming pneumonia outbreak i...  NaN    NaN   en  \n",
       "2  @shehryar_taseer That’s 💯 true , \\nCorona viru...  NaN    NaN   en  \n",
       "3  @tezuma75 Why #CCP keep on saying unknown caus...  NaN    NaN   en  \n",
       "4  RT @Echinanews: #BREAKING: The unidentified pn...  NaN    NaN   en  "
      ]
     },
     "execution_count": 8,
     "metadata": {},
     "output_type": "execute_result"
    }
   ],
   "source": [
    "small_tweets.head()"
   ]
  },
  {
   "cell_type": "code",
   "execution_count": 9,
   "metadata": {},
   "outputs": [],
   "source": [
    "small_tweets = small_tweets[small_tweets['lang']=='en']"
   ]
  },
  {
   "cell_type": "code",
   "execution_count": 10,
   "metadata": {
    "scrolled": true
   },
   "outputs": [
    {
     "data": {
      "text/plain": [
       "(26, 6)"
      ]
     },
     "execution_count": 10,
     "metadata": {},
     "output_type": "execute_result"
    }
   ],
   "source": [
    "small_tweets.shape"
   ]
  },
  {
   "cell_type": "code",
   "execution_count": null,
   "metadata": {},
   "outputs": [],
   "source": []
  },
  {
   "cell_type": "code",
   "execution_count": null,
   "metadata": {},
   "outputs": [],
   "source": [
    "i = 0\n",
    "filename = 'test_chunk_'\n",
    "chunks = pd.read_json('data/hydrate_test.jsonl', lines=True, chunksize = 1000)\n",
    "for chunk in chunks:\n",
    "    chunk = chunk[['created_at', 'id', 'full_text', 'geo', 'place', 'lang']]\n",
    "    chunk = chunk[chunk['lang']=='en']\n",
    "    chunk.to_csv('data/' + filename + str(i) + '.csv', index = False)\n",
    "    i += 1"
   ]
  },
  {
   "cell_type": "code",
   "execution_count": null,
   "metadata": {},
   "outputs": [],
   "source": []
  },
  {
   "cell_type": "code",
   "execution_count": null,
   "metadata": {},
   "outputs": [],
   "source": [
    "tweet_chunk0 = pd.read_json('data/id_chunks/chunk_0_text.jsonl', lines=True)"
   ]
  },
  {
   "cell_type": "code",
   "execution_count": null,
   "metadata": {},
   "outputs": [],
   "source": [
    "i = 0\n",
    "filename = 'clean_tweet_chunk0_'\n",
    "chunks = pd.read_json('data/id_chunks/chunk_0_text.jsonl', lines=True, chunksize = 50000)\n",
    "for chunk in chunks:\n",
    "    chunk = chunk[['created_at', 'id', 'full_text', 'geo', 'place', 'lang']]\n",
    "    chunk = chunk[chunk['lang']=='en']\n",
    "    chunk.to_csv('data/clean_chunks/chunks0/' + filename + str(i) + '.csv', index = False)\n",
    "    i += 1"
   ]
  },
  {
   "cell_type": "code",
   "execution_count": null,
   "metadata": {},
   "outputs": [],
   "source": [
    "clean_tweet_chunks = []\n",
    "bad_files_list = []\n",
    "for file in glob.glob('data/clean_chunks/chunks0/*'):\n",
    "    try:\n",
    "        clean_tweet_chunks.append(pd.read_csv(file))\n",
    "    except:\n",
    "        bad_files_list.append(file)"
   ]
  },
  {
   "cell_type": "code",
   "execution_count": null,
   "metadata": {},
   "outputs": [],
   "source": [
    "bad_files_list"
   ]
  },
  {
   "cell_type": "code",
   "execution_count": null,
   "metadata": {},
   "outputs": [],
   "source": [
    "clean_chunks_0 = pd.concat(clean_tweet_chunks, ignore_index=True)"
   ]
  },
  {
   "cell_type": "code",
   "execution_count": null,
   "metadata": {},
   "outputs": [],
   "source": [
    "clean_chunks_0.head()"
   ]
  },
  {
   "cell_type": "code",
   "execution_count": null,
   "metadata": {},
   "outputs": [],
   "source": [
    "clean_chunks_0.shape"
   ]
  },
  {
   "cell_type": "code",
   "execution_count": null,
   "metadata": {},
   "outputs": [],
   "source": [
    "clean_chunks_0.to_csv('data/clean_chunks/clean_chunks_0.csv', index=False)"
   ]
  },
  {
   "cell_type": "code",
   "execution_count": null,
   "metadata": {},
   "outputs": [],
   "source": []
  },
  {
   "cell_type": "code",
   "execution_count": null,
   "metadata": {},
   "outputs": [],
   "source": [
    "i = 0\n",
    "filename = 'clean_tweet_chunk1_'\n",
    "chunks = pd.read_json('data/id_chunks/chunk_1_text.jsonl', lines=True, chunksize = 50000)\n",
    "for chunk in chunks:\n",
    "    chunk = chunk[['created_at', 'id', 'full_text', 'geo', 'place', 'lang']]\n",
    "    chunk = chunk[chunk['lang']=='en']\n",
    "    chunk.to_csv('data/clean_chunks/chunks1/' + filename + str(i) + '.csv', index = False)\n",
    "    i += 1"
   ]
  },
  {
   "cell_type": "code",
   "execution_count": null,
   "metadata": {},
   "outputs": [],
   "source": [
    "clean_tweet_chunks1 = []\n",
    "bad_files_list1 = []\n",
    "for file in glob.glob('data/clean_chunks/chunks1/*'):\n",
    "    try:\n",
    "        clean_tweet_chunks1.append(pd.read_csv(file))\n",
    "    except:\n",
    "        bad_files_list1.append(file)"
   ]
  },
  {
   "cell_type": "code",
   "execution_count": null,
   "metadata": {
    "scrolled": true
   },
   "outputs": [],
   "source": [
    "bad_files_list1"
   ]
  },
  {
   "cell_type": "code",
   "execution_count": null,
   "metadata": {},
   "outputs": [],
   "source": [
    "clean_chunks_1 = pd.concat(clean_tweet_chunks1, ignore_index=True)"
   ]
  },
  {
   "cell_type": "code",
   "execution_count": null,
   "metadata": {},
   "outputs": [],
   "source": [
    "clean_chunks_1.head()"
   ]
  },
  {
   "cell_type": "code",
   "execution_count": null,
   "metadata": {},
   "outputs": [],
   "source": [
    "clean_chunks_1.shape"
   ]
  },
  {
   "cell_type": "code",
   "execution_count": null,
   "metadata": {},
   "outputs": [],
   "source": [
    "clean_chunks_1.to_csv('data/clean_chunks/clean_chunks_1.csv', index=False)"
   ]
  },
  {
   "cell_type": "code",
   "execution_count": null,
   "metadata": {},
   "outputs": [],
   "source": []
  },
  {
   "cell_type": "code",
   "execution_count": 24,
   "metadata": {},
   "outputs": [],
   "source": [
    "i = 0\n",
    "filename = 'clean_tweet_chunk2_'\n",
    "chunks = pd.read_json('data/id_chunks/chunk_2_text.jsonl', lines=True, chunksize = 50000)\n",
    "for chunk in chunks:\n",
    "    chunk = chunk[['created_at', 'id', 'full_text', 'geo', 'place', 'lang']]\n",
    "    chunk = chunk[chunk['lang']=='en']\n",
    "    chunk.to_csv('data/clean_chunks/chunks2/' + filename + str(i) + '.csv', index = False)\n",
    "    i += 1"
   ]
  },
  {
   "cell_type": "code",
   "execution_count": 28,
   "metadata": {},
   "outputs": [],
   "source": [
    "clean_tweet_chunks2 = []\n",
    "bad_files_list2 = []\n",
    "for file in glob.glob('data/clean_chunks/chunks2/*'):\n",
    "    try:\n",
    "        clean_tweet_chunks2.append(pd.read_csv(file))\n",
    "    except:\n",
    "        bad_files_list2.append(file)"
   ]
  },
  {
   "cell_type": "code",
   "execution_count": 29,
   "metadata": {},
   "outputs": [
    {
     "data": {
      "text/plain": [
       "['data/clean_chunks/chunks2/clean_tweet_chunk2_36.csv',\n",
       " 'data/clean_chunks/chunks2/clean_tweet_chunk2_30.csv',\n",
       " 'data/clean_chunks/chunks2/clean_tweet_chunk2_54.csv',\n",
       " 'data/clean_chunks/chunks2/clean_tweet_chunk2_83.csv',\n",
       " 'data/clean_chunks/chunks2/clean_tweet_chunk2_56.csv',\n",
       " 'data/clean_chunks/chunks2/clean_tweet_chunk2_109.csv',\n",
       " 'data/clean_chunks/chunks2/clean_tweet_chunk2_115.csv',\n",
       " 'data/clean_chunks/chunks2/clean_tweet_chunk2_16.csv']"
      ]
     },
     "execution_count": 29,
     "metadata": {},
     "output_type": "execute_result"
    }
   ],
   "source": [
    "bad_files_list2"
   ]
  },
  {
   "cell_type": "code",
   "execution_count": 30,
   "metadata": {},
   "outputs": [],
   "source": [
    "clean_chunks_2 = pd.concat(clean_tweet_chunks2, ignore_index=True)"
   ]
  },
  {
   "cell_type": "code",
   "execution_count": 31,
   "metadata": {},
   "outputs": [
    {
     "data": {
      "text/plain": [
       "(3429989, 6)"
      ]
     },
     "execution_count": 31,
     "metadata": {},
     "output_type": "execute_result"
    }
   ],
   "source": [
    "clean_chunks_2.head()\n",
    "clean_chunks_2.shape"
   ]
  },
  {
   "cell_type": "code",
   "execution_count": 32,
   "metadata": {},
   "outputs": [],
   "source": [
    "clean_chunks_2.to_csv('data/clean_chunks/clean_chunks_2.csv', index=False)"
   ]
  },
  {
   "cell_type": "code",
   "execution_count": null,
   "metadata": {},
   "outputs": [],
   "source": []
  },
  {
   "cell_type": "code",
   "execution_count": 109,
   "metadata": {},
   "outputs": [],
   "source": [
    "i = 0\n",
    "filename = 'clean_tweet_chunk3_'\n",
    "chunks = pd.read_json('data/id_chunks/chunk_3_text.jsonl', lines=True, chunksize = 50000)\n",
    "for chunk in chunks:\n",
    "    chunk = chunk[['created_at', 'id', 'full_text', 'geo', 'place', 'lang']]\n",
    "    chunk = chunk[chunk['lang']=='en']\n",
    "    chunk.to_csv('data/clean_chunks/chunks3/' + filename + str(i) + '.csv', index = False)\n",
    "    i += 1"
   ]
  },
  {
   "cell_type": "code",
   "execution_count": 110,
   "metadata": {},
   "outputs": [],
   "source": [
    "clean_tweet_chunks3 = []\n",
    "bad_files_list3 = []\n",
    "for file in glob.glob('data/clean_chunks/chunks3/*'):\n",
    "    try:\n",
    "        clean_tweet_chunks3.append(pd.read_csv(file))\n",
    "    except:\n",
    "        bad_files_list3.append(file)"
   ]
  },
  {
   "cell_type": "code",
   "execution_count": 111,
   "metadata": {},
   "outputs": [
    {
     "data": {
      "text/plain": [
       "['data/clean_chunks/chunks3/clean_tweet_chunk3_7.csv',\n",
       " 'data/clean_chunks/chunks3/clean_tweet_chunk3_73.csv',\n",
       " 'data/clean_chunks/chunks3/clean_tweet_chunk3_28.csv',\n",
       " 'data/clean_chunks/chunks3/clean_tweet_chunk3_14.csv',\n",
       " 'data/clean_chunks/chunks3/clean_tweet_chunk3_119.csv',\n",
       " 'data/clean_chunks/chunks3/clean_tweet_chunk3_113.csv',\n",
       " 'data/clean_chunks/chunks3/clean_tweet_chunk3_43.csv',\n",
       " 'data/clean_chunks/chunks3/clean_tweet_chunk3_46.csv']"
      ]
     },
     "execution_count": 111,
     "metadata": {},
     "output_type": "execute_result"
    }
   ],
   "source": [
    "bad_files_list3"
   ]
  },
  {
   "cell_type": "code",
   "execution_count": 112,
   "metadata": {},
   "outputs": [],
   "source": [
    "clean_chunks_3 = pd.concat(clean_tweet_chunks3, ignore_index=True)"
   ]
  },
  {
   "cell_type": "code",
   "execution_count": 113,
   "metadata": {},
   "outputs": [
    {
     "data": {
      "text/plain": [
       "(3429378, 6)"
      ]
     },
     "execution_count": 113,
     "metadata": {},
     "output_type": "execute_result"
    }
   ],
   "source": [
    "clean_chunks_3.shape"
   ]
  },
  {
   "cell_type": "code",
   "execution_count": 114,
   "metadata": {},
   "outputs": [],
   "source": [
    "clean_chunks_3.to_csv('data/clean_chunks/clean_chunks_3.csv', index=False)"
   ]
  },
  {
   "cell_type": "code",
   "execution_count": null,
   "metadata": {},
   "outputs": [],
   "source": []
  },
  {
   "cell_type": "code",
   "execution_count": 136,
   "metadata": {},
   "outputs": [],
   "source": [
    "i = 0\n",
    "filename = 'clean_tweet_chunk4_'\n",
    "chunks = pd.read_json('data/id_chunks/chunk_4_text.jsonl', lines=True, chunksize = 50000)\n",
    "for chunk in chunks:\n",
    "    chunk = chunk[['created_at', 'id', 'full_text', 'geo', 'place', 'lang']]\n",
    "    chunk = chunk[chunk['lang']=='en']\n",
    "    chunk.to_csv('data/clean_chunks/chunks4/' + filename + str(i) + '.csv', index = False)\n",
    "    i += 1"
   ]
  },
  {
   "cell_type": "code",
   "execution_count": 137,
   "metadata": {},
   "outputs": [],
   "source": [
    "clean_tweet_chunks4 = []\n",
    "bad_files_list4 = []\n",
    "for file in glob.glob('data/clean_chunks/chunks4/*'):\n",
    "    try:\n",
    "        clean_tweet_chunks4.append(pd.read_csv(file))\n",
    "    except:\n",
    "        bad_files_list4.append(file)"
   ]
  },
  {
   "cell_type": "code",
   "execution_count": 138,
   "metadata": {
    "scrolled": true
   },
   "outputs": [
    {
     "data": {
      "text/plain": [
       "['data/clean_chunks/chunks4/clean_tweet_chunk4_95.csv',\n",
       " 'data/clean_chunks/chunks4/clean_tweet_chunk4_68.csv',\n",
       " 'data/clean_chunks/chunks4/clean_tweet_chunk4_78.csv',\n",
       " 'data/clean_chunks/chunks4/clean_tweet_chunk4_46.csv',\n",
       " 'data/clean_chunks/chunks4/clean_tweet_chunk4_10.csv',\n",
       " 'data/clean_chunks/chunks4/clean_tweet_chunk4_48.csv',\n",
       " 'data/clean_chunks/chunks4/clean_tweet_chunk4_73.csv']"
      ]
     },
     "execution_count": 138,
     "metadata": {},
     "output_type": "execute_result"
    }
   ],
   "source": [
    "bad_files_list4"
   ]
  },
  {
   "cell_type": "code",
   "execution_count": 140,
   "metadata": {},
   "outputs": [],
   "source": [
    "clean_chunks_4 = pd.concat(clean_tweet_chunks4, ignore_index=True)"
   ]
  },
  {
   "cell_type": "code",
   "execution_count": 141,
   "metadata": {},
   "outputs": [
    {
     "data": {
      "text/plain": [
       "(3455276, 6)"
      ]
     },
     "execution_count": 141,
     "metadata": {},
     "output_type": "execute_result"
    }
   ],
   "source": [
    "clean_chunks_4.shape"
   ]
  },
  {
   "cell_type": "code",
   "execution_count": 142,
   "metadata": {},
   "outputs": [],
   "source": [
    "clean_chunks_4.to_csv('data/clean_chunks/clean_chunks_4.csv', index=False)"
   ]
  },
  {
   "cell_type": "code",
   "execution_count": null,
   "metadata": {},
   "outputs": [],
   "source": []
  },
  {
   "cell_type": "code",
   "execution_count": 254,
   "metadata": {},
   "outputs": [],
   "source": [
    "i = 0\n",
    "filename = 'clean_tweet_chunk5_'\n",
    "chunks = pd.read_json('data/id_chunks/chunk_5_text.jsonl', lines=True, chunksize = 50000)\n",
    "for chunk in chunks:\n",
    "    chunk = chunk[['created_at', 'id', 'full_text', 'geo', 'place', 'lang']]\n",
    "    chunk = chunk[chunk['lang']=='en']\n",
    "    chunk.to_csv('data/clean_chunks/chunks5/' + filename + str(i) + '.csv', index = False)\n",
    "    i += 1"
   ]
  },
  {
   "cell_type": "code",
   "execution_count": 255,
   "metadata": {},
   "outputs": [],
   "source": [
    "clean_tweet_chunks5 = []\n",
    "bad_files_list5 = []\n",
    "for file in glob.glob('data/clean_chunks/chunks5/*'):\n",
    "    try:\n",
    "        clean_tweet_chunks5.append(pd.read_csv(file))\n",
    "    except:\n",
    "        bad_files_list5.append(file)"
   ]
  },
  {
   "cell_type": "code",
   "execution_count": 256,
   "metadata": {},
   "outputs": [
    {
     "data": {
      "text/plain": [
       "['data/clean_chunks/chunks5/clean_tweet_chunk5_117.csv',\n",
       " 'data/clean_chunks/chunks5/clean_tweet_chunk5_101.csv',\n",
       " 'data/clean_chunks/chunks5/clean_tweet_chunk5_0.csv',\n",
       " 'data/clean_chunks/chunks5/clean_tweet_chunk5_61.csv',\n",
       " 'data/clean_chunks/chunks5/clean_tweet_chunk5_68.csv',\n",
       " 'data/clean_chunks/chunks5/clean_tweet_chunk5_53.csv',\n",
       " 'data/clean_chunks/chunks5/clean_tweet_chunk5_92.csv']"
      ]
     },
     "execution_count": 256,
     "metadata": {},
     "output_type": "execute_result"
    }
   ],
   "source": [
    "bad_files_list5"
   ]
  },
  {
   "cell_type": "code",
   "execution_count": 257,
   "metadata": {},
   "outputs": [],
   "source": [
    "clean_chunks_5 = pd.concat(clean_tweet_chunks5, ignore_index=True)"
   ]
  },
  {
   "cell_type": "code",
   "execution_count": 258,
   "metadata": {},
   "outputs": [
    {
     "data": {
      "text/plain": [
       "(3453084, 6)"
      ]
     },
     "execution_count": 258,
     "metadata": {},
     "output_type": "execute_result"
    }
   ],
   "source": [
    "clean_chunks_5.shape"
   ]
  },
  {
   "cell_type": "code",
   "execution_count": 259,
   "metadata": {},
   "outputs": [],
   "source": [
    "clean_chunks_5.to_csv('data/clean_chunks/clean_chunks_5.csv', index=False)"
   ]
  },
  {
   "cell_type": "code",
   "execution_count": null,
   "metadata": {},
   "outputs": [],
   "source": []
  },
  {
   "cell_type": "code",
   "execution_count": 11,
   "metadata": {},
   "outputs": [],
   "source": [
    "nlp = spacy.load('en_core_web_md')"
   ]
  },
  {
   "cell_type": "code",
   "execution_count": 12,
   "metadata": {},
   "outputs": [
    {
     "data": {
      "text/html": [
       "<div>\n",
       "<style scoped>\n",
       "    .dataframe tbody tr th:only-of-type {\n",
       "        vertical-align: middle;\n",
       "    }\n",
       "\n",
       "    .dataframe tbody tr th {\n",
       "        vertical-align: top;\n",
       "    }\n",
       "\n",
       "    .dataframe thead th {\n",
       "        text-align: right;\n",
       "    }\n",
       "</style>\n",
       "<table border=\"1\" class=\"dataframe\">\n",
       "  <thead>\n",
       "    <tr style=\"text-align: right;\">\n",
       "      <th></th>\n",
       "      <th>created_at</th>\n",
       "      <th>id</th>\n",
       "      <th>full_text</th>\n",
       "      <th>geo</th>\n",
       "      <th>place</th>\n",
       "      <th>lang</th>\n",
       "    </tr>\n",
       "  </thead>\n",
       "  <tbody>\n",
       "    <tr>\n",
       "      <th>1</th>\n",
       "      <td>2020-01-09 04:48:42+00:00</td>\n",
       "      <td>1215133271475908608</td>\n",
       "      <td>RT @business: An alarming pneumonia outbreak i...</td>\n",
       "      <td>NaN</td>\n",
       "      <td>NaN</td>\n",
       "      <td>en</td>\n",
       "    </tr>\n",
       "    <tr>\n",
       "      <th>2</th>\n",
       "      <td>2020-01-04 05:23:50+00:00</td>\n",
       "      <td>1213330173736738817</td>\n",
       "      <td>@shehryar_taseer That’s 💯 true , \\nCorona viru...</td>\n",
       "      <td>NaN</td>\n",
       "      <td>NaN</td>\n",
       "      <td>en</td>\n",
       "    </tr>\n",
       "    <tr>\n",
       "      <th>3</th>\n",
       "      <td>2020-01-09 10:38:40+00:00</td>\n",
       "      <td>1215221343479726081</td>\n",
       "      <td>@tezuma75 Why #CCP keep on saying unknown caus...</td>\n",
       "      <td>NaN</td>\n",
       "      <td>NaN</td>\n",
       "      <td>en</td>\n",
       "    </tr>\n",
       "    <tr>\n",
       "      <th>4</th>\n",
       "      <td>2020-01-09 00:53:24+00:00</td>\n",
       "      <td>1215074056313028608</td>\n",
       "      <td>RT @Echinanews: #BREAKING: The unidentified pn...</td>\n",
       "      <td>NaN</td>\n",
       "      <td>NaN</td>\n",
       "      <td>en</td>\n",
       "    </tr>\n",
       "    <tr>\n",
       "      <th>5</th>\n",
       "      <td>2020-01-06 14:54:46+00:00</td>\n",
       "      <td>1214198629553950721</td>\n",
       "      <td>TLDR: Not SARS, possibly new coronavirus. Diff...</td>\n",
       "      <td>NaN</td>\n",
       "      <td>NaN</td>\n",
       "      <td>en</td>\n",
       "    </tr>\n",
       "  </tbody>\n",
       "</table>\n",
       "</div>"
      ],
      "text/plain": [
       "                 created_at                   id  \\\n",
       "1 2020-01-09 04:48:42+00:00  1215133271475908608   \n",
       "2 2020-01-04 05:23:50+00:00  1213330173736738817   \n",
       "3 2020-01-09 10:38:40+00:00  1215221343479726081   \n",
       "4 2020-01-09 00:53:24+00:00  1215074056313028608   \n",
       "5 2020-01-06 14:54:46+00:00  1214198629553950721   \n",
       "\n",
       "                                           full_text  geo  place lang  \n",
       "1  RT @business: An alarming pneumonia outbreak i...  NaN    NaN   en  \n",
       "2  @shehryar_taseer That’s 💯 true , \\nCorona viru...  NaN    NaN   en  \n",
       "3  @tezuma75 Why #CCP keep on saying unknown caus...  NaN    NaN   en  \n",
       "4  RT @Echinanews: #BREAKING: The unidentified pn...  NaN    NaN   en  \n",
       "5  TLDR: Not SARS, possibly new coronavirus. Diff...  NaN    NaN   en  "
      ]
     },
     "execution_count": 12,
     "metadata": {},
     "output_type": "execute_result"
    }
   ],
   "source": [
    "small_tweets.head()"
   ]
  },
  {
   "cell_type": "code",
   "execution_count": 18,
   "metadata": {},
   "outputs": [
    {
     "name": "stderr",
     "output_type": "stream",
     "text": [
      "100%|██████████| 26/26 [00:00<00:00, 122.07it/s]\n"
     ]
    }
   ],
   "source": [
    "small_ent_list = []\n",
    "for e in tqdm(small_tweets['full_text'].tolist()):\n",
    "    doc = nlp(e)\n",
    "    for ent in doc.ents:\n",
    "        small_ent_list.append([ent.text, ent.label_])"
   ]
  },
  {
   "cell_type": "code",
   "execution_count": 19,
   "metadata": {
    "scrolled": true
   },
   "outputs": [
    {
     "data": {
      "text/plain": [
       "[['China', 'GPE'],\n",
       " ['December', 'DATE'],\n",
       " ['Pk', 'ORG'],\n",
       " ['CCP', 'ORG'],\n",
       " ['Chinese', 'NORP'],\n",
       " ['RT @Echinanews', 'PERSON'],\n",
       " ['Wuhan', 'GPE'],\n",
       " ['China', 'GPE'],\n",
       " ['Hubei Province', 'GPE'],\n",
       " ['TLDR', 'ORG'],\n",
       " ['China', 'GPE'],\n",
       " ['RT @DrMay5', 'PERSON'],\n",
       " ['first', 'ORDINAL'],\n",
       " ['two', 'CARDINAL'],\n",
       " ['Wuhan', 'GPE'],\n",
       " ['China', 'GPE'],\n",
       " ['Virologists', 'PRODUCT'],\n",
       " ['China', 'GPE'],\n",
       " ['WSJ', 'ORG'],\n",
       " ['Wuhan', 'GPE'],\n",
       " ['WuhanPneumonia', 'ORG'],\n",
       " ['WuhanPneumonia', 'ORG'],\n",
       " ['Middle East', 'LOC'],\n",
       " ['The United Arab Emirates', 'GPE'],\n",
       " ['Undiagnose', 'PERSON'],\n",
       " ['#', 'CARDINAL'],\n",
       " ['Chinese', 'NORP'],\n",
       " ['@WHO', 'ORG'],\n",
       " ['Chinese', 'NORP'],\n",
       " ['Chinese', 'NORP'],\n",
       " ['China', 'GPE'],\n",
       " ['WSJ', 'ORG'],\n",
       " ['days', 'DATE'],\n",
       " ['Shiloh', 'ORG'],\n",
       " ['WSJ', 'ORG'],\n",
       " ['Chinese', 'NORP'],\n",
       " ['Wuhan', 'GPE'],\n",
       " ['RT @WHOWPRO', 'PERSON'],\n",
       " ['Chinese', 'NORP'],\n",
       " ['#', 'CARDINAL'],\n",
       " ['Wuhan', 'GPE'],\n",
       " ['#China pneumonia outbreak', 'MONEY'],\n",
       " ['#mers - h/t', 'MONEY'],\n",
       " ['China', 'GPE'],\n",
       " ['RT @BBCWorld', 'PERSON'],\n",
       " ['Wuhan', 'GPE'],\n",
       " ['Chinese', 'NORP'],\n",
       " ['#', 'CARDINAL'],\n",
       " ['Wuhan', 'GPE'],\n",
       " ['Chinese', 'NORP'],\n",
       " ['Wuhan', 'GPE'],\n",
       " ['https://t.co/cnZswEU9', 'ORG']]"
      ]
     },
     "execution_count": 19,
     "metadata": {},
     "output_type": "execute_result"
    }
   ],
   "source": [
    "small_ent_list"
   ]
  },
  {
   "cell_type": "code",
   "execution_count": 20,
   "metadata": {},
   "outputs": [
    {
     "data": {
      "text/plain": [
       "list"
      ]
     },
     "execution_count": 20,
     "metadata": {},
     "output_type": "execute_result"
    }
   ],
   "source": [
    "type(small_ent_list)"
   ]
  },
  {
   "cell_type": "code",
   "execution_count": 21,
   "metadata": {},
   "outputs": [],
   "source": [
    "small_ent_df = pd.DataFrame(small_ent_list)"
   ]
  },
  {
   "cell_type": "code",
   "execution_count": 22,
   "metadata": {},
   "outputs": [
    {
     "data": {
      "text/html": [
       "<div>\n",
       "<style scoped>\n",
       "    .dataframe tbody tr th:only-of-type {\n",
       "        vertical-align: middle;\n",
       "    }\n",
       "\n",
       "    .dataframe tbody tr th {\n",
       "        vertical-align: top;\n",
       "    }\n",
       "\n",
       "    .dataframe thead th {\n",
       "        text-align: right;\n",
       "    }\n",
       "</style>\n",
       "<table border=\"1\" class=\"dataframe\">\n",
       "  <thead>\n",
       "    <tr style=\"text-align: right;\">\n",
       "      <th></th>\n",
       "      <th>0</th>\n",
       "      <th>1</th>\n",
       "    </tr>\n",
       "  </thead>\n",
       "  <tbody>\n",
       "    <tr>\n",
       "      <th>0</th>\n",
       "      <td>China</td>\n",
       "      <td>GPE</td>\n",
       "    </tr>\n",
       "    <tr>\n",
       "      <th>1</th>\n",
       "      <td>December</td>\n",
       "      <td>DATE</td>\n",
       "    </tr>\n",
       "    <tr>\n",
       "      <th>2</th>\n",
       "      <td>Pk</td>\n",
       "      <td>ORG</td>\n",
       "    </tr>\n",
       "    <tr>\n",
       "      <th>3</th>\n",
       "      <td>CCP</td>\n",
       "      <td>ORG</td>\n",
       "    </tr>\n",
       "    <tr>\n",
       "      <th>4</th>\n",
       "      <td>Chinese</td>\n",
       "      <td>NORP</td>\n",
       "    </tr>\n",
       "  </tbody>\n",
       "</table>\n",
       "</div>"
      ],
      "text/plain": [
       "          0     1\n",
       "0     China   GPE\n",
       "1  December  DATE\n",
       "2        Pk   ORG\n",
       "3       CCP   ORG\n",
       "4   Chinese  NORP"
      ]
     },
     "execution_count": 22,
     "metadata": {},
     "output_type": "execute_result"
    }
   ],
   "source": [
    "small_ent_df.head()"
   ]
  },
  {
   "cell_type": "code",
   "execution_count": 23,
   "metadata": {
    "scrolled": true
   },
   "outputs": [
    {
     "data": {
      "text/plain": [
       "Chinese                      8\n",
       "Wuhan                        8\n",
       "China                        7\n",
       "WSJ                          3\n",
       "#                            3\n",
       "WuhanPneumonia               2\n",
       "two                          1\n",
       "RT @BBCWorld                 1\n",
       "RT @DrMay5                   1\n",
       "Virologists                  1\n",
       "Hubei Province               1\n",
       "Middle East                  1\n",
       "#China pneumonia outbreak    1\n",
       "Pk                           1\n",
       "RT @WHOWPRO                  1\n",
       "https://t.co/cnZswEU9        1\n",
       "#mers - h/t                  1\n",
       "TLDR                         1\n",
       "The United Arab Emirates     1\n",
       "RT @Echinanews               1\n",
       "December                     1\n",
       "first                        1\n",
       "Shiloh                       1\n",
       "days                         1\n",
       "Undiagnose                   1\n",
       "CCP                          1\n",
       "@WHO                         1\n",
       "Name: 0, dtype: int64"
      ]
     },
     "execution_count": 23,
     "metadata": {},
     "output_type": "execute_result"
    }
   ],
   "source": [
    "small_ent_df[0].value_counts(ascending=False)"
   ]
  },
  {
   "cell_type": "code",
   "execution_count": null,
   "metadata": {},
   "outputs": [],
   "source": []
  },
  {
   "cell_type": "code",
   "execution_count": 230,
   "metadata": {},
   "outputs": [],
   "source": [
    "clean_chunks_0 = pd.read_csv('data/clean_chunks/clean_chunks_0.csv')"
   ]
  },
  {
   "cell_type": "code",
   "execution_count": 231,
   "metadata": {},
   "outputs": [],
   "source": [
    "clean_chunks_0['full_text'] = clean_chunks_0.full_text.str.lower()"
   ]
  },
  {
   "cell_type": "code",
   "execution_count": 232,
   "metadata": {
    "scrolled": true
   },
   "outputs": [
    {
     "data": {
      "text/html": [
       "<div>\n",
       "<style scoped>\n",
       "    .dataframe tbody tr th:only-of-type {\n",
       "        vertical-align: middle;\n",
       "    }\n",
       "\n",
       "    .dataframe tbody tr th {\n",
       "        vertical-align: top;\n",
       "    }\n",
       "\n",
       "    .dataframe thead th {\n",
       "        text-align: right;\n",
       "    }\n",
       "</style>\n",
       "<table border=\"1\" class=\"dataframe\">\n",
       "  <thead>\n",
       "    <tr style=\"text-align: right;\">\n",
       "      <th></th>\n",
       "      <th>created_at</th>\n",
       "      <th>id</th>\n",
       "      <th>full_text</th>\n",
       "      <th>geo</th>\n",
       "      <th>place</th>\n",
       "      <th>lang</th>\n",
       "    </tr>\n",
       "  </thead>\n",
       "  <tbody>\n",
       "    <tr>\n",
       "      <th>0</th>\n",
       "      <td>2020-03-13 10:51:06+00:00</td>\n",
       "      <td>1.238417e+18</td>\n",
       "      <td>rt @agentpjr: something is definitely wrong. t...</td>\n",
       "      <td>NaN</td>\n",
       "      <td>NaN</td>\n",
       "      <td>en</td>\n",
       "    </tr>\n",
       "    <tr>\n",
       "      <th>1</th>\n",
       "      <td>2020-03-14 11:46:53+00:00</td>\n",
       "      <td>1.238794e+18</td>\n",
       "      <td>rt @wannabereecejr: niggas saw that hockey cou...</td>\n",
       "      <td>NaN</td>\n",
       "      <td>NaN</td>\n",
       "      <td>en</td>\n",
       "    </tr>\n",
       "    <tr>\n",
       "      <th>2</th>\n",
       "      <td>2020-03-14 12:22:11+00:00</td>\n",
       "      <td>1.238803e+18</td>\n",
       "      <td>rt @zainsugieres: the legend is back and now h...</td>\n",
       "      <td>NaN</td>\n",
       "      <td>NaN</td>\n",
       "      <td>en</td>\n",
       "    </tr>\n",
       "    <tr>\n",
       "      <th>3</th>\n",
       "      <td>2020-03-14 15:03:49+00:00</td>\n",
       "      <td>1.238843e+18</td>\n",
       "      <td>rt @6ixbuzztv: canada's first covid-19 vaccine...</td>\n",
       "      <td>NaN</td>\n",
       "      <td>NaN</td>\n",
       "      <td>en</td>\n",
       "    </tr>\n",
       "    <tr>\n",
       "      <th>4</th>\n",
       "      <td>2020-03-15 06:55:33+00:00</td>\n",
       "      <td>1.239083e+18</td>\n",
       "      <td>rt @knyde: girls will survive covid-19 bc they...</td>\n",
       "      <td>NaN</td>\n",
       "      <td>NaN</td>\n",
       "      <td>en</td>\n",
       "    </tr>\n",
       "  </tbody>\n",
       "</table>\n",
       "</div>"
      ],
      "text/plain": [
       "                  created_at            id  \\\n",
       "0  2020-03-13 10:51:06+00:00  1.238417e+18   \n",
       "1  2020-03-14 11:46:53+00:00  1.238794e+18   \n",
       "2  2020-03-14 12:22:11+00:00  1.238803e+18   \n",
       "3  2020-03-14 15:03:49+00:00  1.238843e+18   \n",
       "4  2020-03-15 06:55:33+00:00  1.239083e+18   \n",
       "\n",
       "                                           full_text  geo place lang  \n",
       "0  rt @agentpjr: something is definitely wrong. t...  NaN   NaN   en  \n",
       "1  rt @wannabereecejr: niggas saw that hockey cou...  NaN   NaN   en  \n",
       "2  rt @zainsugieres: the legend is back and now h...  NaN   NaN   en  \n",
       "3  rt @6ixbuzztv: canada's first covid-19 vaccine...  NaN   NaN   en  \n",
       "4  rt @knyde: girls will survive covid-19 bc they...  NaN   NaN   en  "
      ]
     },
     "execution_count": 232,
     "metadata": {},
     "output_type": "execute_result"
    }
   ],
   "source": [
    "clean_chunks_0.head()"
   ]
  },
  {
   "cell_type": "code",
   "execution_count": 233,
   "metadata": {},
   "outputs": [],
   "source": [
    "clean_chunks_0_trim = clean_chunks_0.loc[:1000000,]"
   ]
  },
  {
   "cell_type": "code",
   "execution_count": 234,
   "metadata": {},
   "outputs": [
    {
     "data": {
      "text/plain": [
       "(1000001, 6)"
      ]
     },
     "execution_count": 234,
     "metadata": {},
     "output_type": "execute_result"
    }
   ],
   "source": [
    "clean_chunks_0_trim.shape"
   ]
  },
  {
   "cell_type": "code",
   "execution_count": 235,
   "metadata": {},
   "outputs": [
    {
     "name": "stderr",
     "output_type": "stream",
     "text": [
      "//anaconda3/lib/python3.7/site-packages/ipykernel_launcher.py:3: SettingWithCopyWarning: \n",
      "A value is trying to be set on a copy of a slice from a DataFrame.\n",
      "Try using .loc[row_indexer,col_indexer] = value instead\n",
      "\n",
      "See the caveats in the documentation: https://pandas.pydata.org/pandas-docs/stable/user_guide/indexing.html#returning-a-view-versus-a-copy\n",
      "  This is separate from the ipykernel package so we can avoid doing imports until\n",
      "100%|██████████| 1000001/1000001 [1:46:11<00:00, 156.96it/s] \n"
     ]
    }
   ],
   "source": [
    "chunk0_ent_list = []\n",
    "bad_row = []\n",
    "clean_chunks_0_trim['full_text'] = clean_chunks_0_trim['full_text'].astype(str)\n",
    "for e in tqdm(clean_chunks_0_trim['full_text'].tolist()):\n",
    "    try:\n",
    "        doc = nlp(e)\n",
    "        for ent in doc.ents:\n",
    "            chunk0_ent_list.append([ent.text, ent.label_])\n",
    "    except:\n",
    "        bad_row.append(e)"
   ]
  },
  {
   "cell_type": "code",
   "execution_count": 236,
   "metadata": {},
   "outputs": [],
   "source": [
    "chunk0_ent_df = pd.DataFrame(chunk0_ent_list)\n",
    "chunk0_ent_df.columns = ['entity', 'label']"
   ]
  },
  {
   "cell_type": "code",
   "execution_count": 237,
   "metadata": {
    "scrolled": true
   },
   "outputs": [
    {
     "data": {
      "text/html": [
       "<div>\n",
       "<style scoped>\n",
       "    .dataframe tbody tr th:only-of-type {\n",
       "        vertical-align: middle;\n",
       "    }\n",
       "\n",
       "    .dataframe tbody tr th {\n",
       "        vertical-align: top;\n",
       "    }\n",
       "\n",
       "    .dataframe thead th {\n",
       "        text-align: right;\n",
       "    }\n",
       "</style>\n",
       "<table border=\"1\" class=\"dataframe\">\n",
       "  <thead>\n",
       "    <tr style=\"text-align: right;\">\n",
       "      <th></th>\n",
       "      <th>entity</th>\n",
       "      <th>label</th>\n",
       "    </tr>\n",
       "  </thead>\n",
       "  <tbody>\n",
       "    <tr>\n",
       "      <th>0</th>\n",
       "      <td>wuhan</td>\n",
       "      <td>GPE</td>\n",
       "    </tr>\n",
       "    <tr>\n",
       "      <th>1</th>\n",
       "      <td>rt @wannabereecejr</td>\n",
       "      <td>PERSON</td>\n",
       "    </tr>\n",
       "    <tr>\n",
       "      <th>2</th>\n",
       "      <td>rt @6ixbuzztv</td>\n",
       "      <td>PERSON</td>\n",
       "    </tr>\n",
       "    <tr>\n",
       "      <th>3</th>\n",
       "      <td>canada</td>\n",
       "      <td>GPE</td>\n",
       "    </tr>\n",
       "    <tr>\n",
       "      <th>4</th>\n",
       "      <td>first</td>\n",
       "      <td>ORDINAL</td>\n",
       "    </tr>\n",
       "  </tbody>\n",
       "</table>\n",
       "</div>"
      ],
      "text/plain": [
       "               entity    label\n",
       "0               wuhan      GPE\n",
       "1  rt @wannabereecejr   PERSON\n",
       "2       rt @6ixbuzztv   PERSON\n",
       "3              canada      GPE\n",
       "4               first  ORDINAL"
      ]
     },
     "execution_count": 237,
     "metadata": {},
     "output_type": "execute_result"
    }
   ],
   "source": [
    "chunk0_ent_df.head()"
   ]
  },
  {
   "cell_type": "code",
   "execution_count": 238,
   "metadata": {},
   "outputs": [],
   "source": [
    "chunk0_ent_count = chunk0_ent_df['entity'].value_counts(ascending=False)\n",
    "\n",
    "chunk0_ent_count = pd.DataFrame(chunk0_ent_count).reset_index()\n",
    "\n",
    "chunk0_ent_count.columns = ['entity', 'count']"
   ]
  },
  {
   "cell_type": "code",
   "execution_count": 239,
   "metadata": {
    "scrolled": true
   },
   "outputs": [
    {
     "data": {
      "text/html": [
       "<div>\n",
       "<style scoped>\n",
       "    .dataframe tbody tr th:only-of-type {\n",
       "        vertical-align: middle;\n",
       "    }\n",
       "\n",
       "    .dataframe tbody tr th {\n",
       "        vertical-align: top;\n",
       "    }\n",
       "\n",
       "    .dataframe thead th {\n",
       "        text-align: right;\n",
       "    }\n",
       "</style>\n",
       "<table border=\"1\" class=\"dataframe\">\n",
       "  <thead>\n",
       "    <tr style=\"text-align: right;\">\n",
       "      <th></th>\n",
       "      <th>entity</th>\n",
       "      <th>count</th>\n",
       "    </tr>\n",
       "  </thead>\n",
       "  <tbody>\n",
       "    <tr>\n",
       "      <th>0</th>\n",
       "      <td>#</td>\n",
       "      <td>83517</td>\n",
       "    </tr>\n",
       "    <tr>\n",
       "      <th>1</th>\n",
       "      <td>china</td>\n",
       "      <td>54276</td>\n",
       "    </tr>\n",
       "    <tr>\n",
       "      <th>2</th>\n",
       "      <td>wuhan</td>\n",
       "      <td>30910</td>\n",
       "    </tr>\n",
       "    <tr>\n",
       "      <th>3</th>\n",
       "      <td>first</td>\n",
       "      <td>23750</td>\n",
       "    </tr>\n",
       "    <tr>\n",
       "      <th>4</th>\n",
       "      <td>chinese</td>\n",
       "      <td>22984</td>\n",
       "    </tr>\n",
       "  </tbody>\n",
       "</table>\n",
       "</div>"
      ],
      "text/plain": [
       "    entity  count\n",
       "0        #  83517\n",
       "1    china  54276\n",
       "2    wuhan  30910\n",
       "3    first  23750\n",
       "4  chinese  22984"
      ]
     },
     "execution_count": 239,
     "metadata": {},
     "output_type": "execute_result"
    }
   ],
   "source": [
    "chunk0_ent_count.head()"
   ]
  },
  {
   "cell_type": "code",
   "execution_count": 240,
   "metadata": {},
   "outputs": [
    {
     "data": {
      "text/plain": [
       "(309994, 2)"
      ]
     },
     "execution_count": 240,
     "metadata": {},
     "output_type": "execute_result"
    }
   ],
   "source": [
    "chunk0_ent_count.shape"
   ]
  },
  {
   "cell_type": "code",
   "execution_count": 241,
   "metadata": {},
   "outputs": [],
   "source": [
    "chunk0_ent_count = chunk0_ent_count.merge(chunk0_ent_df, on='entity')"
   ]
  },
  {
   "cell_type": "code",
   "execution_count": 242,
   "metadata": {},
   "outputs": [
    {
     "data": {
      "text/html": [
       "<div>\n",
       "<style scoped>\n",
       "    .dataframe tbody tr th:only-of-type {\n",
       "        vertical-align: middle;\n",
       "    }\n",
       "\n",
       "    .dataframe tbody tr th {\n",
       "        vertical-align: top;\n",
       "    }\n",
       "\n",
       "    .dataframe thead th {\n",
       "        text-align: right;\n",
       "    }\n",
       "</style>\n",
       "<table border=\"1\" class=\"dataframe\">\n",
       "  <thead>\n",
       "    <tr style=\"text-align: right;\">\n",
       "      <th></th>\n",
       "      <th>entity</th>\n",
       "      <th>count</th>\n",
       "      <th>label</th>\n",
       "    </tr>\n",
       "  </thead>\n",
       "  <tbody>\n",
       "    <tr>\n",
       "      <th>0</th>\n",
       "      <td>#</td>\n",
       "      <td>83517</td>\n",
       "      <td>CARDINAL</td>\n",
       "    </tr>\n",
       "    <tr>\n",
       "      <th>1</th>\n",
       "      <td>#</td>\n",
       "      <td>83517</td>\n",
       "      <td>CARDINAL</td>\n",
       "    </tr>\n",
       "    <tr>\n",
       "      <th>2</th>\n",
       "      <td>#</td>\n",
       "      <td>83517</td>\n",
       "      <td>CARDINAL</td>\n",
       "    </tr>\n",
       "    <tr>\n",
       "      <th>3</th>\n",
       "      <td>#</td>\n",
       "      <td>83517</td>\n",
       "      <td>CARDINAL</td>\n",
       "    </tr>\n",
       "    <tr>\n",
       "      <th>4</th>\n",
       "      <td>#</td>\n",
       "      <td>83517</td>\n",
       "      <td>CARDINAL</td>\n",
       "    </tr>\n",
       "  </tbody>\n",
       "</table>\n",
       "</div>"
      ],
      "text/plain": [
       "  entity  count     label\n",
       "0      #  83517  CARDINAL\n",
       "1      #  83517  CARDINAL\n",
       "2      #  83517  CARDINAL\n",
       "3      #  83517  CARDINAL\n",
       "4      #  83517  CARDINAL"
      ]
     },
     "execution_count": 242,
     "metadata": {},
     "output_type": "execute_result"
    }
   ],
   "source": [
    "chunk0_ent_count.head()"
   ]
  },
  {
   "cell_type": "code",
   "execution_count": 243,
   "metadata": {},
   "outputs": [
    {
     "data": {
      "text/plain": [
       "#                                                  83517\n",
       "china                                              54276\n",
       "wuhan                                              30910\n",
       "first                                              23750\n",
       "chinese                                            22984\n",
       "                                                   ...  \n",
       "https://t.co/itlhkof0or                                1\n",
       "@jentealforreal                                        1\n",
       "aemd news                                              1\n",
       "https://t.co/oifxiub3ep                                1\n",
       "https://t.co/3vxkhgws08 https://t.co/elq0xbcylz        1\n",
       "Name: entity, Length: 309994, dtype: int64"
      ]
     },
     "execution_count": 243,
     "metadata": {},
     "output_type": "execute_result"
    }
   ],
   "source": [
    "chunk0_ent_count.entity.value_counts(ascending=False)"
   ]
  },
  {
   "cell_type": "code",
   "execution_count": 244,
   "metadata": {},
   "outputs": [
    {
     "data": {
      "text/plain": [
       "(2296783, 3)"
      ]
     },
     "execution_count": 244,
     "metadata": {},
     "output_type": "execute_result"
    }
   ],
   "source": [
    "chunk0_ent_count.shape"
   ]
  },
  {
   "cell_type": "code",
   "execution_count": 245,
   "metadata": {},
   "outputs": [],
   "source": [
    "chunk0_ent_count = chunk0_ent_count.drop_duplicates()"
   ]
  },
  {
   "cell_type": "code",
   "execution_count": 246,
   "metadata": {},
   "outputs": [
    {
     "data": {
      "text/html": [
       "<div>\n",
       "<style scoped>\n",
       "    .dataframe tbody tr th:only-of-type {\n",
       "        vertical-align: middle;\n",
       "    }\n",
       "\n",
       "    .dataframe tbody tr th {\n",
       "        vertical-align: top;\n",
       "    }\n",
       "\n",
       "    .dataframe thead th {\n",
       "        text-align: right;\n",
       "    }\n",
       "</style>\n",
       "<table border=\"1\" class=\"dataframe\">\n",
       "  <thead>\n",
       "    <tr style=\"text-align: right;\">\n",
       "      <th></th>\n",
       "      <th>entity</th>\n",
       "      <th>count</th>\n",
       "      <th>label</th>\n",
       "    </tr>\n",
       "  </thead>\n",
       "  <tbody>\n",
       "    <tr>\n",
       "      <th>0</th>\n",
       "      <td>#</td>\n",
       "      <td>83517</td>\n",
       "      <td>CARDINAL</td>\n",
       "    </tr>\n",
       "    <tr>\n",
       "      <th>75</th>\n",
       "      <td>#</td>\n",
       "      <td>83517</td>\n",
       "      <td>TIME</td>\n",
       "    </tr>\n",
       "    <tr>\n",
       "      <th>286</th>\n",
       "      <td>#</td>\n",
       "      <td>83517</td>\n",
       "      <td>FAC</td>\n",
       "    </tr>\n",
       "    <tr>\n",
       "      <th>1005</th>\n",
       "      <td>#</td>\n",
       "      <td>83517</td>\n",
       "      <td>PRODUCT</td>\n",
       "    </tr>\n",
       "    <tr>\n",
       "      <th>9951</th>\n",
       "      <td>#</td>\n",
       "      <td>83517</td>\n",
       "      <td>DATE</td>\n",
       "    </tr>\n",
       "    <tr>\n",
       "      <th>13551</th>\n",
       "      <td>#</td>\n",
       "      <td>83517</td>\n",
       "      <td>ORG</td>\n",
       "    </tr>\n",
       "    <tr>\n",
       "      <th>24906</th>\n",
       "      <td>#</td>\n",
       "      <td>83517</td>\n",
       "      <td>ORDINAL</td>\n",
       "    </tr>\n",
       "    <tr>\n",
       "      <th>33911</th>\n",
       "      <td>#</td>\n",
       "      <td>83517</td>\n",
       "      <td>LOC</td>\n",
       "    </tr>\n",
       "    <tr>\n",
       "      <th>38629</th>\n",
       "      <td>#</td>\n",
       "      <td>83517</td>\n",
       "      <td>MONEY</td>\n",
       "    </tr>\n",
       "    <tr>\n",
       "      <th>83517</th>\n",
       "      <td>china</td>\n",
       "      <td>54276</td>\n",
       "      <td>GPE</td>\n",
       "    </tr>\n",
       "    <tr>\n",
       "      <th>137793</th>\n",
       "      <td>wuhan</td>\n",
       "      <td>30910</td>\n",
       "      <td>GPE</td>\n",
       "    </tr>\n",
       "    <tr>\n",
       "      <th>137892</th>\n",
       "      <td>wuhan</td>\n",
       "      <td>30910</td>\n",
       "      <td>NORP</td>\n",
       "    </tr>\n",
       "    <tr>\n",
       "      <th>142448</th>\n",
       "      <td>wuhan</td>\n",
       "      <td>30910</td>\n",
       "      <td>LOC</td>\n",
       "    </tr>\n",
       "    <tr>\n",
       "      <th>148166</th>\n",
       "      <td>wuhan</td>\n",
       "      <td>30910</td>\n",
       "      <td>PERSON</td>\n",
       "    </tr>\n",
       "    <tr>\n",
       "      <th>168703</th>\n",
       "      <td>first</td>\n",
       "      <td>23750</td>\n",
       "      <td>ORDINAL</td>\n",
       "    </tr>\n",
       "    <tr>\n",
       "      <th>192453</th>\n",
       "      <td>chinese</td>\n",
       "      <td>22984</td>\n",
       "      <td>NORP</td>\n",
       "    </tr>\n",
       "    <tr>\n",
       "      <th>192693</th>\n",
       "      <td>chinese</td>\n",
       "      <td>22984</td>\n",
       "      <td>LANGUAGE</td>\n",
       "    </tr>\n",
       "    <tr>\n",
       "      <th>215437</th>\n",
       "      <td>today</td>\n",
       "      <td>20560</td>\n",
       "      <td>DATE</td>\n",
       "    </tr>\n",
       "    <tr>\n",
       "      <th>234430</th>\n",
       "      <td>today</td>\n",
       "      <td>20560</td>\n",
       "      <td>WORK_OF_ART</td>\n",
       "    </tr>\n",
       "    <tr>\n",
       "      <th>235997</th>\n",
       "      <td>italy</td>\n",
       "      <td>17509</td>\n",
       "      <td>GPE</td>\n",
       "    </tr>\n",
       "    <tr>\n",
       "      <th>236263</th>\n",
       "      <td>italy</td>\n",
       "      <td>17509</td>\n",
       "      <td>NORP</td>\n",
       "    </tr>\n",
       "    <tr>\n",
       "      <th>236441</th>\n",
       "      <td>italy</td>\n",
       "      <td>17509</td>\n",
       "      <td>PERSON</td>\n",
       "    </tr>\n",
       "    <tr>\n",
       "      <th>253506</th>\n",
       "      <td>covid-19</td>\n",
       "      <td>16079</td>\n",
       "      <td>CARDINAL</td>\n",
       "    </tr>\n",
       "    <tr>\n",
       "      <th>253511</th>\n",
       "      <td>covid-19</td>\n",
       "      <td>16079</td>\n",
       "      <td>PRODUCT</td>\n",
       "    </tr>\n",
       "    <tr>\n",
       "      <th>253793</th>\n",
       "      <td>covid-19</td>\n",
       "      <td>16079</td>\n",
       "      <td>MONEY</td>\n",
       "    </tr>\n",
       "    <tr>\n",
       "      <th>253991</th>\n",
       "      <td>covid-19</td>\n",
       "      <td>16079</td>\n",
       "      <td>FAC</td>\n",
       "    </tr>\n",
       "    <tr>\n",
       "      <th>254031</th>\n",
       "      <td>covid-19</td>\n",
       "      <td>16079</td>\n",
       "      <td>NORP</td>\n",
       "    </tr>\n",
       "    <tr>\n",
       "      <th>254504</th>\n",
       "      <td>covid-19</td>\n",
       "      <td>16079</td>\n",
       "      <td>PERCENT</td>\n",
       "    </tr>\n",
       "    <tr>\n",
       "      <th>255558</th>\n",
       "      <td>covid-19</td>\n",
       "      <td>16079</td>\n",
       "      <td>QUANTITY</td>\n",
       "    </tr>\n",
       "    <tr>\n",
       "      <th>256232</th>\n",
       "      <td>covid-19</td>\n",
       "      <td>16079</td>\n",
       "      <td>DATE</td>\n",
       "    </tr>\n",
       "  </tbody>\n",
       "</table>\n",
       "</div>"
      ],
      "text/plain": [
       "          entity  count        label\n",
       "0              #  83517     CARDINAL\n",
       "75             #  83517         TIME\n",
       "286            #  83517          FAC\n",
       "1005           #  83517      PRODUCT\n",
       "9951           #  83517         DATE\n",
       "13551          #  83517          ORG\n",
       "24906          #  83517      ORDINAL\n",
       "33911          #  83517          LOC\n",
       "38629          #  83517        MONEY\n",
       "83517      china  54276          GPE\n",
       "137793     wuhan  30910          GPE\n",
       "137892     wuhan  30910         NORP\n",
       "142448     wuhan  30910          LOC\n",
       "148166     wuhan  30910       PERSON\n",
       "168703     first  23750      ORDINAL\n",
       "192453   chinese  22984         NORP\n",
       "192693   chinese  22984     LANGUAGE\n",
       "215437     today  20560         DATE\n",
       "234430     today  20560  WORK_OF_ART\n",
       "235997     italy  17509          GPE\n",
       "236263     italy  17509         NORP\n",
       "236441     italy  17509       PERSON\n",
       "253506  covid-19  16079     CARDINAL\n",
       "253511  covid-19  16079      PRODUCT\n",
       "253793  covid-19  16079        MONEY\n",
       "253991  covid-19  16079          FAC\n",
       "254031  covid-19  16079         NORP\n",
       "254504  covid-19  16079      PERCENT\n",
       "255558  covid-19  16079     QUANTITY\n",
       "256232  covid-19  16079         DATE"
      ]
     },
     "execution_count": 246,
     "metadata": {},
     "output_type": "execute_result"
    }
   ],
   "source": [
    "chunk0_ent_count.head(30)"
   ]
  },
  {
   "cell_type": "code",
   "execution_count": 247,
   "metadata": {},
   "outputs": [
    {
     "data": {
      "text/plain": [
       "(319549, 3)"
      ]
     },
     "execution_count": 247,
     "metadata": {},
     "output_type": "execute_result"
    }
   ],
   "source": [
    "chunk0_ent_count.shape"
   ]
  },
  {
   "cell_type": "code",
   "execution_count": 248,
   "metadata": {},
   "outputs": [],
   "source": [
    "chunk0_ent_count.to_csv('data/entity_count_labelled.csv')"
   ]
  },
  {
   "cell_type": "code",
   "execution_count": 385,
   "metadata": {},
   "outputs": [
    {
     "data": {
      "text/html": [
       "<div>\n",
       "<style scoped>\n",
       "    .dataframe tbody tr th:only-of-type {\n",
       "        vertical-align: middle;\n",
       "    }\n",
       "\n",
       "    .dataframe tbody tr th {\n",
       "        vertical-align: top;\n",
       "    }\n",
       "\n",
       "    .dataframe thead th {\n",
       "        text-align: right;\n",
       "    }\n",
       "</style>\n",
       "<table border=\"1\" class=\"dataframe\">\n",
       "  <thead>\n",
       "    <tr style=\"text-align: right;\">\n",
       "      <th></th>\n",
       "      <th>entity</th>\n",
       "      <th>count</th>\n",
       "      <th>label</th>\n",
       "    </tr>\n",
       "  </thead>\n",
       "  <tbody>\n",
       "    <tr>\n",
       "      <th>286</th>\n",
       "      <td>#</td>\n",
       "      <td>83517</td>\n",
       "      <td>FAC</td>\n",
       "    </tr>\n",
       "    <tr>\n",
       "      <th>253991</th>\n",
       "      <td>covid-19</td>\n",
       "      <td>16079</td>\n",
       "      <td>FAC</td>\n",
       "    </tr>\n",
       "    <tr>\n",
       "      <th>477394</th>\n",
       "      <td>&amp;amp</td>\n",
       "      <td>4410</td>\n",
       "      <td>FAC</td>\n",
       "    </tr>\n",
       "    <tr>\n",
       "      <th>594660</th>\n",
       "      <td>the white house</td>\n",
       "      <td>2543</td>\n",
       "      <td>FAC</td>\n",
       "    </tr>\n",
       "    <tr>\n",
       "      <th>599817</th>\n",
       "      <td>white house</td>\n",
       "      <td>2478</td>\n",
       "      <td>FAC</td>\n",
       "    </tr>\n",
       "    <tr>\n",
       "      <th>602618</th>\n",
       "      <td>nyc</td>\n",
       "      <td>2435</td>\n",
       "      <td>FAC</td>\n",
       "    </tr>\n",
       "    <tr>\n",
       "      <th>614567</th>\n",
       "      <td>🤣</td>\n",
       "      <td>2318</td>\n",
       "      <td>FAC</td>\n",
       "    </tr>\n",
       "    <tr>\n",
       "      <th>655405</th>\n",
       "      <td>eu</td>\n",
       "      <td>2009</td>\n",
       "      <td>FAC</td>\n",
       "    </tr>\n",
       "    <tr>\n",
       "      <th>667377</th>\n",
       "      <td>usa</td>\n",
       "      <td>1876</td>\n",
       "      <td>FAC</td>\n",
       "    </tr>\n",
       "    <tr>\n",
       "      <th>745822</th>\n",
       "      <td>100</td>\n",
       "      <td>1392</td>\n",
       "      <td>FAC</td>\n",
       "    </tr>\n",
       "    <tr>\n",
       "      <th>775171</th>\n",
       "      <td>nhs</td>\n",
       "      <td>1200</td>\n",
       "      <td>FAC</td>\n",
       "    </tr>\n",
       "    <tr>\n",
       "      <th>815982</th>\n",
       "      <td>@cdcgov</td>\n",
       "      <td>1026</td>\n",
       "      <td>FAC</td>\n",
       "    </tr>\n",
       "    <tr>\n",
       "      <th>817082</th>\n",
       "      <td>corona</td>\n",
       "      <td>1022</td>\n",
       "      <td>FAC</td>\n",
       "    </tr>\n",
       "    <tr>\n",
       "      <th>900724</th>\n",
       "      <td>9/11</td>\n",
       "      <td>702</td>\n",
       "      <td>FAC</td>\n",
       "    </tr>\n",
       "    <tr>\n",
       "      <th>913603</th>\n",
       "      <td>modi</td>\n",
       "      <td>657</td>\n",
       "      <td>FAC</td>\n",
       "    </tr>\n",
       "    <tr>\n",
       "      <th>916217</th>\n",
       "      <td>brexit</td>\n",
       "      <td>648</td>\n",
       "      <td>FAC</td>\n",
       "    </tr>\n",
       "    <tr>\n",
       "      <th>918801</th>\n",
       "      <td>jfk</td>\n",
       "      <td>640</td>\n",
       "      <td>FAC</td>\n",
       "    </tr>\n",
       "    <tr>\n",
       "      <th>941790</th>\n",
       "      <td>🤣🤣</td>\n",
       "      <td>568</td>\n",
       "      <td>FAC</td>\n",
       "    </tr>\n",
       "    <tr>\n",
       "      <th>943989</th>\n",
       "      <td>🇳</td>\n",
       "      <td>564</td>\n",
       "      <td>FAC</td>\n",
       "    </tr>\n",
       "    <tr>\n",
       "      <th>986453</th>\n",
       "      <td>🇨🇳</td>\n",
       "      <td>474</td>\n",
       "      <td>FAC</td>\n",
       "    </tr>\n",
       "    <tr>\n",
       "      <th>1009457</th>\n",
       "      <td>👇</td>\n",
       "      <td>426</td>\n",
       "      <td>FAC</td>\n",
       "    </tr>\n",
       "    <tr>\n",
       "      <th>1024924</th>\n",
       "      <td>uae</td>\n",
       "      <td>403</td>\n",
       "      <td>FAC</td>\n",
       "    </tr>\n",
       "    <tr>\n",
       "      <th>1046900</th>\n",
       "      <td>pentagon</td>\n",
       "      <td>375</td>\n",
       "      <td>FAC</td>\n",
       "    </tr>\n",
       "    <tr>\n",
       "      <th>1056081</th>\n",
       "      <td>covid 19</td>\n",
       "      <td>360</td>\n",
       "      <td>FAC</td>\n",
       "    </tr>\n",
       "    <tr>\n",
       "      <th>1068708</th>\n",
       "      <td>cor</td>\n",
       "      <td>342</td>\n",
       "      <td>FAC</td>\n",
       "    </tr>\n",
       "    <tr>\n",
       "      <th>1129575</th>\n",
       "      <td>huoshenshan hospital</td>\n",
       "      <td>275</td>\n",
       "      <td>FAC</td>\n",
       "    </tr>\n",
       "    <tr>\n",
       "      <th>1130973</th>\n",
       "      <td>md</td>\n",
       "      <td>274</td>\n",
       "      <td>FAC</td>\n",
       "    </tr>\n",
       "    <tr>\n",
       "      <th>1144572</th>\n",
       "      <td>walmart</td>\n",
       "      <td>260</td>\n",
       "      <td>FAC</td>\n",
       "    </tr>\n",
       "    <tr>\n",
       "      <th>1154784</th>\n",
       "      <td>the wuhan coronavirus</td>\n",
       "      <td>251</td>\n",
       "      <td>FAC</td>\n",
       "    </tr>\n",
       "    <tr>\n",
       "      <th>1166786</th>\n",
       "      <td>coronavirus &amp;amp</td>\n",
       "      <td>239</td>\n",
       "      <td>FAC</td>\n",
       "    </tr>\n",
       "  </tbody>\n",
       "</table>\n",
       "</div>"
      ],
      "text/plain": [
       "                        entity  count label\n",
       "286                          #  83517   FAC\n",
       "253991                covid-19  16079   FAC\n",
       "477394                    &amp   4410   FAC\n",
       "594660         the white house   2543   FAC\n",
       "599817             white house   2478   FAC\n",
       "602618                     nyc   2435   FAC\n",
       "614567                       🤣   2318   FAC\n",
       "655405                      eu   2009   FAC\n",
       "667377                     usa   1876   FAC\n",
       "745822                     100   1392   FAC\n",
       "775171                     nhs   1200   FAC\n",
       "815982                 @cdcgov   1026   FAC\n",
       "817082                  corona   1022   FAC\n",
       "900724                    9/11    702   FAC\n",
       "913603                    modi    657   FAC\n",
       "916217                  brexit    648   FAC\n",
       "918801                     jfk    640   FAC\n",
       "941790                      🤣🤣    568   FAC\n",
       "943989                       🇳    564   FAC\n",
       "986453                      🇨🇳    474   FAC\n",
       "1009457                      👇    426   FAC\n",
       "1024924                    uae    403   FAC\n",
       "1046900               pentagon    375   FAC\n",
       "1056081               covid 19    360   FAC\n",
       "1068708                    cor    342   FAC\n",
       "1129575   huoshenshan hospital    275   FAC\n",
       "1130973                     md    274   FAC\n",
       "1144572                walmart    260   FAC\n",
       "1154784  the wuhan coronavirus    251   FAC\n",
       "1166786       coronavirus &amp    239   FAC"
      ]
     },
     "execution_count": 385,
     "metadata": {},
     "output_type": "execute_result"
    }
   ],
   "source": [
    "chunk0_ent_count[chunk0_ent_count['label']=='FAC'].head(30)"
   ]
  },
  {
   "cell_type": "code",
   "execution_count": 392,
   "metadata": {
    "scrolled": true
   },
   "outputs": [
    {
     "data": {
      "text/html": [
       "<div>\n",
       "<style scoped>\n",
       "    .dataframe tbody tr th:only-of-type {\n",
       "        vertical-align: middle;\n",
       "    }\n",
       "\n",
       "    .dataframe tbody tr th {\n",
       "        vertical-align: top;\n",
       "    }\n",
       "\n",
       "    .dataframe thead th {\n",
       "        text-align: right;\n",
       "    }\n",
       "</style>\n",
       "<table border=\"1\" class=\"dataframe\">\n",
       "  <thead>\n",
       "    <tr style=\"text-align: right;\">\n",
       "      <th></th>\n",
       "      <th>entity</th>\n",
       "      <th>count</th>\n",
       "      <th>label</th>\n",
       "    </tr>\n",
       "  </thead>\n",
       "  <tbody>\n",
       "    <tr>\n",
       "      <th>393339</th>\n",
       "      <td>cdc</td>\n",
       "      <td>9214</td>\n",
       "      <td>ORG</td>\n",
       "    </tr>\n",
       "  </tbody>\n",
       "</table>\n",
       "</div>"
      ],
      "text/plain": [
       "       entity  count label\n",
       "393339    cdc   9214   ORG"
      ]
     },
     "execution_count": 392,
     "metadata": {},
     "output_type": "execute_result"
    }
   ],
   "source": [
    "chunk0_ent_count[chunk0_ent_count['entity']=='cdc']"
   ]
  },
  {
   "cell_type": "code",
   "execution_count": null,
   "metadata": {},
   "outputs": [],
   "source": []
  },
  {
   "cell_type": "code",
   "execution_count": 305,
   "metadata": {},
   "outputs": [
    {
     "data": {
      "image/png": "[encoded data removed]",
      "text/plain": [
       "<Figure size 1080x720 with 1 Axes>"
      ]
     },
     "metadata": {
      "needs_background": "light"
     },
     "output_type": "display_data"
    }
   ],
   "source": [
    "ent_count = plt.subplots(figsize=(15,10))\n",
    "ent_count = sns.barplot(x='entity', y='count', data=chunk0_ent_count.drop_duplicates('entity').nlargest(20, 'count'))\n",
    "ent_count.set_title('Count of Entity Occurences in Tweets', fontsize=40, fontweight='bold')\n",
    "ent_count.set_ylabel('Tweet Count', fontsize=30, fontweight='bold')\n",
    "ent_count.set_xlabel('Named Entity', fontsize=30, fontweight='bold')\n",
    "plt.xticks(fontsize=20, fontweight='bold', rotation=70)\n",
    "plt.yticks(fontsize=20, fontweight='bold');\n",
    "plt.tight_layout()"
   ]
  },
  {
   "cell_type": "code",
   "execution_count": 297,
   "metadata": {},
   "outputs": [],
   "source": [
    "def ent_count_plot(label):\n",
    "    ent_count = plt.subplots(figsize=(15,10))\n",
    "    ent_count = sns.barplot(x='entity', y='count', data=chunk0_ent_count[chunk0_ent_count['label']==label].nlargest(20, 'count'))\n",
    "    ent_count.set_title('Count of Entity Occurences in Tweets', fontsize=40, fontweight='bold')\n",
    "    ent_count.set_ylabel('Tweet Count', fontsize=30, fontweight='bold')\n",
    "    ent_count.set_xlabel('Named Entity ('+label+')', fontsize=30, fontweight='bold')\n",
    "    plt.xticks(fontsize=20, fontweight='bold', rotation=70)\n",
    "    plt.yticks(fontsize=20, fontweight='bold');\n",
    "    plt.tight_layout()"
   ]
  },
  {
   "cell_type": "code",
   "execution_count": 300,
   "metadata": {},
   "outputs": [
    {
     "data": {
      "image/png": "[encoded data removed]",
      "text/plain": [
       "<Figure size 1080x720 with 1 Axes>"
      ]
     },
     "metadata": {
      "needs_background": "light"
     },
     "output_type": "display_data"
    }
   ],
   "source": [
    "ent_count_plot('ORG')"
   ]
  },
  {
   "cell_type": "code",
   "execution_count": 306,
   "metadata": {},
   "outputs": [
    {
     "data": {
      "image/png": "[encoded data removed]",
      "text/plain": [
       "<Figure size 1080x720 with 1 Axes>"
      ]
     },
     "metadata": {
      "needs_background": "light"
     },
     "output_type": "display_data"
    }
   ],
   "source": [
    "ent_count_plot('PERSON')"
   ]
  },
  {
   "cell_type": "code",
   "execution_count": 307,
   "metadata": {},
   "outputs": [
    {
     "data": {
      "image/png": "[encoded data removed]",
      "text/plain": [
       "<Figure size 1080x720 with 1 Axes>"
      ]
     },
     "metadata": {
      "needs_background": "light"
     },
     "output_type": "display_data"
    }
   ],
   "source": [
    "ent_count_plot('GPE')"
   ]
  },
  {
   "cell_type": "code",
   "execution_count": 310,
   "metadata": {},
   "outputs": [
    {
     "name": "stderr",
     "output_type": "stream",
     "text": [
      "//anaconda3/lib/python3.7/site-packages/matplotlib/backends/backend_agg.py:211: RuntimeWarning: Glyph 127475 missing from current font.\n",
      "  font.set_text(s, 0.0, flags=flags)\n",
      "//anaconda3/lib/python3.7/site-packages/matplotlib/backends/backend_agg.py:211: RuntimeWarning: Glyph 128071 missing from current font.\n",
      "  font.set_text(s, 0.0, flags=flags)\n",
      "//anaconda3/lib/python3.7/site-packages/matplotlib/backends/backend_agg.py:176: RuntimeWarning: Glyph 127475 missing from current font.\n",
      "  font.load_char(ord(s), flags=flags)\n",
      "//anaconda3/lib/python3.7/site-packages/matplotlib/backends/backend_agg.py:176: RuntimeWarning: Glyph 128071 missing from current font.\n",
      "  font.load_char(ord(s), flags=flags)\n"
     ]
    },
    {
     "data": {
      "image/png": "[encoded data removed]",
      "text/plain": [
       "<Figure size 1080x720 with 1 Axes>"
      ]
     },
     "metadata": {
      "needs_background": "light"
     },
     "output_type": "display_data"
    }
   ],
   "source": [
    "ent_count_plot('LOC')"
   ]
  },
  {
   "cell_type": "code",
   "execution_count": null,
   "metadata": {},
   "outputs": [],
   "source": []
  },
  {
   "cell_type": "code",
   "execution_count": 347,
   "metadata": {},
   "outputs": [],
   "source": [
    "clean_chunks_5 = pd.read_csv('data/clean_chunks/clean_chunks_5.csv')"
   ]
  },
  {
   "cell_type": "code",
   "execution_count": 348,
   "metadata": {},
   "outputs": [
    {
     "data": {
      "text/html": [
       "<div>\n",
       "<style scoped>\n",
       "    .dataframe tbody tr th:only-of-type {\n",
       "        vertical-align: middle;\n",
       "    }\n",
       "\n",
       "    .dataframe tbody tr th {\n",
       "        vertical-align: top;\n",
       "    }\n",
       "\n",
       "    .dataframe thead th {\n",
       "        text-align: right;\n",
       "    }\n",
       "</style>\n",
       "<table border=\"1\" class=\"dataframe\">\n",
       "  <thead>\n",
       "    <tr style=\"text-align: right;\">\n",
       "      <th></th>\n",
       "      <th>created_at</th>\n",
       "      <th>id</th>\n",
       "      <th>full_text</th>\n",
       "      <th>geo</th>\n",
       "      <th>place</th>\n",
       "      <th>lang</th>\n",
       "    </tr>\n",
       "  </thead>\n",
       "  <tbody>\n",
       "    <tr>\n",
       "      <th>0</th>\n",
       "      <td>2020-03-06 00:10:19+00:00</td>\n",
       "      <td>1.235719e+18</td>\n",
       "      <td>RT @JaneLytv: 5. Unfollow the twitter account ...</td>\n",
       "      <td>NaN</td>\n",
       "      <td>NaN</td>\n",
       "      <td>en</td>\n",
       "    </tr>\n",
       "    <tr>\n",
       "      <th>1</th>\n",
       "      <td>2020-03-06 09:51:02+00:00</td>\n",
       "      <td>1.235865e+18</td>\n",
       "      <td>RT @AliyaAlwani: Coronavirus most common sympt...</td>\n",
       "      <td>NaN</td>\n",
       "      <td>NaN</td>\n",
       "      <td>en</td>\n",
       "    </tr>\n",
       "    <tr>\n",
       "      <th>2</th>\n",
       "      <td>2020-03-07 05:36:27+00:00</td>\n",
       "      <td>1.236164e+18</td>\n",
       "      <td>RT @TulsiGabbard: South Korea has the ability ...</td>\n",
       "      <td>NaN</td>\n",
       "      <td>NaN</td>\n",
       "      <td>en</td>\n",
       "    </tr>\n",
       "    <tr>\n",
       "      <th>3</th>\n",
       "      <td>2020-03-09 22:56:58+00:00</td>\n",
       "      <td>1.237150e+18</td>\n",
       "      <td>RT @BpRobertReed: O God, protect us against th...</td>\n",
       "      <td>NaN</td>\n",
       "      <td>NaN</td>\n",
       "      <td>en</td>\n",
       "    </tr>\n",
       "    <tr>\n",
       "      <th>4</th>\n",
       "      <td>2020-03-11 02:14:19+00:00</td>\n",
       "      <td>1.237562e+18</td>\n",
       "      <td>RT @tastefullytayy: Coronavirus has crossed th...</td>\n",
       "      <td>NaN</td>\n",
       "      <td>NaN</td>\n",
       "      <td>en</td>\n",
       "    </tr>\n",
       "  </tbody>\n",
       "</table>\n",
       "</div>"
      ],
      "text/plain": [
       "                  created_at            id  \\\n",
       "0  2020-03-06 00:10:19+00:00  1.235719e+18   \n",
       "1  2020-03-06 09:51:02+00:00  1.235865e+18   \n",
       "2  2020-03-07 05:36:27+00:00  1.236164e+18   \n",
       "3  2020-03-09 22:56:58+00:00  1.237150e+18   \n",
       "4  2020-03-11 02:14:19+00:00  1.237562e+18   \n",
       "\n",
       "                                           full_text  geo place lang  \n",
       "0  RT @JaneLytv: 5. Unfollow the twitter account ...  NaN   NaN   en  \n",
       "1  RT @AliyaAlwani: Coronavirus most common sympt...  NaN   NaN   en  \n",
       "2  RT @TulsiGabbard: South Korea has the ability ...  NaN   NaN   en  \n",
       "3  RT @BpRobertReed: O God, protect us against th...  NaN   NaN   en  \n",
       "4  RT @tastefullytayy: Coronavirus has crossed th...  NaN   NaN   en  "
      ]
     },
     "execution_count": 348,
     "metadata": {},
     "output_type": "execute_result"
    }
   ],
   "source": [
    "clean_chunks_5.head()"
   ]
  },
  {
   "cell_type": "code",
   "execution_count": 349,
   "metadata": {},
   "outputs": [
    {
     "name": "stdout",
     "output_type": "stream",
     "text": [
      "<class 'pandas.core.frame.DataFrame'>\n",
      "RangeIndex: 3453084 entries, 0 to 3453083\n",
      "Data columns (total 6 columns):\n",
      " #   Column      Dtype  \n",
      "---  ------      -----  \n",
      " 0   created_at  object \n",
      " 1   id          float64\n",
      " 2   full_text   object \n",
      " 3   geo         object \n",
      " 4   place       object \n",
      " 5   lang        object \n",
      "dtypes: float64(1), object(5)\n",
      "memory usage: 158.1+ MB\n"
     ]
    }
   ],
   "source": [
    "clean_chunks_5.info()"
   ]
  },
  {
   "cell_type": "code",
   "execution_count": 350,
   "metadata": {},
   "outputs": [],
   "source": [
    "clean_chunks_5['created_at'] = pd.to_datetime(clean_chunks_5.created_at, errors='coerce')"
   ]
  },
  {
   "cell_type": "code",
   "execution_count": 351,
   "metadata": {},
   "outputs": [
    {
     "data": {
      "text/plain": [
       "Timestamp('2020-01-09 01:18:45+0000', tz='UTC')"
      ]
     },
     "execution_count": 351,
     "metadata": {},
     "output_type": "execute_result"
    }
   ],
   "source": [
    "clean_chunks_5['created_at'].min()"
   ]
  },
  {
   "cell_type": "code",
   "execution_count": 352,
   "metadata": {},
   "outputs": [
    {
     "data": {
      "text/plain": [
       "Timestamp('2020-04-05 00:08:19+0000', tz='UTC')"
      ]
     },
     "execution_count": 352,
     "metadata": {},
     "output_type": "execute_result"
    }
   ],
   "source": [
    "clean_chunks_5['created_at'].max()"
   ]
  },
  {
   "cell_type": "code",
   "execution_count": 353,
   "metadata": {},
   "outputs": [
    {
     "data": {
      "text/html": [
       "<div>\n",
       "<style scoped>\n",
       "    .dataframe tbody tr th:only-of-type {\n",
       "        vertical-align: middle;\n",
       "    }\n",
       "\n",
       "    .dataframe tbody tr th {\n",
       "        vertical-align: top;\n",
       "    }\n",
       "\n",
       "    .dataframe thead th {\n",
       "        text-align: right;\n",
       "    }\n",
       "</style>\n",
       "<table border=\"1\" class=\"dataframe\">\n",
       "  <thead>\n",
       "    <tr style=\"text-align: right;\">\n",
       "      <th></th>\n",
       "      <th>created_at</th>\n",
       "      <th>id</th>\n",
       "      <th>full_text</th>\n",
       "      <th>geo</th>\n",
       "      <th>place</th>\n",
       "      <th>lang</th>\n",
       "    </tr>\n",
       "  </thead>\n",
       "  <tbody>\n",
       "    <tr>\n",
       "      <th>0</th>\n",
       "      <td>2020-03-06 00:10:19+00:00</td>\n",
       "      <td>1.235719e+18</td>\n",
       "      <td>RT @JaneLytv: 5. Unfollow the twitter account ...</td>\n",
       "      <td>NaN</td>\n",
       "      <td>NaN</td>\n",
       "      <td>en</td>\n",
       "    </tr>\n",
       "    <tr>\n",
       "      <th>1</th>\n",
       "      <td>2020-03-06 09:51:02+00:00</td>\n",
       "      <td>1.235865e+18</td>\n",
       "      <td>RT @AliyaAlwani: Coronavirus most common sympt...</td>\n",
       "      <td>NaN</td>\n",
       "      <td>NaN</td>\n",
       "      <td>en</td>\n",
       "    </tr>\n",
       "    <tr>\n",
       "      <th>2</th>\n",
       "      <td>2020-03-07 05:36:27+00:00</td>\n",
       "      <td>1.236164e+18</td>\n",
       "      <td>RT @TulsiGabbard: South Korea has the ability ...</td>\n",
       "      <td>NaN</td>\n",
       "      <td>NaN</td>\n",
       "      <td>en</td>\n",
       "    </tr>\n",
       "    <tr>\n",
       "      <th>3</th>\n",
       "      <td>2020-03-09 22:56:58+00:00</td>\n",
       "      <td>1.237150e+18</td>\n",
       "      <td>RT @BpRobertReed: O God, protect us against th...</td>\n",
       "      <td>NaN</td>\n",
       "      <td>NaN</td>\n",
       "      <td>en</td>\n",
       "    </tr>\n",
       "    <tr>\n",
       "      <th>4</th>\n",
       "      <td>2020-03-11 02:14:19+00:00</td>\n",
       "      <td>1.237562e+18</td>\n",
       "      <td>RT @tastefullytayy: Coronavirus has crossed th...</td>\n",
       "      <td>NaN</td>\n",
       "      <td>NaN</td>\n",
       "      <td>en</td>\n",
       "    </tr>\n",
       "  </tbody>\n",
       "</table>\n",
       "</div>"
      ],
      "text/plain": [
       "                 created_at            id  \\\n",
       "0 2020-03-06 00:10:19+00:00  1.235719e+18   \n",
       "1 2020-03-06 09:51:02+00:00  1.235865e+18   \n",
       "2 2020-03-07 05:36:27+00:00  1.236164e+18   \n",
       "3 2020-03-09 22:56:58+00:00  1.237150e+18   \n",
       "4 2020-03-11 02:14:19+00:00  1.237562e+18   \n",
       "\n",
       "                                           full_text  geo place lang  \n",
       "0  RT @JaneLytv: 5. Unfollow the twitter account ...  NaN   NaN   en  \n",
       "1  RT @AliyaAlwani: Coronavirus most common sympt...  NaN   NaN   en  \n",
       "2  RT @TulsiGabbard: South Korea has the ability ...  NaN   NaN   en  \n",
       "3  RT @BpRobertReed: O God, protect us against th...  NaN   NaN   en  \n",
       "4  RT @tastefullytayy: Coronavirus has crossed th...  NaN   NaN   en  "
      ]
     },
     "execution_count": 353,
     "metadata": {},
     "output_type": "execute_result"
    }
   ],
   "source": [
    "clean_chunks_5.head()"
   ]
  },
  {
   "cell_type": "code",
   "execution_count": 354,
   "metadata": {},
   "outputs": [
    {
     "data": {
      "text/html": [
       "<div>\n",
       "<style scoped>\n",
       "    .dataframe tbody tr th:only-of-type {\n",
       "        vertical-align: middle;\n",
       "    }\n",
       "\n",
       "    .dataframe tbody tr th {\n",
       "        vertical-align: top;\n",
       "    }\n",
       "\n",
       "    .dataframe thead th {\n",
       "        text-align: right;\n",
       "    }\n",
       "</style>\n",
       "<table border=\"1\" class=\"dataframe\">\n",
       "  <thead>\n",
       "    <tr style=\"text-align: right;\">\n",
       "      <th></th>\n",
       "      <th>created_at</th>\n",
       "      <th>id</th>\n",
       "      <th>full_text</th>\n",
       "      <th>geo</th>\n",
       "      <th>place</th>\n",
       "      <th>lang</th>\n",
       "    </tr>\n",
       "  </thead>\n",
       "  <tbody>\n",
       "    <tr>\n",
       "      <th>3453079</th>\n",
       "      <td>2020-04-02 12:33:53+00:00</td>\n",
       "      <td>1.245691e+18</td>\n",
       "      <td>RT @agoodfireburns: Weird right, how sending o...</td>\n",
       "      <td>NaN</td>\n",
       "      <td>NaN</td>\n",
       "      <td>en</td>\n",
       "    </tr>\n",
       "    <tr>\n",
       "      <th>3453080</th>\n",
       "      <td>2020-04-02 16:23:34+00:00</td>\n",
       "      <td>1.245749e+18</td>\n",
       "      <td>RT @ResourceDesk: Serbia: Other manipulation i...</td>\n",
       "      <td>NaN</td>\n",
       "      <td>NaN</td>\n",
       "      <td>en</td>\n",
       "    </tr>\n",
       "    <tr>\n",
       "      <th>3453081</th>\n",
       "      <td>2020-04-02 19:44:56+00:00</td>\n",
       "      <td>1.245799e+18</td>\n",
       "      <td>RT @RepRubenGallego: Tribal communities will s...</td>\n",
       "      <td>NaN</td>\n",
       "      <td>NaN</td>\n",
       "      <td>en</td>\n",
       "    </tr>\n",
       "    <tr>\n",
       "      <th>3453082</th>\n",
       "      <td>2020-04-02 19:55:40+00:00</td>\n",
       "      <td>1.245802e+18</td>\n",
       "      <td>RT @LulBit_ME: After COVID-19 ... i promise y’...</td>\n",
       "      <td>NaN</td>\n",
       "      <td>NaN</td>\n",
       "      <td>en</td>\n",
       "    </tr>\n",
       "    <tr>\n",
       "      <th>3453083</th>\n",
       "      <td>2020-04-03 23:24:37+00:00</td>\n",
       "      <td>1.246217e+18</td>\n",
       "      <td>RT @weijia: Jared Kushner is in charge of the ...</td>\n",
       "      <td>NaN</td>\n",
       "      <td>NaN</td>\n",
       "      <td>en</td>\n",
       "    </tr>\n",
       "  </tbody>\n",
       "</table>\n",
       "</div>"
      ],
      "text/plain": [
       "                       created_at            id  \\\n",
       "3453079 2020-04-02 12:33:53+00:00  1.245691e+18   \n",
       "3453080 2020-04-02 16:23:34+00:00  1.245749e+18   \n",
       "3453081 2020-04-02 19:44:56+00:00  1.245799e+18   \n",
       "3453082 2020-04-02 19:55:40+00:00  1.245802e+18   \n",
       "3453083 2020-04-03 23:24:37+00:00  1.246217e+18   \n",
       "\n",
       "                                                 full_text  geo place lang  \n",
       "3453079  RT @agoodfireburns: Weird right, how sending o...  NaN   NaN   en  \n",
       "3453080  RT @ResourceDesk: Serbia: Other manipulation i...  NaN   NaN   en  \n",
       "3453081  RT @RepRubenGallego: Tribal communities will s...  NaN   NaN   en  \n",
       "3453082  RT @LulBit_ME: After COVID-19 ... i promise y’...  NaN   NaN   en  \n",
       "3453083  RT @weijia: Jared Kushner is in charge of the ...  NaN   NaN   en  "
      ]
     },
     "execution_count": 354,
     "metadata": {},
     "output_type": "execute_result"
    }
   ],
   "source": [
    "clean_chunks_5.tail()"
   ]
  },
  {
   "cell_type": "code",
   "execution_count": 355,
   "metadata": {},
   "outputs": [],
   "source": [
    "clean_chunks_5 = clean_chunks_5.sort_values(by='created_at')"
   ]
  },
  {
   "cell_type": "code",
   "execution_count": 356,
   "metadata": {},
   "outputs": [
    {
     "data": {
      "text/html": [
       "<div>\n",
       "<style scoped>\n",
       "    .dataframe tbody tr th:only-of-type {\n",
       "        vertical-align: middle;\n",
       "    }\n",
       "\n",
       "    .dataframe tbody tr th {\n",
       "        vertical-align: top;\n",
       "    }\n",
       "\n",
       "    .dataframe thead th {\n",
       "        text-align: right;\n",
       "    }\n",
       "</style>\n",
       "<table border=\"1\" class=\"dataframe\">\n",
       "  <thead>\n",
       "    <tr style=\"text-align: right;\">\n",
       "      <th></th>\n",
       "      <th>created_at</th>\n",
       "      <th>id</th>\n",
       "      <th>full_text</th>\n",
       "      <th>geo</th>\n",
       "      <th>place</th>\n",
       "      <th>lang</th>\n",
       "    </tr>\n",
       "  </thead>\n",
       "  <tbody>\n",
       "    <tr>\n",
       "      <th>159836</th>\n",
       "      <td>2020-01-09 01:18:45+00:00</td>\n",
       "      <td>1.215080e+18</td>\n",
       "      <td>RT @lauriechenwords: #Breaking: Chinese health...</td>\n",
       "      <td>NaN</td>\n",
       "      <td>NaN</td>\n",
       "      <td>en</td>\n",
       "    </tr>\n",
       "    <tr>\n",
       "      <th>3286230</th>\n",
       "      <td>2020-01-09 19:02:38+00:00</td>\n",
       "      <td>1.215348e+18</td>\n",
       "      <td>RT @CIDRAP: Virologists weigh in on novel #cor...</td>\n",
       "      <td>NaN</td>\n",
       "      <td>NaN</td>\n",
       "      <td>en</td>\n",
       "    </tr>\n",
       "    <tr>\n",
       "      <th>99776</th>\n",
       "      <td>2020-01-10 16:40:10+00:00</td>\n",
       "      <td>1.215675e+18</td>\n",
       "      <td>RT @WHOWPRO: Protect yourself &amp;amp; reduce ris...</td>\n",
       "      <td>NaN</td>\n",
       "      <td>NaN</td>\n",
       "      <td>en</td>\n",
       "    </tr>\n",
       "    <tr>\n",
       "      <th>3238393</th>\n",
       "      <td>2020-01-10 19:45:34+00:00</td>\n",
       "      <td>1.215721e+18</td>\n",
       "      <td>RT @WHO: Protect yourself &amp;amp; reduce risk fr...</td>\n",
       "      <td>NaN</td>\n",
       "      <td>NaN</td>\n",
       "      <td>en</td>\n",
       "    </tr>\n",
       "    <tr>\n",
       "      <th>924473</th>\n",
       "      <td>2020-01-11 14:51:52+00:00</td>\n",
       "      <td>1.216010e+18</td>\n",
       "      <td>RT @CGTNOfficial: China to share with WHO new ...</td>\n",
       "      <td>NaN</td>\n",
       "      <td>NaN</td>\n",
       "      <td>en</td>\n",
       "    </tr>\n",
       "  </tbody>\n",
       "</table>\n",
       "</div>"
      ],
      "text/plain": [
       "                       created_at            id  \\\n",
       "159836  2020-01-09 01:18:45+00:00  1.215080e+18   \n",
       "3286230 2020-01-09 19:02:38+00:00  1.215348e+18   \n",
       "99776   2020-01-10 16:40:10+00:00  1.215675e+18   \n",
       "3238393 2020-01-10 19:45:34+00:00  1.215721e+18   \n",
       "924473  2020-01-11 14:51:52+00:00  1.216010e+18   \n",
       "\n",
       "                                                 full_text  geo place lang  \n",
       "159836   RT @lauriechenwords: #Breaking: Chinese health...  NaN   NaN   en  \n",
       "3286230  RT @CIDRAP: Virologists weigh in on novel #cor...  NaN   NaN   en  \n",
       "99776    RT @WHOWPRO: Protect yourself &amp; reduce ris...  NaN   NaN   en  \n",
       "3238393  RT @WHO: Protect yourself &amp; reduce risk fr...  NaN   NaN   en  \n",
       "924473   RT @CGTNOfficial: China to share with WHO new ...  NaN   NaN   en  "
      ]
     },
     "execution_count": 356,
     "metadata": {},
     "output_type": "execute_result"
    }
   ],
   "source": [
    "clean_chunks_5.head()"
   ]
  },
  {
   "cell_type": "code",
   "execution_count": 357,
   "metadata": {},
   "outputs": [
    {
     "data": {
      "text/html": [
       "<div>\n",
       "<style scoped>\n",
       "    .dataframe tbody tr th:only-of-type {\n",
       "        vertical-align: middle;\n",
       "    }\n",
       "\n",
       "    .dataframe tbody tr th {\n",
       "        vertical-align: top;\n",
       "    }\n",
       "\n",
       "    .dataframe thead th {\n",
       "        text-align: right;\n",
       "    }\n",
       "</style>\n",
       "<table border=\"1\" class=\"dataframe\">\n",
       "  <thead>\n",
       "    <tr style=\"text-align: right;\">\n",
       "      <th></th>\n",
       "      <th>created_at</th>\n",
       "      <th>id</th>\n",
       "      <th>full_text</th>\n",
       "      <th>geo</th>\n",
       "      <th>place</th>\n",
       "      <th>lang</th>\n",
       "    </tr>\n",
       "  </thead>\n",
       "  <tbody>\n",
       "    <tr>\n",
       "      <th>2951604</th>\n",
       "      <td>NaT</td>\n",
       "      <td>NaN</td>\n",
       "      <td>NaN</td>\n",
       "      <td>en</td>\n",
       "      <td>NaN</td>\n",
       "      <td>NaN</td>\n",
       "    </tr>\n",
       "    <tr>\n",
       "      <th>2963087</th>\n",
       "      <td>NaT</td>\n",
       "      <td>NaN</td>\n",
       "      <td>NaN</td>\n",
       "      <td>en</td>\n",
       "      <td>NaN</td>\n",
       "      <td>NaN</td>\n",
       "    </tr>\n",
       "    <tr>\n",
       "      <th>2991159</th>\n",
       "      <td>NaT</td>\n",
       "      <td>NaN</td>\n",
       "      <td>NaN</td>\n",
       "      <td>en</td>\n",
       "      <td>NaN</td>\n",
       "      <td>NaN</td>\n",
       "    </tr>\n",
       "    <tr>\n",
       "      <th>3154309</th>\n",
       "      <td>NaT</td>\n",
       "      <td>NaN</td>\n",
       "      <td>NaN</td>\n",
       "      <td>en</td>\n",
       "      <td>NaN</td>\n",
       "      <td>NaN</td>\n",
       "    </tr>\n",
       "    <tr>\n",
       "      <th>3267717</th>\n",
       "      <td>NaT</td>\n",
       "      <td>NaN</td>\n",
       "      <td>NaN</td>\n",
       "      <td>en</td>\n",
       "      <td>NaN</td>\n",
       "      <td>NaN</td>\n",
       "    </tr>\n",
       "  </tbody>\n",
       "</table>\n",
       "</div>"
      ],
      "text/plain": [
       "        created_at  id full_text geo place lang\n",
       "2951604        NaT NaN       NaN  en   NaN  NaN\n",
       "2963087        NaT NaN       NaN  en   NaN  NaN\n",
       "2991159        NaT NaN       NaN  en   NaN  NaN\n",
       "3154309        NaT NaN       NaN  en   NaN  NaN\n",
       "3267717        NaT NaN       NaN  en   NaN  NaN"
      ]
     },
     "execution_count": 357,
     "metadata": {},
     "output_type": "execute_result"
    }
   ],
   "source": [
    "clean_chunks_5.tail()"
   ]
  },
  {
   "cell_type": "code",
   "execution_count": 358,
   "metadata": {},
   "outputs": [
    {
     "name": "stdout",
     "output_type": "stream",
     "text": [
      "<class 'pandas.core.frame.DataFrame'>\n",
      "Int64Index: 3453084 entries, 159836 to 3267717\n",
      "Data columns (total 6 columns):\n",
      " #   Column      Dtype              \n",
      "---  ------      -----              \n",
      " 0   created_at  datetime64[ns, UTC]\n",
      " 1   id          float64            \n",
      " 2   full_text   object             \n",
      " 3   geo         object             \n",
      " 4   place       object             \n",
      " 5   lang        object             \n",
      "dtypes: datetime64[ns, UTC](1), float64(1), object(4)\n",
      "memory usage: 184.4+ MB\n"
     ]
    }
   ],
   "source": [
    "clean_chunks_5.info(verbose=True)"
   ]
  },
  {
   "cell_type": "code",
   "execution_count": 361,
   "metadata": {},
   "outputs": [],
   "source": [
    "clean_chunks_5 = clean_chunks_5.dropna(subset=['created_at'])"
   ]
  },
  {
   "cell_type": "code",
   "execution_count": 362,
   "metadata": {},
   "outputs": [
    {
     "data": {
      "text/plain": [
       "(3453041, 6)"
      ]
     },
     "execution_count": 362,
     "metadata": {},
     "output_type": "execute_result"
    }
   ],
   "source": [
    "clean_chunks_5.shape"
   ]
  },
  {
   "cell_type": "code",
   "execution_count": 363,
   "metadata": {},
   "outputs": [
    {
     "data": {
      "text/html": [
       "<div>\n",
       "<style scoped>\n",
       "    .dataframe tbody tr th:only-of-type {\n",
       "        vertical-align: middle;\n",
       "    }\n",
       "\n",
       "    .dataframe tbody tr th {\n",
       "        vertical-align: top;\n",
       "    }\n",
       "\n",
       "    .dataframe thead th {\n",
       "        text-align: right;\n",
       "    }\n",
       "</style>\n",
       "<table border=\"1\" class=\"dataframe\">\n",
       "  <thead>\n",
       "    <tr style=\"text-align: right;\">\n",
       "      <th></th>\n",
       "      <th>created_at</th>\n",
       "      <th>id</th>\n",
       "      <th>full_text</th>\n",
       "      <th>geo</th>\n",
       "      <th>place</th>\n",
       "      <th>lang</th>\n",
       "    </tr>\n",
       "  </thead>\n",
       "  <tbody>\n",
       "    <tr>\n",
       "      <th>159836</th>\n",
       "      <td>2020-01-09 01:18:45+00:00</td>\n",
       "      <td>1.215080e+18</td>\n",
       "      <td>RT @lauriechenwords: #Breaking: Chinese health...</td>\n",
       "      <td>NaN</td>\n",
       "      <td>NaN</td>\n",
       "      <td>en</td>\n",
       "    </tr>\n",
       "    <tr>\n",
       "      <th>3286230</th>\n",
       "      <td>2020-01-09 19:02:38+00:00</td>\n",
       "      <td>1.215348e+18</td>\n",
       "      <td>RT @CIDRAP: Virologists weigh in on novel #cor...</td>\n",
       "      <td>NaN</td>\n",
       "      <td>NaN</td>\n",
       "      <td>en</td>\n",
       "    </tr>\n",
       "    <tr>\n",
       "      <th>99776</th>\n",
       "      <td>2020-01-10 16:40:10+00:00</td>\n",
       "      <td>1.215675e+18</td>\n",
       "      <td>RT @WHOWPRO: Protect yourself &amp;amp; reduce ris...</td>\n",
       "      <td>NaN</td>\n",
       "      <td>NaN</td>\n",
       "      <td>en</td>\n",
       "    </tr>\n",
       "    <tr>\n",
       "      <th>3238393</th>\n",
       "      <td>2020-01-10 19:45:34+00:00</td>\n",
       "      <td>1.215721e+18</td>\n",
       "      <td>RT @WHO: Protect yourself &amp;amp; reduce risk fr...</td>\n",
       "      <td>NaN</td>\n",
       "      <td>NaN</td>\n",
       "      <td>en</td>\n",
       "    </tr>\n",
       "    <tr>\n",
       "      <th>924473</th>\n",
       "      <td>2020-01-11 14:51:52+00:00</td>\n",
       "      <td>1.216010e+18</td>\n",
       "      <td>RT @CGTNOfficial: China to share with WHO new ...</td>\n",
       "      <td>NaN</td>\n",
       "      <td>NaN</td>\n",
       "      <td>en</td>\n",
       "    </tr>\n",
       "  </tbody>\n",
       "</table>\n",
       "</div>"
      ],
      "text/plain": [
       "                       created_at            id  \\\n",
       "159836  2020-01-09 01:18:45+00:00  1.215080e+18   \n",
       "3286230 2020-01-09 19:02:38+00:00  1.215348e+18   \n",
       "99776   2020-01-10 16:40:10+00:00  1.215675e+18   \n",
       "3238393 2020-01-10 19:45:34+00:00  1.215721e+18   \n",
       "924473  2020-01-11 14:51:52+00:00  1.216010e+18   \n",
       "\n",
       "                                                 full_text  geo place lang  \n",
       "159836   RT @lauriechenwords: #Breaking: Chinese health...  NaN   NaN   en  \n",
       "3286230  RT @CIDRAP: Virologists weigh in on novel #cor...  NaN   NaN   en  \n",
       "99776    RT @WHOWPRO: Protect yourself &amp; reduce ris...  NaN   NaN   en  \n",
       "3238393  RT @WHO: Protect yourself &amp; reduce risk fr...  NaN   NaN   en  \n",
       "924473   RT @CGTNOfficial: China to share with WHO new ...  NaN   NaN   en  "
      ]
     },
     "execution_count": 363,
     "metadata": {},
     "output_type": "execute_result"
    }
   ],
   "source": [
    "clean_chunks_5.head()"
   ]
  },
  {
   "cell_type": "code",
   "execution_count": 368,
   "metadata": {},
   "outputs": [
    {
     "name": "stderr",
     "output_type": "stream",
     "text": [
      "//anaconda3/lib/python3.7/site-packages/ipykernel_launcher.py:1: SettingWithCopyWarning: \n",
      "A value is trying to be set on a copy of a slice from a DataFrame.\n",
      "Try using .loc[row_indexer,col_indexer] = value instead\n",
      "\n",
      "See the caveats in the documentation: https://pandas.pydata.org/pandas-docs/stable/user_guide/indexing.html#returning-a-view-versus-a-copy\n",
      "  \"\"\"Entry point for launching an IPython kernel.\n",
      "//anaconda3/lib/python3.7/site-packages/ipykernel_launcher.py:2: SettingWithCopyWarning: \n",
      "A value is trying to be set on a copy of a slice from a DataFrame.\n",
      "Try using .loc[row_indexer,col_indexer] = value instead\n",
      "\n",
      "See the caveats in the documentation: https://pandas.pydata.org/pandas-docs/stable/user_guide/indexing.html#returning-a-view-versus-a-copy\n",
      "  \n"
     ]
    }
   ],
   "source": [
    "clean_chunks_5['month'] = clean_chunks_5.created_at.dt.month\n",
    "clean_chunks_5['week'] = clean_chunks_5.created_at.dt.week"
   ]
  },
  {
   "cell_type": "code",
   "execution_count": 370,
   "metadata": {},
   "outputs": [
    {
     "data": {
      "text/html": [
       "<div>\n",
       "<style scoped>\n",
       "    .dataframe tbody tr th:only-of-type {\n",
       "        vertical-align: middle;\n",
       "    }\n",
       "\n",
       "    .dataframe tbody tr th {\n",
       "        vertical-align: top;\n",
       "    }\n",
       "\n",
       "    .dataframe thead th {\n",
       "        text-align: right;\n",
       "    }\n",
       "</style>\n",
       "<table border=\"1\" class=\"dataframe\">\n",
       "  <thead>\n",
       "    <tr style=\"text-align: right;\">\n",
       "      <th></th>\n",
       "      <th>created_at</th>\n",
       "      <th>id</th>\n",
       "      <th>full_text</th>\n",
       "      <th>geo</th>\n",
       "      <th>place</th>\n",
       "      <th>lang</th>\n",
       "      <th>month</th>\n",
       "      <th>week</th>\n",
       "    </tr>\n",
       "  </thead>\n",
       "  <tbody>\n",
       "    <tr>\n",
       "      <th>159836</th>\n",
       "      <td>2020-01-09 01:18:45+00:00</td>\n",
       "      <td>1.215080e+18</td>\n",
       "      <td>RT @lauriechenwords: #Breaking: Chinese health...</td>\n",
       "      <td>NaN</td>\n",
       "      <td>NaN</td>\n",
       "      <td>en</td>\n",
       "      <td>1</td>\n",
       "      <td>2</td>\n",
       "    </tr>\n",
       "    <tr>\n",
       "      <th>3286230</th>\n",
       "      <td>2020-01-09 19:02:38+00:00</td>\n",
       "      <td>1.215348e+18</td>\n",
       "      <td>RT @CIDRAP: Virologists weigh in on novel #cor...</td>\n",
       "      <td>NaN</td>\n",
       "      <td>NaN</td>\n",
       "      <td>en</td>\n",
       "      <td>1</td>\n",
       "      <td>2</td>\n",
       "    </tr>\n",
       "    <tr>\n",
       "      <th>99776</th>\n",
       "      <td>2020-01-10 16:40:10+00:00</td>\n",
       "      <td>1.215675e+18</td>\n",
       "      <td>RT @WHOWPRO: Protect yourself &amp;amp; reduce ris...</td>\n",
       "      <td>NaN</td>\n",
       "      <td>NaN</td>\n",
       "      <td>en</td>\n",
       "      <td>1</td>\n",
       "      <td>2</td>\n",
       "    </tr>\n",
       "    <tr>\n",
       "      <th>3238393</th>\n",
       "      <td>2020-01-10 19:45:34+00:00</td>\n",
       "      <td>1.215721e+18</td>\n",
       "      <td>RT @WHO: Protect yourself &amp;amp; reduce risk fr...</td>\n",
       "      <td>NaN</td>\n",
       "      <td>NaN</td>\n",
       "      <td>en</td>\n",
       "      <td>1</td>\n",
       "      <td>2</td>\n",
       "    </tr>\n",
       "    <tr>\n",
       "      <th>924473</th>\n",
       "      <td>2020-01-11 14:51:52+00:00</td>\n",
       "      <td>1.216010e+18</td>\n",
       "      <td>RT @CGTNOfficial: China to share with WHO new ...</td>\n",
       "      <td>NaN</td>\n",
       "      <td>NaN</td>\n",
       "      <td>en</td>\n",
       "      <td>1</td>\n",
       "      <td>2</td>\n",
       "    </tr>\n",
       "  </tbody>\n",
       "</table>\n",
       "</div>"
      ],
      "text/plain": [
       "                       created_at            id  \\\n",
       "159836  2020-01-09 01:18:45+00:00  1.215080e+18   \n",
       "3286230 2020-01-09 19:02:38+00:00  1.215348e+18   \n",
       "99776   2020-01-10 16:40:10+00:00  1.215675e+18   \n",
       "3238393 2020-01-10 19:45:34+00:00  1.215721e+18   \n",
       "924473  2020-01-11 14:51:52+00:00  1.216010e+18   \n",
       "\n",
       "                                                 full_text  geo place lang  \\\n",
       "159836   RT @lauriechenwords: #Breaking: Chinese health...  NaN   NaN   en   \n",
       "3286230  RT @CIDRAP: Virologists weigh in on novel #cor...  NaN   NaN   en   \n",
       "99776    RT @WHOWPRO: Protect yourself &amp; reduce ris...  NaN   NaN   en   \n",
       "3238393  RT @WHO: Protect yourself &amp; reduce risk fr...  NaN   NaN   en   \n",
       "924473   RT @CGTNOfficial: China to share with WHO new ...  NaN   NaN   en   \n",
       "\n",
       "         month  week  \n",
       "159836       1     2  \n",
       "3286230      1     2  \n",
       "99776        1     2  \n",
       "3238393      1     2  \n",
       "924473       1     2  "
      ]
     },
     "execution_count": 370,
     "metadata": {},
     "output_type": "execute_result"
    }
   ],
   "source": [
    "clean_chunks_5.head()"
   ]
  },
  {
   "cell_type": "code",
   "execution_count": 379,
   "metadata": {},
   "outputs": [],
   "source": [
    "chunk5_week_count = pd.DataFrame(clean_chunks_5.week.value_counts()).reset_index()"
   ]
  },
  {
   "cell_type": "code",
   "execution_count": 382,
   "metadata": {},
   "outputs": [
    {
     "data": {
      "text/html": [
       "<div>\n",
       "<style scoped>\n",
       "    .dataframe tbody tr th:only-of-type {\n",
       "        vertical-align: middle;\n",
       "    }\n",
       "\n",
       "    .dataframe tbody tr th {\n",
       "        vertical-align: top;\n",
       "    }\n",
       "\n",
       "    .dataframe thead th {\n",
       "        text-align: right;\n",
       "    }\n",
       "</style>\n",
       "<table border=\"1\" class=\"dataframe\">\n",
       "  <thead>\n",
       "    <tr style=\"text-align: right;\">\n",
       "      <th></th>\n",
       "      <th>index</th>\n",
       "      <th>week</th>\n",
       "    </tr>\n",
       "  </thead>\n",
       "  <tbody>\n",
       "    <tr>\n",
       "      <th>0</th>\n",
       "      <td>13</td>\n",
       "      <td>732755</td>\n",
       "    </tr>\n",
       "    <tr>\n",
       "      <th>1</th>\n",
       "      <td>12</td>\n",
       "      <td>707708</td>\n",
       "    </tr>\n",
       "    <tr>\n",
       "      <th>2</th>\n",
       "      <td>11</td>\n",
       "      <td>550875</td>\n",
       "    </tr>\n",
       "    <tr>\n",
       "      <th>3</th>\n",
       "      <td>14</td>\n",
       "      <td>537660</td>\n",
       "    </tr>\n",
       "    <tr>\n",
       "      <th>4</th>\n",
       "      <td>10</td>\n",
       "      <td>322372</td>\n",
       "    </tr>\n",
       "    <tr>\n",
       "      <th>5</th>\n",
       "      <td>5</td>\n",
       "      <td>178229</td>\n",
       "    </tr>\n",
       "    <tr>\n",
       "      <th>6</th>\n",
       "      <td>9</td>\n",
       "      <td>154004</td>\n",
       "    </tr>\n",
       "    <tr>\n",
       "      <th>7</th>\n",
       "      <td>8</td>\n",
       "      <td>90556</td>\n",
       "    </tr>\n",
       "    <tr>\n",
       "      <th>8</th>\n",
       "      <td>6</td>\n",
       "      <td>90392</td>\n",
       "    </tr>\n",
       "    <tr>\n",
       "      <th>9</th>\n",
       "      <td>7</td>\n",
       "      <td>87503</td>\n",
       "    </tr>\n",
       "    <tr>\n",
       "      <th>10</th>\n",
       "      <td>4</td>\n",
       "      <td>975</td>\n",
       "    </tr>\n",
       "    <tr>\n",
       "      <th>11</th>\n",
       "      <td>2</td>\n",
       "      <td>7</td>\n",
       "    </tr>\n",
       "    <tr>\n",
       "      <th>12</th>\n",
       "      <td>3</td>\n",
       "      <td>5</td>\n",
       "    </tr>\n",
       "  </tbody>\n",
       "</table>\n",
       "</div>"
      ],
      "text/plain": [
       "    index    week\n",
       "0      13  732755\n",
       "1      12  707708\n",
       "2      11  550875\n",
       "3      14  537660\n",
       "4      10  322372\n",
       "5       5  178229\n",
       "6       9  154004\n",
       "7       8   90556\n",
       "8       6   90392\n",
       "9       7   87503\n",
       "10      4     975\n",
       "11      2       7\n",
       "12      3       5"
      ]
     },
     "execution_count": 382,
     "metadata": {},
     "output_type": "execute_result"
    }
   ],
   "source": [
    "chunk5_week_count"
   ]
  },
  {
   "cell_type": "code",
   "execution_count": 375,
   "metadata": {},
   "outputs": [
    {
     "data": {
      "text/plain": [
       "3    2531052\n",
       "2     438150\n",
       "4     349996\n",
       "1     133843\n",
       "Name: month, dtype: int64"
      ]
     },
     "execution_count": 375,
     "metadata": {},
     "output_type": "execute_result"
    }
   ],
   "source": [
    "clean_chunks_5.month.value_counts()"
   ]
  },
  {
   "cell_type": "code",
   "execution_count": 381,
   "metadata": {},
   "outputs": [
    {
     "data": {
      "text/plain": [
       "<BarContainer object of 13 artists>"
      ]
     },
     "execution_count": 381,
     "metadata": {},
     "output_type": "execute_result"
    },
    {
     "data": {
      "image/png": "[encoded data removed]",
      "text/plain": [
       "<Figure size 432x288 with 1 Axes>"
      ]
     },
     "metadata": {
      "needs_background": "light"
     },
     "output_type": "display_data"
    }
   ],
   "source": [
    "plt.bar(x=chunk5_week_count['index'], height=chunk5_week_count['week'])"
   ]
  },
  {
   "cell_type": "code",
   "execution_count": null,
   "metadata": {},
   "outputs": [],
   "source": []
  }
 ],
 "metadata": {
  "kernelspec": {
   "display_name": "Python 3",
   "language": "python",
   "name": "python3"
  },
  "language_info": {
   "codemirror_mode": {
    "name": "ipython",
    "version": 3
   },
   "file_extension": ".py",
   "mimetype": "text/x-python",
   "name": "python",
   "nbconvert_exporter": "python",
   "pygments_lexer": "ipython3",
   "version": "3.7.3"
  }
 },
 "nbformat": 4,
 "nbformat_minor": 4
}
