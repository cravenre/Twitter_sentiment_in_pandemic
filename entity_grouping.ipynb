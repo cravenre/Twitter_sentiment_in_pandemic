{
 "cells": [
  {
   "cell_type": "code",
   "execution_count": 145,
   "metadata": {},
   "outputs": [],
   "source": [
    "import pandas as pd\n",
    "import glob\n",
    "import os\n",
    "from tqdm import tqdm\n",
    "import datetime\n",
    "import time"
   ]
  },
  {
   "cell_type": "code",
   "execution_count": 2,
   "metadata": {},
   "outputs": [],
   "source": [
    "# Determine text to include in 'PERSON' entity grouped df\n",
    "trump = ['trump', 'donal trump', '@realdonaldtrump']\n",
    "pelosi = ['pelosi', 'nancy pelosi', '@speakerpelosi']\n",
    "obama = ['obama', 'barack obama', '@barackobama']\n",
    "fauci = ['fauci', 'anthonyfauci']\n",
    "boris = ['boris', 'boris johnson', 'johnson', '@borisjohnson']\n",
    "\n",
    "# 'ORG' entity group text\n",
    "cdc = ['cdc', 'centers for disease control', '@cdcgov']\n",
    "who = ['who', '@who']\n",
    "nhs = ['nhs', 'national health service', '@nhsuk']\n",
    "white_house = ['whitehouse', '@whitehouse', 'white house']\n",
    "congress = ['congress']\n",
    "eu = ['eu', 'european union', 'european commission', '@eu_commission']\n",
    "\n",
    "# 'GPE' entity group text\n",
    "china = ['china', 'chinese']\n",
    "italy = ['italy', 'italian']\n",
    "spain = ['spain', 'spanish']\n",
    "usa = ['usa', 'u.s.', 'america', 'united states']\n",
    "nyc = ['nyc', 'new york', 'newyork']\n",
    "\n",
    "# Some fun entities as well\n",
    "football = ['nfl', 'national football league', 'football', '@nfl']\n",
    "soccer = ['fifa', 'mls', '@mls', 'soccer', '@fifacom', 'premier league', '@premierleague']\n",
    "baseball = ['mlb', 'baseball', '@mlb']\n",
    "basketball = ['nba', 'basketball', '@nba']\n",
    "hockey = ['nhl', 'hockey', '@nhl']"
   ]
  },
  {
   "cell_type": "code",
   "execution_count": 3,
   "metadata": {},
   "outputs": [],
   "source": [
    "# Making a list of all the entities that will selected for across the tweet datasets\n",
    "entity_list = [trump, pelosi, obama, fauci, boris, cdc, who, nhs, white_house, congress, eu, china, italy, spain,\n",
    "              usa, nyc, football, soccer, baseball, basketball, hockey]"
   ]
  },
  {
   "cell_type": "code",
   "execution_count": 5,
   "metadata": {},
   "outputs": [],
   "source": [
    "# Empty list of files to fill\n",
    "file_list = []\n",
    "\n",
    "# A function to add every file that matches to a list of files\n",
    "def file_grabber(directory):\n",
    "    files = os.listdir(directory)\n",
    "    for file in files:\n",
    "        if file.endswith('.csv'):\n",
    "            file = file.replace('.csv','')\n",
    "            file_list.append(file)\n",
    "\n",
    "# Performing the file list making function for all cleaned tweet datasets\n",
    "file_grabber('data/cleaned_tweet_df/')"
   ]
  },
  {
   "cell_type": "code",
   "execution_count": 54,
   "metadata": {
    "scrolled": true
   },
   "outputs": [
    {
     "data": {
      "text/plain": [
       "['clean_chunks_7',\n",
       " 'clean_chunks_6',\n",
       " 'small_tweet_set_cleaned',\n",
       " 'clean_chunks_4',\n",
       " 'clean_chunks_5',\n",
       " 'clean_kaggle3',\n",
       " 'clean_chunks_1',\n",
       " 'clean_chunks_0',\n",
       " 'clean_kaggle2',\n",
       " 'clean_chunks_2',\n",
       " 'clean_kaggle1',\n",
       " 'clean_chunks_3']"
      ]
     },
     "execution_count": 54,
     "metadata": {},
     "output_type": "execute_result"
    }
   ],
   "source": [
    "file_list"
   ]
  },
  {
   "cell_type": "markdown",
   "metadata": {},
   "source": [
    "## Glob together all the sets of tweet data into a single df to be analyzed"
   ]
  },
  {
   "cell_type": "code",
   "execution_count": null,
   "metadata": {
    "scrolled": true
   },
   "outputs": [],
   "source": [
    "# Adding all the files from the file list into a globbed list\n",
    "all_tweets = []\n",
    "for file in tqdm(glob.glob('data/cleaned_tweet_df/*')):\n",
    "    all_tweets.append(pd.read_pickle(file))"
   ]
  },
  {
   "cell_type": "code",
   "execution_count": 8,
   "metadata": {
    "scrolled": true
   },
   "outputs": [
    {
     "data": {
      "text/plain": [
       "[                        created_at            id  \\\n",
       " 0        2020-03-16 11:22:34+00:00  1.239512e+18   \n",
       " 1        2020-03-16 11:50:35+00:00  1.239519e+18   \n",
       " 2        2020-03-16 14:51:29+00:00  1.239565e+18   \n",
       " 3        2020-03-17 00:25:56+00:00  1.239710e+18   \n",
       " 4        2020-03-18 22:18:32+00:00  1.240402e+18   \n",
       " ...                            ...           ...   \n",
       " 3641864  2020-03-22 19:14:17+00:00  1.241805e+18   \n",
       " 3641865  2020-03-22 22:46:12+00:00  1.241859e+18   \n",
       " 3641866  2020-03-24 03:58:23+00:00  1.242300e+18   \n",
       " 3641867  2020-03-24 08:16:37+00:00  1.242365e+18   \n",
       " 3641868  2020-03-24 08:49:45+00:00  1.242373e+18   \n",
       " \n",
       "                                                  full_text  geo place lang  \n",
       " 0        RT @XHNews: Heal the wounded and rescue the dy...  NaN   NaN   en  \n",
       " 1        RT @LeftistUnity: *****CORRECTION*****\\n\\nCoro...  NaN   NaN   en  \n",
       " 2        RT @carolecadwalla: Who is the spokesman? Why ...  NaN   NaN   en  \n",
       " 3        RT @KTLA: Watch live: L.A. Mayor Garcetti prov...  NaN   NaN   en  \n",
       " 4        Love #JudiDench 🧡 #COVID19 #KeepSmiling https:...  NaN   NaN   en  \n",
       " ...                                                    ...  ...   ...  ...  \n",
       " 3641864  @BBCNews no one has mentioned anything about t...  NaN   NaN   en  \n",
       " 3641865  RT @DCMS: During the coronavirus pandemic, peo...  NaN   NaN   en  \n",
       " 3641866   RT @LARGESSE9826: The FBI deserve no more power!  NaN   NaN   en  \n",
       " 3641867  RT @CalebJHull: If you watch one thing on Dems...  NaN   NaN   en  \n",
       " 3641868  RT @MaziIbe_: Don’t pledge anything. Buy what’...  NaN   NaN   en  \n",
       " \n",
       " [3641869 rows x 6 columns],\n",
       "        Unnamed: 0           created_at                   id  \\\n",
       " 0               0  2020-02-28 15:44:49  1233417783175778304   \n",
       " 1               1  2020-02-28 15:44:40  1233417742520332290   \n",
       " 2               2  2020-02-28 15:44:39  1233417741027225602   \n",
       " 3               3  2020-02-28 15:44:29  1233417699264356357   \n",
       " 4               4  2020-02-28 15:44:23  1233417674274807808   \n",
       " ...           ...                  ...                  ...   \n",
       " 33169       60154  2019-12-10 11:49:59  1204367653646848000   \n",
       " 33170       60156  2019-12-10 01:33:34  1204212528810729479   \n",
       " 33171       60157  2019-12-10 01:10:03  1204206609708331009   \n",
       " 33172       60158  2019-12-03 22:57:36  1201998948950577152   \n",
       " 33173       60159  2019-12-01 03:17:00  1200977067266990080   \n",
       " \n",
       "                                                full_text  \\\n",
       " 0      also the entire swiss football league is on ho...   \n",
       " 1      world health org official: trump’s press confe...   \n",
       " 2      i mean, liberals are cheer-leading this #coron...   \n",
       " 3      under repeated questioning, pompeo refuses to ...   \n",
       " 4      #coronavirus comments now from @larry_kudlow h...   \n",
       " ...                                                  ...   \n",
       " 33169  rt @timhquotes: it's my party, you're invited!...   \n",
       " 33170  rt @timhquotes: it's my party, you're invited!...   \n",
       " 33171  it's my party, you're invited!\\n\\nps, this is ...   \n",
       " 33172  amy’s a survivor! #bariclab #pnnl #movingon #c...   \n",
       " 33173  a review of asymptomatic and sub-clinical midd...   \n",
       " \n",
       "                                     place  \n",
       " 0                                     NaN  \n",
       " 1                      Los Angeles CA USA  \n",
       " 2                               Miami, FL  \n",
       " 3                  NYC and the North Fork  \n",
       " 4      James S. Brady Press Briefing Room  \n",
       " ...                                   ...  \n",
       " 33169               The Lair of the Beast  \n",
       " 33170                                 NaN  \n",
       " 33171                    Jackson Hole, WY  \n",
       " 33172                     Chapel Hill, NC  \n",
       " 33173                                 USA  \n",
       " \n",
       " [33174 rows x 5 columns],\n",
       "                         created_at            id  \\\n",
       " 0        2020-03-26 02:52:40+00:00  1.243008e+18   \n",
       " 1        2020-03-26 09:10:44+00:00  1.243103e+18   \n",
       " 2        2020-03-27 09:50:44+00:00  1.243476e+18   \n",
       " 3        2020-03-28 06:14:13+00:00  1.243783e+18   \n",
       " 4        2020-03-28 07:28:57+00:00  1.243802e+18   \n",
       " ...                            ...           ...   \n",
       " 3455271  2020-03-24 18:37:17+00:00  1.242521e+18   \n",
       " 3455272  2020-03-25 00:13:10+00:00  1.242605e+18   \n",
       " 3455273  2020-03-25 05:58:30+00:00  1.242692e+18   \n",
       " 3455274  2020-03-26 07:52:47+00:00  1.243083e+18   \n",
       " 3455275  2020-03-26 08:19:20+00:00  1.243090e+18   \n",
       " \n",
       "                                                  full_text  geo place lang  \n",
       " 0        RT @olgaNYC1211: Retweeting this because the a...  NaN   NaN   en  \n",
       " 1        The latest The News Daily! https://t.co/pod0Z9...  NaN   NaN   en  \n",
       " 2        RT @barstoolsports: Taylor Swift Is Sending Fa...  NaN   NaN   en  \n",
       " 3        @HootPhD What the hell got into her? I don't g...  NaN   NaN   en  \n",
       " 4        RT @DrZweliMkhize: #Lockdown Update : Transpor...  NaN   NaN   en  \n",
       " ...                                                    ...  ...   ...  ...  \n",
       " 3455271  RT @charliekirk11: This is your daily reminder...  NaN   NaN   en  \n",
       " 3455272  RT @Reuters: Apple expects to start reopening ...  NaN   NaN   en  \n",
       " 3455273  RT @dbongino: TDS infected moron implying that...  NaN   NaN   en  \n",
       " 3455274  RT @jeffwellz: What I find worrying is that, e...  NaN   NaN   en  \n",
       " 3455275  RT @t_hicksnelson: COVID-19 is a cruel virus. ...  NaN   NaN   en  \n",
       " \n",
       " [3455276 rows x 6 columns],\n",
       "                         created_at            id  \\\n",
       " 0        2020-03-06 00:10:19+00:00  1.235719e+18   \n",
       " 1        2020-03-06 09:51:02+00:00  1.235865e+18   \n",
       " 2        2020-03-07 05:36:27+00:00  1.236164e+18   \n",
       " 3        2020-03-09 22:56:58+00:00  1.237150e+18   \n",
       " 4        2020-03-11 02:14:19+00:00  1.237562e+18   \n",
       " ...                            ...           ...   \n",
       " 3453079  2020-04-02 12:33:53+00:00  1.245691e+18   \n",
       " 3453080  2020-04-02 16:23:34+00:00  1.245749e+18   \n",
       " 3453081  2020-04-02 19:44:56+00:00  1.245799e+18   \n",
       " 3453082  2020-04-02 19:55:40+00:00  1.245802e+18   \n",
       " 3453083  2020-04-03 23:24:37+00:00  1.246217e+18   \n",
       " \n",
       "                                                  full_text  geo place lang  \n",
       " 0        RT @JaneLytv: 5. Unfollow the twitter account ...  NaN   NaN   en  \n",
       " 1        RT @AliyaAlwani: Coronavirus most common sympt...  NaN   NaN   en  \n",
       " 2        RT @TulsiGabbard: South Korea has the ability ...  NaN   NaN   en  \n",
       " 3        RT @BpRobertReed: O God, protect us against th...  NaN   NaN   en  \n",
       " 4        RT @tastefullytayy: Coronavirus has crossed th...  NaN   NaN   en  \n",
       " ...                                                    ...  ...   ...  ...  \n",
       " 3453079  RT @agoodfireburns: Weird right, how sending o...  NaN   NaN   en  \n",
       " 3453080  RT @ResourceDesk: Serbia: Other manipulation i...  NaN   NaN   en  \n",
       " 3453081  RT @RepRubenGallego: Tribal communities will s...  NaN   NaN   en  \n",
       " 3453082  RT @LulBit_ME: After COVID-19 ... i promise y’...  NaN   NaN   en  \n",
       " 3453083  RT @weijia: Jared Kushner is in charge of the ...  NaN   NaN   en  \n",
       " \n",
       " [3453084 rows x 6 columns],\n",
       "                         created_at            id  \\\n",
       " 0        2020-03-26 01:09:44+00:00  1.242982e+18   \n",
       " 1        2020-03-26 19:32:08+00:00  1.243259e+18   \n",
       " 2        2020-03-26 22:28:36+00:00  1.243304e+18   \n",
       " 3        2020-03-29 20:42:08+00:00  1.244364e+18   \n",
       " 4        2020-03-30 07:04:37+00:00  1.244521e+18   \n",
       " ...                            ...           ...   \n",
       " 3491466  2020-03-17 10:57:07+00:00  1.239868e+18   \n",
       " 3491467  2020-03-17 20:43:57+00:00  1.240016e+18   \n",
       " 3491468  2020-03-18 00:31:54+00:00  1.240073e+18   \n",
       " 3491469  2020-03-18 03:59:15+00:00  1.240126e+18   \n",
       " 3491470  2020-03-18 04:12:52+00:00  1.240129e+18   \n",
       " \n",
       "                                                  full_text  geo place lang  \n",
       " 0        @realDonaldTrump Georgia hospital worker with ...  NaN   NaN   en  \n",
       " 1        @MamataOfficial @RP_SanjivGoenka \\nCant this t...  NaN   NaN   en  \n",
       " 2        RT @Albion_Rover: Only the @BBCNews could come...  NaN   NaN   en  \n",
       " 3        Jefferies Group said Chief Financial Officer P...  NaN   NaN   en  \n",
       " 4        The most animal unfriendly country in the worl...  NaN   NaN   en  \n",
       " ...                                                    ...  ...   ...  ...  \n",
       " 3491466  RT @FC_Australia: FCA wish Head Coaches Ufuk T...  NaN   NaN   en  \n",
       " 3491467  RT @wojespn: Four Nets have tested positive fo...  NaN   NaN   en  \n",
       " 3491468  RT @JackMa: The first shipment of masks and co...  NaN   NaN   en  \n",
       " 3491469  RT @slpng_giants: If you live in Michigan and ...  NaN   NaN   en  \n",
       " 3491470  RT @GlennKesslerWP: This tweet was just eight ...  NaN   NaN   en  \n",
       " \n",
       " [3491471 rows x 6 columns],\n",
       "                         created_at            id  \\\n",
       " 0        2020-03-13 10:51:06+00:00  1.238417e+18   \n",
       " 1        2020-03-14 11:46:53+00:00  1.238794e+18   \n",
       " 2        2020-03-14 12:22:11+00:00  1.238803e+18   \n",
       " 3        2020-03-14 15:03:49+00:00  1.238843e+18   \n",
       " 4        2020-03-15 06:55:33+00:00  1.239083e+18   \n",
       " ...                            ...           ...   \n",
       " 3550721  2020-03-16 06:45:03+00:00  1.239443e+18   \n",
       " 3550722  2020-03-18 04:33:05+00:00  1.240134e+18   \n",
       " 3550723  2020-03-18 21:47:56+00:00  1.240395e+18   \n",
       " 3550724  2020-03-19 09:41:13+00:00  1.240574e+18   \n",
       " 3550725  2020-03-19 11:53:01+00:00  1.240607e+18   \n",
       " \n",
       "                                                  full_text  geo place lang  \n",
       " 0        RT @AgentPjr: Something is definitely wrong. T...  NaN   NaN   en  \n",
       " 1        RT @WannaBeReeceJr: niggas saw that hockey cou...  NaN   NaN   en  \n",
       " 2        RT @ZainSugieres: the legend is back and now h...  NaN   NaN   en  \n",
       " 3        RT @6ixbuzztv: Canada's first COVID-19 vaccine...  NaN   NaN   en  \n",
       " 4        RT @knyde: Girls will survive COVID-19 bc they...  NaN   NaN   en  \n",
       " ...                                                    ...  ...   ...  ...  \n",
       " 3550721  RT @DavidHenigUK: Written about government han...  NaN   NaN   en  \n",
       " 3550722  RT @ikaveri: Here's an unexpected side effect ...  NaN   NaN   en  \n",
       " 3550723  RT @shezALibra: This poor man is going to die ...  NaN   NaN   en  \n",
       " 3550724  RT @baeonda: I’m 22 years old and I tested pos...  NaN   NaN   en  \n",
       " 3550725  RT @News24: 6 months in jail for spreading fak...  NaN   NaN   en  \n",
       " \n",
       " [3550726 rows x 6 columns],\n",
       "                         created_at            id  \\\n",
       " 0        2020-03-31 11:29:06+00:00  1.244950e+18   \n",
       " 1        2020-04-01 07:17:21+00:00  1.245249e+18   \n",
       " 2        2020-04-02 05:08:20+00:00  1.245579e+18   \n",
       " 3        2020-04-02 16:36:55+00:00  1.245752e+18   \n",
       " 4        2020-04-02 21:36:25+00:00  1.245827e+18   \n",
       " ...                            ...           ...   \n",
       " 3429984  2020-04-03 18:57:23+00:00  1.246150e+18   \n",
       " 3429985  2020-04-04 01:19:47+00:00  1.246246e+18   \n",
       " 3429986  2020-01-30 12:38:27+00:00  1.222862e+18   \n",
       " 3429987  2020-01-30 17:19:45+00:00  1.222932e+18   \n",
       " 3429988  2020-02-05 07:35:52+00:00  1.224960e+18   \n",
       " \n",
       "                                                  full_text  geo place lang  \n",
       " 0        RT @mikeschussler: Unemployment in Isreal shot...  NaN   NaN   en  \n",
       " 1        RT @ramanmann1974: What has #lockdown supposed...  NaN   NaN   en  \n",
       " 2        RT @RepBobGibbs: This should surprise no one. ...  NaN   NaN   en  \n",
       " 3        This is why we need a better solution than ind...  NaN   NaN   en  \n",
       " 4        But I thought Trump loved the military https:/...  NaN   NaN   en  \n",
       " ...                                                    ...  ...   ...  ...  \n",
       " 3429984  RT @gatewaypundit: Nevada Governor Sisolak Fou...  NaN   NaN   en  \n",
       " 3429985  Wuhan lockdown led to dramatic cut in global s...  NaN   NaN   en  \n",
       " 3429986  RT @jaemrenle: LOL the 3rd coronavirus patient...  NaN   NaN   en  \n",
       " 3429987  RT @Miaa310: This coronavirus going round is n...  NaN   NaN   en  \n",
       " 3429988  BBC News - Coronavirus in Wuhan: ‘We’d rather ...  NaN   NaN   en  \n",
       " \n",
       " [3429989 rows x 6 columns],\n",
       "          Unnamed: 0                 created_at            id  \\\n",
       " 0                 2  2020-03-09 00:00:00+00:00  1.236804e+18   \n",
       " 1                 3  2020-03-09 00:00:14+00:00  1.236804e+18   \n",
       " 2                 4  2020-03-09 00:00:28+00:00  1.236804e+18   \n",
       " 3                 5  2020-03-09 00:00:36+00:00  1.236804e+18   \n",
       " 4                 8  2020-03-09 00:00:42+00:00  1.236804e+18   \n",
       " ...             ...                        ...           ...   \n",
       " 16218874   12247056  2020-03-25 23:59:58+00:00  1.242964e+18   \n",
       " 16218875   12247058  2020-03-25 23:59:59+00:00  1.242964e+18   \n",
       " 16218876   12247062  2020-03-25 23:59:59+00:00  1.242964e+18   \n",
       " 16218877   12247063  2020-03-25 23:59:59+00:00  1.242964e+18   \n",
       " 16218878   12247064  2020-03-25 23:59:59+00:00  1.242964e+18   \n",
       " \n",
       "                                                   full_text place  \n",
       " 0         during a health scare like the #coronavirusout...   NaN  \n",
       " 1         @twitter please update reporting to include fa...   NaN  \n",
       " 2         germ guardian pluggable air purifier &amp; san...   NaN  \n",
       " 3         simple math proves the chinese government is l...   NaN  \n",
       " 4         classes were suspended in the following cities...   NaN  \n",
       " ...                                                     ...   ...  \n",
       " 16218874  hello, it's me... #lockdown #thequeen #primemi...   NaN  \n",
       " 16218875  in the beginning, many of the cases followed a...   NaN  \n",
       " 16218876  ava is done with the house.  she needs some fr...   NaN  \n",
       " 16218877  anyone else notice her timeline?\\nshe tweeting...   NaN  \n",
       " 16218878  @middleageriot where's the priority focus by e...   NaN  \n",
       " \n",
       " [16218879 rows x 5 columns],\n",
       "                         created_at            id  \\\n",
       " 0        2020-03-30 05:44:15+00:00  1.244501e+18   \n",
       " 1        2020-03-30 16:53:42+00:00  1.244669e+18   \n",
       " 2        2020-03-31 08:08:31+00:00  1.244899e+18   \n",
       " 3        2020-03-31 18:38:15+00:00  1.245058e+18   \n",
       " 4        2020-04-01 14:02:26+00:00  1.245351e+18   \n",
       " ...                            ...           ...   \n",
       " 3429373  2020-03-26 17:06:51+00:00  1.243223e+18   \n",
       " 3429374  2020-03-28 00:14:26+00:00  1.243693e+18   \n",
       " 3429375  2020-03-29 08:38:49+00:00  1.244182e+18   \n",
       " 3429376  2020-03-29 21:14:31+00:00  1.244372e+18   \n",
       " 3429377  2020-03-29 23:49:10+00:00  1.244411e+18   \n",
       " \n",
       "                                                  full_text  geo  \\\n",
       " 0        Italy is Lying About Their Coronavirus Death N...  NaN   \n",
       " 1        RT @David_Moscrop: This is like me and my neig...  NaN   \n",
       " 2        RT @ANI: Congress MLA from Arunachal Pradesh, ...  NaN   \n",
       " 3                Of course he did. https://t.co/E6xp8cql7f  NaN   \n",
       " 4        Leftists are attention whores, especially cele...  NaN   \n",
       " ...                                                    ...  ...   \n",
       " 3429373  RT @HeidiNBC: Ab 16% of Ohio’s coronavirus cas...  NaN   \n",
       " 3429374  @HVlovespolitics @sciencechick1 @funder Of cou...  NaN   \n",
       " 3429375  RT @ANI: A 40-year old #Coronavirus patient ha...  NaN   \n",
       " 3429376  RT @PremiumTimesng: JUST IN: Nigeria confirms ...  NaN   \n",
       " 3429377  RT @szirinsky: It is with profound sadness tha...  NaN   \n",
       " \n",
       "                                                      place lang  \n",
       " 0                                                      NaN   en  \n",
       " 1                                                      NaN   en  \n",
       " 2                                                      NaN   en  \n",
       " 3                                                      NaN   en  \n",
       " 4        {'id': '1c67f9d9cbae7f69', 'url': 'https://api...   en  \n",
       " ...                                                    ...  ...  \n",
       " 3429373                                                NaN   en  \n",
       " 3429374                                                NaN   en  \n",
       " 3429375                                                NaN   en  \n",
       " 3429376                                                NaN   en  \n",
       " 3429377                                                NaN   en  \n",
       " \n",
       " [3429378 rows x 6 columns]]"
      ]
     },
     "execution_count": 8,
     "metadata": {},
     "output_type": "execute_result"
    }
   ],
   "source": [
    "all_tweets"
   ]
  },
  {
   "cell_type": "code",
   "execution_count": null,
   "metadata": {},
   "outputs": [],
   "source": []
  },
  {
   "cell_type": "code",
   "execution_count": 51,
   "metadata": {},
   "outputs": [],
   "source": [
    "# Defining a function to pull out tweets that match an entity and adding them to individual files for each entity. The\n",
    "# function runs across the list of all entities and the input is the data file to be used\n",
    "def entity_sorter(file):\n",
    "    df = pd.read_pickle('data/cleaned_tweet_df/'+file+'.csv')\n",
    "    for ent in tqdm(entity_list):\n",
    "        ent_df = df[df['full_text'].str.contains('|'.join(ent), na=False)]\n",
    "        ent_df.to_pickle('data/ent_dfs/'+str(ent[0])+'/'+str(file)+'_'+str(ent[0])+'.csv')"
   ]
  },
  {
   "cell_type": "code",
   "execution_count": 39,
   "metadata": {
    "scrolled": true
   },
   "outputs": [
    {
     "name": "stderr",
     "output_type": "stream",
     "text": [
      "100%|██████████| 21/21 [00:01<00:00, 16.22it/s]\n"
     ]
    }
   ],
   "source": [
    "entity_sorter('small_tweet_set_cleaned')"
   ]
  },
  {
   "cell_type": "code",
   "execution_count": 43,
   "metadata": {},
   "outputs": [
    {
     "name": "stderr",
     "output_type": "stream",
     "text": [
      "100%|██████████| 21/21 [01:30<00:00,  4.29s/it]\n"
     ]
    }
   ],
   "source": [
    "entity_sorter('clean_chunks_7')"
   ]
  },
  {
   "cell_type": "code",
   "execution_count": 44,
   "metadata": {},
   "outputs": [
    {
     "name": "stderr",
     "output_type": "stream",
     "text": [
      "//anaconda3/lib/python3.7/site-packages/IPython/core/interactiveshell.py:3254: DtypeWarning: Columns (3,4,5) have mixed types.Specify dtype option on import or set low_memory=False.\n",
      "  if (await self.run_code(code, result,  async_=asy)):\n",
      "100%|██████████| 21/21 [01:30<00:00,  4.29s/it]\n"
     ]
    }
   ],
   "source": [
    "entity_sorter('clean_chunks_6')"
   ]
  },
  {
   "cell_type": "code",
   "execution_count": 45,
   "metadata": {},
   "outputs": [
    {
     "name": "stderr",
     "output_type": "stream",
     "text": [
      "100%|██████████| 21/21 [01:31<00:00,  4.35s/it]\n"
     ]
    }
   ],
   "source": [
    "entity_sorter('clean_chunks_4')"
   ]
  },
  {
   "cell_type": "code",
   "execution_count": 46,
   "metadata": {},
   "outputs": [
    {
     "name": "stderr",
     "output_type": "stream",
     "text": [
      "100%|██████████| 21/21 [01:30<00:00,  4.31s/it]\n"
     ]
    }
   ],
   "source": [
    "entity_sorter('clean_chunks_5')"
   ]
  },
  {
   "cell_type": "code",
   "execution_count": 47,
   "metadata": {},
   "outputs": [
    {
     "name": "stderr",
     "output_type": "stream",
     "text": [
      "100%|██████████| 21/21 [01:30<00:00,  4.30s/it]\n"
     ]
    }
   ],
   "source": [
    "entity_sorter('clean_chunks_1')"
   ]
  },
  {
   "cell_type": "code",
   "execution_count": 48,
   "metadata": {},
   "outputs": [
    {
     "name": "stderr",
     "output_type": "stream",
     "text": [
      "100%|██████████| 21/21 [01:34<00:00,  4.50s/it]\n"
     ]
    }
   ],
   "source": [
    "entity_sorter('clean_chunks_0')"
   ]
  },
  {
   "cell_type": "code",
   "execution_count": 49,
   "metadata": {},
   "outputs": [
    {
     "name": "stderr",
     "output_type": "stream",
     "text": [
      "100%|██████████| 21/21 [01:29<00:00,  4.28s/it]\n"
     ]
    }
   ],
   "source": [
    "entity_sorter('clean_chunks_2')"
   ]
  },
  {
   "cell_type": "code",
   "execution_count": 50,
   "metadata": {},
   "outputs": [
    {
     "name": "stderr",
     "output_type": "stream",
     "text": [
      "100%|██████████| 21/21 [01:29<00:00,  4.24s/it]\n"
     ]
    }
   ],
   "source": [
    "entity_sorter('clean_chunks_3')"
   ]
  },
  {
   "cell_type": "code",
   "execution_count": 52,
   "metadata": {
    "scrolled": true
   },
   "outputs": [
    {
     "name": "stderr",
     "output_type": "stream",
     "text": [
      "100%|██████████| 21/21 [03:35<00:00, 10.28s/it]\n"
     ]
    }
   ],
   "source": [
    "entity_sorter('clean_kaggle1')"
   ]
  },
  {
   "cell_type": "code",
   "execution_count": 59,
   "metadata": {},
   "outputs": [
    {
     "name": "stderr",
     "output_type": "stream",
     "text": [
      "100%|██████████| 21/21 [02:40<00:00,  7.66s/it]\n"
     ]
    }
   ],
   "source": [
    "entity_sorter('clean_kaggle2')"
   ]
  },
  {
   "cell_type": "code",
   "execution_count": 60,
   "metadata": {},
   "outputs": [
    {
     "name": "stderr",
     "output_type": "stream",
     "text": [
      "100%|██████████| 21/21 [01:51<00:00,  5.32s/it]\n"
     ]
    }
   ],
   "source": [
    "entity_sorter('clean_kaggle3')"
   ]
  },
  {
   "cell_type": "code",
   "execution_count": null,
   "metadata": {},
   "outputs": [],
   "source": []
  },
  {
   "cell_type": "code",
   "execution_count": 153,
   "metadata": {},
   "outputs": [],
   "source": [
    "# Making a list of entity folders to be used for the globbing and joining of datasets for each entity type\n",
    "ent_folders = []\n",
    "\n",
    "def folder_grabber(directory):\n",
    "    folders = os.listdir(directory)\n",
    "    for folder in folders:\n",
    "        #folder = str(folder.replace('.csv','')\n",
    "        ent_folders.append(folder)\n",
    "\n",
    "folder_grabber('data/ent_dfs/')"
   ]
  },
  {
   "cell_type": "code",
   "execution_count": 154,
   "metadata": {
    "scrolled": true
   },
   "outputs": [],
   "source": [
    "#Removing an incorrect file from the folder list\n",
    "ent_folders.remove('.DS_Store')"
   ]
  },
  {
   "cell_type": "code",
   "execution_count": 155,
   "metadata": {},
   "outputs": [
    {
     "data": {
      "text/plain": [
       "['usa',\n",
       " 'cdc',\n",
       " 'nba',\n",
       " 'spain',\n",
       " 'nhs',\n",
       " 'fauci',\n",
       " 'boris',\n",
       " 'china',\n",
       " 'who',\n",
       " 'nfl',\n",
       " 'italy',\n",
       " 'fifa',\n",
       " 'obama',\n",
       " 'whitehouse',\n",
       " 'nhl',\n",
       " 'eu',\n",
       " 'congress',\n",
       " 'trump',\n",
       " 'mlb',\n",
       " 'nyc',\n",
       " 'pelosi']"
      ]
     },
     "execution_count": 155,
     "metadata": {},
     "output_type": "execute_result"
    }
   ],
   "source": [
    "ent_folders"
   ]
  },
  {
   "cell_type": "code",
   "execution_count": 158,
   "metadata": {},
   "outputs": [],
   "source": [
    "# Defining a function to run across the list of files in a given list and concatenate all data together, select only\n",
    "# the needed columns, convert the tweet time column to datetime format, add a week of tweet column, and a single date\n",
    "# to correspond to the week of the tweet\n",
    "def ent_df_joiner(file_list):\n",
    "    df = pd.concat(file_list, ignore_index=True)\n",
    "    df = df[['created_at', 'id', 'full_text', 'place']]\n",
    "    df.created_at = pd.to_datetime(df.created_at, utc=True)\n",
    "    df['week'] = df.created_at.dt.week\n",
    "    df['week_set_day'] = pd.to_datetime('2020', format='%Y') + pd.to_timedelta(df.week.mul(7).astype(str) + ' days')\n",
    "    return df"
   ]
  },
  {
   "cell_type": "code",
   "execution_count": 159,
   "metadata": {},
   "outputs": [
    {
     "name": "stderr",
     "output_type": "stream",
     "text": [
      "  0%|          | 0/21 [00:00<?, ?it/s]\n",
      "  0%|          | 0/12 [00:00<?, ?it/s]\u001b[A\n",
      "  8%|▊         | 1/12 [00:00<00:03,  3.66it/s]\u001b[A\n",
      " 17%|█▋        | 2/12 [00:00<00:02,  3.73it/s]\u001b[A\n",
      " 33%|███▎      | 4/12 [00:01<00:02,  3.11it/s]\u001b[A\n",
      " 42%|████▏     | 5/12 [00:01<00:02,  2.67it/s]\u001b[A\n",
      " 50%|█████     | 6/12 [00:02<00:02,  2.93it/s]\u001b[A\n",
      " 58%|█████▊    | 7/12 [00:02<00:02,  2.29it/s]\u001b[A\n",
      " 67%|██████▋   | 8/12 [00:03<00:01,  2.59it/s]\u001b[A\n",
      " 75%|███████▌  | 9/12 [00:03<00:01,  2.93it/s]\u001b[A\n",
      " 83%|████████▎ | 10/12 [00:03<00:00,  3.11it/s]\u001b[A\n",
      " 92%|█████████▏| 11/12 [00:03<00:00,  3.23it/s]\u001b[A\n",
      "100%|██████████| 12/12 [00:04<00:00,  2.85it/s]\u001b[A\n",
      "  5%|▍         | 1/21 [00:34<11:20, 34.03s/it]\n",
      "  0%|          | 0/12 [00:00<?, ?it/s]\u001b[A\n",
      " 33%|███▎      | 4/12 [00:00<00:00, 32.79it/s]\u001b[A\n",
      "100%|██████████| 12/12 [00:00<00:00, 47.96it/s][A\n",
      " 10%|▉         | 2/21 [00:36<07:44, 24.47s/it]\n",
      "100%|██████████| 12/12 [00:00<00:00, 126.65it/s]\n",
      " 14%|█▍        | 3/21 [00:36<05:11, 17.31s/it]\n",
      "100%|██████████| 12/12 [00:00<00:00, 138.19it/s]\n",
      " 19%|█▉        | 4/21 [00:37<03:30, 12.40s/it]\n",
      "  0%|          | 0/12 [00:00<?, ?it/s]\u001b[A\n",
      "100%|██████████| 12/12 [00:00<00:00, 64.70it/s][A\n",
      " 24%|██▍       | 5/21 [00:39<02:27,  9.25s/it]\n",
      "100%|██████████| 12/12 [00:00<00:00, 150.12it/s]\n",
      " 29%|██▊       | 6/21 [00:40<01:39,  6.65s/it]\n",
      "  0%|          | 0/12 [00:00<?, ?it/s]\u001b[A\n",
      " 42%|████▏     | 5/12 [00:00<00:00, 49.97it/s]\u001b[A\n",
      "100%|██████████| 12/12 [00:00<00:00, 52.22it/s]\u001b[A\n",
      " 33%|███▎      | 7/21 [00:41<01:12,  5.17s/it]\n",
      "  0%|          | 0/12 [00:00<?, ?it/s]\u001b[A\n",
      "  8%|▊         | 1/12 [00:00<00:01,  8.56it/s]\u001b[A\n",
      " 42%|████▏     | 5/12 [00:00<00:00, 11.11it/s]\u001b[A\n",
      "100%|██████████| 12/12 [00:00<00:00, 24.11it/s]\u001b[A\n",
      " 38%|███▊      | 8/21 [00:46<01:05,  5.05s/it]\n",
      "  0%|          | 0/12 [00:00<?, ?it/s]\u001b[A\n",
      "  8%|▊         | 1/12 [00:00<00:01,  8.30it/s]\u001b[A\n",
      " 25%|██▌       | 3/12 [00:00<00:01,  7.35it/s]\u001b[A\n",
      " 33%|███▎      | 4/12 [00:00<00:01,  6.93it/s]\u001b[A\n",
      " 42%|████▏     | 5/12 [00:00<00:01,  5.28it/s]\u001b[A\n",
      " 50%|█████     | 6/12 [00:01<00:01,  5.56it/s]\u001b[A\n",
      " 58%|█████▊    | 7/12 [00:01<00:00,  5.38it/s]\u001b[A\n",
      " 67%|██████▋   | 8/12 [00:01<00:00,  5.88it/s]\u001b[A\n",
      " 75%|███████▌  | 9/12 [00:01<00:00,  6.13it/s]\u001b[A\n",
      " 83%|████████▎ | 10/12 [00:01<00:00,  6.55it/s]\u001b[A\n",
      " 92%|█████████▏| 11/12 [00:01<00:00,  6.76it/s]\u001b[A\n",
      "100%|██████████| 12/12 [00:01<00:00,  6.12it/s]\u001b[A\n",
      " 43%|████▎     | 9/21 [01:02<01:38,  8.23s/it]\n",
      "  0%|          | 0/12 [00:00<?, ?it/s]\u001b[A\n",
      "100%|██████████| 12/12 [00:00<00:00, 63.92it/s][A\n",
      " 48%|████▊     | 10/21 [01:04<01:09,  6.29s/it]\n",
      "  0%|          | 0/12 [00:00<?, ?it/s]\u001b[A\n",
      "  8%|▊         | 1/12 [00:00<00:01,  7.61it/s]\u001b[A\n",
      "100%|██████████| 12/12 [00:00<00:00, 41.88it/s]\u001b[A\n",
      " 52%|█████▏    | 11/21 [01:06<00:50,  5.03s/it]\n",
      "  0%|          | 0/12 [00:00<?, ?it/s]\u001b[A\n",
      "100%|██████████| 12/12 [00:00<00:00, 106.06it/s]A\n",
      " 57%|█████▋    | 12/21 [01:06<00:32,  3.62s/it]\n",
      "100%|██████████| 12/12 [00:00<00:00, 280.69it/s]\n",
      " 62%|██████▏   | 13/21 [01:06<00:20,  2.62s/it]\n",
      "100%|██████████| 12/12 [00:00<00:00, 151.71it/s]\n",
      " 67%|██████▋   | 14/21 [01:07<00:14,  2.01s/it]\n",
      "100%|██████████| 12/12 [00:00<00:00, 239.20it/s]\n",
      " 71%|███████▏  | 15/21 [01:07<00:08,  1.48s/it]\n",
      "  0%|          | 0/12 [00:00<?, ?it/s]\u001b[A\n",
      " 17%|█▋        | 2/12 [00:00<00:00, 19.22it/s]\u001b[A\n",
      " 25%|██▌       | 3/12 [00:00<00:00, 11.75it/s]\u001b[A\n",
      " 42%|████▏     | 5/12 [00:00<00:00, 12.21it/s]\u001b[A\n",
      " 58%|█████▊    | 7/12 [00:00<00:00, 13.47it/s]\u001b[A\n",
      " 83%|████████▎ | 10/12 [00:00<00:00, 15.81it/s]\u001b[A\n",
      "100%|██████████| 12/12 [00:00<00:00, 14.51it/s]\u001b[A\n",
      " 76%|███████▌  | 16/21 [01:14<00:14,  2.98s/it]\n",
      "  0%|          | 0/12 [00:00<?, ?it/s]\u001b[A\n",
      "100%|██████████| 12/12 [00:00<00:00, 56.92it/s][A\n",
      " 81%|████████  | 17/21 [01:14<00:09,  2.32s/it]\n",
      "  0%|          | 0/12 [00:00<?, ?it/s]\u001b[A\n",
      " 17%|█▋        | 2/12 [00:00<00:01,  6.92it/s]\u001b[A\n",
      " 75%|███████▌  | 9/12 [00:00<00:00,  9.05it/s]\u001b[A\n",
      "100%|██████████| 12/12 [00:00<00:00, 15.21it/s]\u001b[A\n",
      " 86%|████████▌ | 18/21 [01:23<00:12,  4.06s/it]\n",
      "100%|██████████| 12/12 [00:00<00:00, 185.76it/s]\n",
      " 90%|█████████ | 19/21 [01:23<00:05,  2.94s/it]\n",
      "  0%|          | 0/12 [00:00<?, ?it/s]\u001b[A\n",
      "100%|██████████| 12/12 [00:00<00:00, 61.79it/s][A\n",
      " 95%|█████████▌| 20/21 [01:25<00:02,  2.57s/it]\n",
      "100%|██████████| 12/12 [00:00<00:00, 194.23it/s]\n",
      "100%|██████████| 21/21 [01:25<00:00,  4.08s/it]\n"
     ]
    }
   ],
   "source": [
    "# Using the list of entity folders, going into each folder individually and joining all the files together using\n",
    "# concatenation and the above function, then exporting the final dataset as a pickle\n",
    "for folder in tqdm(ent_folders):\n",
    "    df_name = str(folder)+'_df'\n",
    "    \n",
    "    list_df = []\n",
    "    \n",
    "    for file in tqdm(glob.glob('data/ent_dfs/'+str(folder)+'/*')):\n",
    "        list_df.append(pd.read_pickle(file))\n",
    "    \n",
    "    list_df = ent_df_joiner(list_df)\n",
    "    \n",
    "    list_df.to_pickle('data/joined_ent_df/'+str(df_name)+'.csv')"
   ]
  }
 ],
 "metadata": {
  "kernelspec": {
   "display_name": "Python 3",
   "language": "python",
   "name": "python3"
  },
  "language_info": {
   "codemirror_mode": {
    "name": "ipython",
    "version": 3
   },
   "file_extension": ".py",
   "mimetype": "text/x-python",
   "name": "python",
   "nbconvert_exporter": "python",
   "pygments_lexer": "ipython3",
   "version": "3.7.3"
  }
 },
 "nbformat": 4,
 "nbformat_minor": 4
}
